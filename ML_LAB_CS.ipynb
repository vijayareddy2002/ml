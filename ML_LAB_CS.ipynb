{
  "cells": [
    {
      "cell_type": "markdown",
      "metadata": {
        "id": "view-in-github",
        "colab_type": "text"
      },
      "source": [
        "<a href=\"https://colab.research.google.com/github/vijayareddy2002/ml/blob/main/ML_LAB_CS.ipynb\" target=\"_parent\"><img src=\"https://colab.research.google.com/assets/colab-badge.svg\" alt=\"Open In Colab\"/></a>"
      ]
    },
    {
      "cell_type": "markdown",
      "metadata": {
        "id": "xsqPWBnaZbYz"
      },
      "source": [
        "#find s"
      ]
    },
    {
      "cell_type": "code",
      "execution_count": null,
      "metadata": {
        "id": "sjGV0xKAQgLq"
      },
      "outputs": [],
      "source": [
        "import pandas as pd\n",
        "import numpy as np"
      ]
    },
    {
      "cell_type": "code",
      "execution_count": null,
      "metadata": {
        "id": "f3fgee5wQnkY"
      },
      "outputs": [],
      "source": [
        "df=pd.read_csv('finds_dset.csv')"
      ]
    },
    {
      "cell_type": "code",
      "execution_count": null,
      "metadata": {
        "colab": {
          "base_uri": "https://localhost:8080/",
          "height": 175
        },
        "id": "NFImVDPZRLYI",
        "outputId": "2d552be2-0c28-467a-819b-154df0cea402"
      },
      "outputs": [
        {
          "output_type": "execute_result",
          "data": {
            "text/plain": [
              "     SKY AIRTEMP HUMIDITY     WIND WATER FORECAST ENJOYSPORT\n",
              "0  Sunny    Warm    Normal  Strong  Warm     Same        Yes\n",
              "1  Sunny    Warm      High  Strong  Warm     Same        Yes\n",
              "2  Rainy    Cold      High  Strong  Warm   Change         No\n",
              "3  Sunny    Warm      High  Strong  Cool   Change        Yes"
            ],
            "text/html": [
              "\n",
              "  <div id=\"df-9680caac-7c38-4dc8-9a78-645a355a8ea5\">\n",
              "    <div class=\"colab-df-container\">\n",
              "      <div>\n",
              "<style scoped>\n",
              "    .dataframe tbody tr th:only-of-type {\n",
              "        vertical-align: middle;\n",
              "    }\n",
              "\n",
              "    .dataframe tbody tr th {\n",
              "        vertical-align: top;\n",
              "    }\n",
              "\n",
              "    .dataframe thead th {\n",
              "        text-align: right;\n",
              "    }\n",
              "</style>\n",
              "<table border=\"1\" class=\"dataframe\">\n",
              "  <thead>\n",
              "    <tr style=\"text-align: right;\">\n",
              "      <th></th>\n",
              "      <th>SKY</th>\n",
              "      <th>AIRTEMP</th>\n",
              "      <th>HUMIDITY</th>\n",
              "      <th>WIND</th>\n",
              "      <th>WATER</th>\n",
              "      <th>FORECAST</th>\n",
              "      <th>ENJOYSPORT</th>\n",
              "    </tr>\n",
              "  </thead>\n",
              "  <tbody>\n",
              "    <tr>\n",
              "      <th>0</th>\n",
              "      <td>Sunny</td>\n",
              "      <td>Warm</td>\n",
              "      <td>Normal</td>\n",
              "      <td>Strong</td>\n",
              "      <td>Warm</td>\n",
              "      <td>Same</td>\n",
              "      <td>Yes</td>\n",
              "    </tr>\n",
              "    <tr>\n",
              "      <th>1</th>\n",
              "      <td>Sunny</td>\n",
              "      <td>Warm</td>\n",
              "      <td>High</td>\n",
              "      <td>Strong</td>\n",
              "      <td>Warm</td>\n",
              "      <td>Same</td>\n",
              "      <td>Yes</td>\n",
              "    </tr>\n",
              "    <tr>\n",
              "      <th>2</th>\n",
              "      <td>Rainy</td>\n",
              "      <td>Cold</td>\n",
              "      <td>High</td>\n",
              "      <td>Strong</td>\n",
              "      <td>Warm</td>\n",
              "      <td>Change</td>\n",
              "      <td>No</td>\n",
              "    </tr>\n",
              "    <tr>\n",
              "      <th>3</th>\n",
              "      <td>Sunny</td>\n",
              "      <td>Warm</td>\n",
              "      <td>High</td>\n",
              "      <td>Strong</td>\n",
              "      <td>Cool</td>\n",
              "      <td>Change</td>\n",
              "      <td>Yes</td>\n",
              "    </tr>\n",
              "  </tbody>\n",
              "</table>\n",
              "</div>\n",
              "      <button class=\"colab-df-convert\" onclick=\"convertToInteractive('df-9680caac-7c38-4dc8-9a78-645a355a8ea5')\"\n",
              "              title=\"Convert this dataframe to an interactive table.\"\n",
              "              style=\"display:none;\">\n",
              "        \n",
              "  <svg xmlns=\"http://www.w3.org/2000/svg\" height=\"24px\"viewBox=\"0 0 24 24\"\n",
              "       width=\"24px\">\n",
              "    <path d=\"M0 0h24v24H0V0z\" fill=\"none\"/>\n",
              "    <path d=\"M18.56 5.44l.94 2.06.94-2.06 2.06-.94-2.06-.94-.94-2.06-.94 2.06-2.06.94zm-11 1L8.5 8.5l.94-2.06 2.06-.94-2.06-.94L8.5 2.5l-.94 2.06-2.06.94zm10 10l.94 2.06.94-2.06 2.06-.94-2.06-.94-.94-2.06-.94 2.06-2.06.94z\"/><path d=\"M17.41 7.96l-1.37-1.37c-.4-.4-.92-.59-1.43-.59-.52 0-1.04.2-1.43.59L10.3 9.45l-7.72 7.72c-.78.78-.78 2.05 0 2.83L4 21.41c.39.39.9.59 1.41.59.51 0 1.02-.2 1.41-.59l7.78-7.78 2.81-2.81c.8-.78.8-2.07 0-2.86zM5.41 20L4 18.59l7.72-7.72 1.47 1.35L5.41 20z\"/>\n",
              "  </svg>\n",
              "      </button>\n",
              "      \n",
              "  <style>\n",
              "    .colab-df-container {\n",
              "      display:flex;\n",
              "      flex-wrap:wrap;\n",
              "      gap: 12px;\n",
              "    }\n",
              "\n",
              "    .colab-df-convert {\n",
              "      background-color: #E8F0FE;\n",
              "      border: none;\n",
              "      border-radius: 50%;\n",
              "      cursor: pointer;\n",
              "      display: none;\n",
              "      fill: #1967D2;\n",
              "      height: 32px;\n",
              "      padding: 0 0 0 0;\n",
              "      width: 32px;\n",
              "    }\n",
              "\n",
              "    .colab-df-convert:hover {\n",
              "      background-color: #E2EBFA;\n",
              "      box-shadow: 0px 1px 2px rgba(60, 64, 67, 0.3), 0px 1px 3px 1px rgba(60, 64, 67, 0.15);\n",
              "      fill: #174EA6;\n",
              "    }\n",
              "\n",
              "    [theme=dark] .colab-df-convert {\n",
              "      background-color: #3B4455;\n",
              "      fill: #D2E3FC;\n",
              "    }\n",
              "\n",
              "    [theme=dark] .colab-df-convert:hover {\n",
              "      background-color: #434B5C;\n",
              "      box-shadow: 0px 1px 3px 1px rgba(0, 0, 0, 0.15);\n",
              "      filter: drop-shadow(0px 1px 2px rgba(0, 0, 0, 0.3));\n",
              "      fill: #FFFFFF;\n",
              "    }\n",
              "  </style>\n",
              "\n",
              "      <script>\n",
              "        const buttonEl =\n",
              "          document.querySelector('#df-9680caac-7c38-4dc8-9a78-645a355a8ea5 button.colab-df-convert');\n",
              "        buttonEl.style.display =\n",
              "          google.colab.kernel.accessAllowed ? 'block' : 'none';\n",
              "\n",
              "        async function convertToInteractive(key) {\n",
              "          const element = document.querySelector('#df-9680caac-7c38-4dc8-9a78-645a355a8ea5');\n",
              "          const dataTable =\n",
              "            await google.colab.kernel.invokeFunction('convertToInteractive',\n",
              "                                                     [key], {});\n",
              "          if (!dataTable) return;\n",
              "\n",
              "          const docLinkHtml = 'Like what you see? Visit the ' +\n",
              "            '<a target=\"_blank\" href=https://colab.research.google.com/notebooks/data_table.ipynb>data table notebook</a>'\n",
              "            + ' to learn more about interactive tables.';\n",
              "          element.innerHTML = '';\n",
              "          dataTable['output_type'] = 'display_data';\n",
              "          await google.colab.output.renderOutput(dataTable, element);\n",
              "          const docLink = document.createElement('div');\n",
              "          docLink.innerHTML = docLinkHtml;\n",
              "          element.appendChild(docLink);\n",
              "        }\n",
              "      </script>\n",
              "    </div>\n",
              "  </div>\n",
              "  "
            ]
          },
          "metadata": {},
          "execution_count": 5
        }
      ],
      "source": [
        "df"
      ]
    },
    {
      "cell_type": "code",
      "execution_count": null,
      "metadata": {
        "id": "u9iGWkLxROsP"
      },
      "outputs": [],
      "source": [
        "arr=np.array(df)"
      ]
    },
    {
      "cell_type": "code",
      "execution_count": null,
      "metadata": {
        "colab": {
          "base_uri": "https://localhost:8080/"
        },
        "id": "i7-0iQeERSz3",
        "outputId": "542ada0b-50fc-499e-9d82-f18865842d8a"
      },
      "outputs": [
        {
          "data": {
            "text/plain": [
              "array([['Sunny', 'Warm', 'Normal', 'Strong', 'Warm', 'Same', 'Yes'],\n",
              "       ['Sunny', 'Warm', 'High', 'Strong', 'Warm', 'Same', 'Yes'],\n",
              "       ['Rainy', 'Cold', 'High', 'Strong', 'Warm', 'Change', 'No'],\n",
              "       ['Sunny', 'Warm', 'High', 'Strong', 'Cool', 'Change', 'Yes']],\n",
              "      dtype=object)"
            ]
          },
          "execution_count": 126,
          "metadata": {},
          "output_type": "execute_result"
        }
      ],
      "source": [
        "arr"
      ]
    },
    {
      "cell_type": "code",
      "execution_count": null,
      "metadata": {
        "id": "eyItPZH_RZt_"
      },
      "outputs": [],
      "source": [
        "#hypothesis h=[pi,pi,pi,pi,pi,pi]\n",
        "h=['pi','pi','pi','pi','pi','pi']\n",
        "h1=np.array(h)"
      ]
    },
    {
      "cell_type": "code",
      "execution_count": null,
      "metadata": {
        "colab": {
          "base_uri": "https://localhost:8080/"
        },
        "id": "YWSZ8xIASCVw",
        "outputId": "e21a30b0-94f7-4227-8e5b-c8f355d1bd3b"
      },
      "outputs": [
        {
          "data": {
            "text/plain": [
              "array(['pi', 'pi', 'pi', 'pi', 'pi', 'pi'], dtype='<U2')"
            ]
          },
          "execution_count": 128,
          "metadata": {},
          "output_type": "execute_result"
        }
      ],
      "source": [
        "h1"
      ]
    },
    {
      "cell_type": "code",
      "execution_count": null,
      "metadata": {
        "colab": {
          "base_uri": "https://localhost:8080/"
        },
        "id": "m43SqxA2YyKS",
        "outputId": "f1abf927-a5ba-46c5-ce50-2d0093f932be"
      },
      "outputs": [
        {
          "data": {
            "text/plain": [
              "4"
            ]
          },
          "execution_count": 129,
          "metadata": {},
          "output_type": "execute_result"
        }
      ],
      "source": [
        "len(arr)"
      ]
    },
    {
      "cell_type": "code",
      "execution_count": null,
      "metadata": {
        "colab": {
          "base_uri": "https://localhost:8080/",
          "height": 130
        },
        "id": "1uG1cEj0SDvI",
        "outputId": "37a334a1-0db0-41df-edb1-8e80f2a9dea6"
      },
      "outputs": [
        {
          "ename": "IndentationError",
          "evalue": "ignored",
          "output_type": "error",
          "traceback": [
            "\u001b[0;36m  File \u001b[0;32m\"<tokenize>\"\u001b[0;36m, line \u001b[0;32m13\u001b[0m\n\u001b[0;31m    print(h)\u001b[0m\n\u001b[0m    ^\u001b[0m\n\u001b[0;31mIndentationError\u001b[0m\u001b[0;31m:\u001b[0m unindent does not match any outer indentation level\n"
          ]
        }
      ],
      "source": [
        "def finds(arr,h):\n",
        "   for i in range(0,len(arr)):\n",
        "   #print(arr[i][-1])\n",
        "      if(arr[i][-1]==\"Yes\"):\n",
        "          for j in range(0,len(arr[i])-1):\n",
        "           #print(i,j,arr[i][j],h[j])\n",
        "              if(arr[i][j]!=h[j] and i==0 and h[j]=='pi'):#setp1\n",
        "                   h[j]=arr[i][j]\n",
        "              elif(arr[i][j]!=h[j] and i!=0):\n",
        "                   h[j]=\"?\"\n",
        "      if(i==0):\n",
        "            print(\"initial hypothesis:\",h)\n",
        "     print(h)\n",
        "\n",
        "\n"
      ]
    },
    {
      "cell_type": "code",
      "execution_count": null,
      "metadata": {
        "id": "bGvrAMTjZTZp"
      },
      "outputs": [],
      "source": [
        "print(\"final hypothesis is :\")\n",
        "finds(arr,h)"
      ]
    },
    {
      "cell_type": "markdown",
      "metadata": {
        "id": "rIia7nNJc6wL"
      },
      "source": [
        "#candidate elimination\n",
        "https://www.goeduhub.com/3112/demonstrate-and-implement-candidate-elimination-algorithm"
      ]
    },
    {
      "cell_type": "code",
      "execution_count": null,
      "metadata": {
        "id": "unhSm5G0p1WO"
      },
      "outputs": [],
      "source": [
        "def finds(arr,h):\n",
        "   for i in range(0,len(arr)):\n",
        "   #print(arr[i][-1])\n",
        "      if(arr[i][-1]==\"Yes\"):\n",
        "          for j in range(0,len(arr[i])-1):\n",
        "           #print(i,j,arr[i][j],h[j])\n",
        "              if(arr[i][j]!=h[j] and i==0 and h[j]=='pi'):#setp1\n",
        "                   h[j]=arr[i][j]\n",
        "              elif(arr[i][j]!=h[j] and i!=0):\n",
        "                   h[j]=\"?\"\n",
        "   return h"
      ]
    },
    {
      "cell_type": "code",
      "execution_count": null,
      "metadata": {
        "id": "NNHj8Hcuc9V5"
      },
      "outputs": [],
      "source": [
        "#read dataset\n",
        "df=pd.read_csv('finds_dset.csv')"
      ]
    },
    {
      "cell_type": "code",
      "execution_count": null,
      "metadata": {
        "colab": {
          "base_uri": "https://localhost:8080/",
          "height": 175
        },
        "id": "UpsPISaQnfHp",
        "outputId": "f8b645cd-0c48-411f-e3e3-66db8862e78c"
      },
      "outputs": [
        {
          "output_type": "execute_result",
          "data": {
            "text/plain": [
              "     SKY AIRTEMP HUMIDITY     WIND WATER FORECAST ENJOYSPORT\n",
              "0  Sunny    Warm    Normal  Strong  Warm     Same        Yes\n",
              "1  Sunny    Warm      High  Strong  Warm     Same        Yes\n",
              "2  Rainy    Cold      High  Strong  Warm   Change         No\n",
              "3  Sunny    Warm      High  Strong  Cool   Change        Yes"
            ],
            "text/html": [
              "\n",
              "  <div id=\"df-7d52fb81-735a-4566-9e4e-77e09a4492f3\">\n",
              "    <div class=\"colab-df-container\">\n",
              "      <div>\n",
              "<style scoped>\n",
              "    .dataframe tbody tr th:only-of-type {\n",
              "        vertical-align: middle;\n",
              "    }\n",
              "\n",
              "    .dataframe tbody tr th {\n",
              "        vertical-align: top;\n",
              "    }\n",
              "\n",
              "    .dataframe thead th {\n",
              "        text-align: right;\n",
              "    }\n",
              "</style>\n",
              "<table border=\"1\" class=\"dataframe\">\n",
              "  <thead>\n",
              "    <tr style=\"text-align: right;\">\n",
              "      <th></th>\n",
              "      <th>SKY</th>\n",
              "      <th>AIRTEMP</th>\n",
              "      <th>HUMIDITY</th>\n",
              "      <th>WIND</th>\n",
              "      <th>WATER</th>\n",
              "      <th>FORECAST</th>\n",
              "      <th>ENJOYSPORT</th>\n",
              "    </tr>\n",
              "  </thead>\n",
              "  <tbody>\n",
              "    <tr>\n",
              "      <th>0</th>\n",
              "      <td>Sunny</td>\n",
              "      <td>Warm</td>\n",
              "      <td>Normal</td>\n",
              "      <td>Strong</td>\n",
              "      <td>Warm</td>\n",
              "      <td>Same</td>\n",
              "      <td>Yes</td>\n",
              "    </tr>\n",
              "    <tr>\n",
              "      <th>1</th>\n",
              "      <td>Sunny</td>\n",
              "      <td>Warm</td>\n",
              "      <td>High</td>\n",
              "      <td>Strong</td>\n",
              "      <td>Warm</td>\n",
              "      <td>Same</td>\n",
              "      <td>Yes</td>\n",
              "    </tr>\n",
              "    <tr>\n",
              "      <th>2</th>\n",
              "      <td>Rainy</td>\n",
              "      <td>Cold</td>\n",
              "      <td>High</td>\n",
              "      <td>Strong</td>\n",
              "      <td>Warm</td>\n",
              "      <td>Change</td>\n",
              "      <td>No</td>\n",
              "    </tr>\n",
              "    <tr>\n",
              "      <th>3</th>\n",
              "      <td>Sunny</td>\n",
              "      <td>Warm</td>\n",
              "      <td>High</td>\n",
              "      <td>Strong</td>\n",
              "      <td>Cool</td>\n",
              "      <td>Change</td>\n",
              "      <td>Yes</td>\n",
              "    </tr>\n",
              "  </tbody>\n",
              "</table>\n",
              "</div>\n",
              "      <button class=\"colab-df-convert\" onclick=\"convertToInteractive('df-7d52fb81-735a-4566-9e4e-77e09a4492f3')\"\n",
              "              title=\"Convert this dataframe to an interactive table.\"\n",
              "              style=\"display:none;\">\n",
              "        \n",
              "  <svg xmlns=\"http://www.w3.org/2000/svg\" height=\"24px\"viewBox=\"0 0 24 24\"\n",
              "       width=\"24px\">\n",
              "    <path d=\"M0 0h24v24H0V0z\" fill=\"none\"/>\n",
              "    <path d=\"M18.56 5.44l.94 2.06.94-2.06 2.06-.94-2.06-.94-.94-2.06-.94 2.06-2.06.94zm-11 1L8.5 8.5l.94-2.06 2.06-.94-2.06-.94L8.5 2.5l-.94 2.06-2.06.94zm10 10l.94 2.06.94-2.06 2.06-.94-2.06-.94-.94-2.06-.94 2.06-2.06.94z\"/><path d=\"M17.41 7.96l-1.37-1.37c-.4-.4-.92-.59-1.43-.59-.52 0-1.04.2-1.43.59L10.3 9.45l-7.72 7.72c-.78.78-.78 2.05 0 2.83L4 21.41c.39.39.9.59 1.41.59.51 0 1.02-.2 1.41-.59l7.78-7.78 2.81-2.81c.8-.78.8-2.07 0-2.86zM5.41 20L4 18.59l7.72-7.72 1.47 1.35L5.41 20z\"/>\n",
              "  </svg>\n",
              "      </button>\n",
              "      \n",
              "  <style>\n",
              "    .colab-df-container {\n",
              "      display:flex;\n",
              "      flex-wrap:wrap;\n",
              "      gap: 12px;\n",
              "    }\n",
              "\n",
              "    .colab-df-convert {\n",
              "      background-color: #E8F0FE;\n",
              "      border: none;\n",
              "      border-radius: 50%;\n",
              "      cursor: pointer;\n",
              "      display: none;\n",
              "      fill: #1967D2;\n",
              "      height: 32px;\n",
              "      padding: 0 0 0 0;\n",
              "      width: 32px;\n",
              "    }\n",
              "\n",
              "    .colab-df-convert:hover {\n",
              "      background-color: #E2EBFA;\n",
              "      box-shadow: 0px 1px 2px rgba(60, 64, 67, 0.3), 0px 1px 3px 1px rgba(60, 64, 67, 0.15);\n",
              "      fill: #174EA6;\n",
              "    }\n",
              "\n",
              "    [theme=dark] .colab-df-convert {\n",
              "      background-color: #3B4455;\n",
              "      fill: #D2E3FC;\n",
              "    }\n",
              "\n",
              "    [theme=dark] .colab-df-convert:hover {\n",
              "      background-color: #434B5C;\n",
              "      box-shadow: 0px 1px 3px 1px rgba(0, 0, 0, 0.15);\n",
              "      filter: drop-shadow(0px 1px 2px rgba(0, 0, 0, 0.3));\n",
              "      fill: #FFFFFF;\n",
              "    }\n",
              "  </style>\n",
              "\n",
              "      <script>\n",
              "        const buttonEl =\n",
              "          document.querySelector('#df-7d52fb81-735a-4566-9e4e-77e09a4492f3 button.colab-df-convert');\n",
              "        buttonEl.style.display =\n",
              "          google.colab.kernel.accessAllowed ? 'block' : 'none';\n",
              "\n",
              "        async function convertToInteractive(key) {\n",
              "          const element = document.querySelector('#df-7d52fb81-735a-4566-9e4e-77e09a4492f3');\n",
              "          const dataTable =\n",
              "            await google.colab.kernel.invokeFunction('convertToInteractive',\n",
              "                                                     [key], {});\n",
              "          if (!dataTable) return;\n",
              "\n",
              "          const docLinkHtml = 'Like what you see? Visit the ' +\n",
              "            '<a target=\"_blank\" href=https://colab.research.google.com/notebooks/data_table.ipynb>data table notebook</a>'\n",
              "            + ' to learn more about interactive tables.';\n",
              "          element.innerHTML = '';\n",
              "          dataTable['output_type'] = 'display_data';\n",
              "          await google.colab.output.renderOutput(dataTable, element);\n",
              "          const docLink = document.createElement('div');\n",
              "          docLink.innerHTML = docLinkHtml;\n",
              "          element.appendChild(docLink);\n",
              "        }\n",
              "      </script>\n",
              "    </div>\n",
              "  </div>\n",
              "  "
            ]
          },
          "metadata": {},
          "execution_count": 9
        }
      ],
      "source": [
        "df"
      ]
    },
    {
      "cell_type": "code",
      "execution_count": null,
      "metadata": {
        "id": "xvax1tR3oEX3"
      },
      "outputs": [],
      "source": [
        "arr=np.array(df)"
      ]
    },
    {
      "cell_type": "code",
      "execution_count": null,
      "metadata": {
        "colab": {
          "base_uri": "https://localhost:8080/"
        },
        "id": "16HewJb6oG8P",
        "outputId": "9ff62057-e837-410e-e296-ac2810e30672"
      },
      "outputs": [
        {
          "output_type": "execute_result",
          "data": {
            "text/plain": [
              "array([['Sunny', 'Warm', 'Normal', 'Strong', 'Warm', 'Same', 'Yes'],\n",
              "       ['Sunny', 'Warm', 'High', 'Strong', 'Warm', 'Same', 'Yes'],\n",
              "       ['Rainy', 'Cold', 'High', 'Strong', 'Warm', 'Change', 'No'],\n",
              "       ['Sunny', 'Warm', 'High', 'Strong', 'Cool', 'Change', 'Yes']],\n",
              "      dtype=object)"
            ]
          },
          "metadata": {},
          "execution_count": 11
        }
      ],
      "source": [
        "arr"
      ]
    },
    {
      "cell_type": "code",
      "execution_count": null,
      "metadata": {
        "id": "vdBM_7LsoxZQ"
      },
      "outputs": [],
      "source": [
        "feature_vector=np.array(df.iloc[:,0:6])"
      ]
    },
    {
      "cell_type": "code",
      "execution_count": null,
      "metadata": {
        "colab": {
          "base_uri": "https://localhost:8080/"
        },
        "id": "y0KzgQ3npNHf",
        "outputId": "c9dcb5c4-aa60-41c1-ae69-6e0c8c546ad1"
      },
      "outputs": [
        {
          "output_type": "execute_result",
          "data": {
            "text/plain": [
              "array([['Sunny', 'Warm', 'Normal', 'Strong', 'Warm', 'Same'],\n",
              "       ['Sunny', 'Warm', 'High', 'Strong', 'Warm', 'Same'],\n",
              "       ['Rainy', 'Cold', 'High', 'Strong', 'Warm', 'Change'],\n",
              "       ['Sunny', 'Warm', 'High', 'Strong', 'Cool', 'Change']],\n",
              "      dtype=object)"
            ]
          },
          "metadata": {},
          "execution_count": 13
        }
      ],
      "source": [
        "feature_vector"
      ]
    },
    {
      "cell_type": "code",
      "execution_count": null,
      "metadata": {
        "id": "B-VYcsfIo7HG"
      },
      "outputs": [],
      "source": [
        "target_vector=np.array(df.iloc[:,-1])"
      ]
    },
    {
      "cell_type": "code",
      "execution_count": null,
      "metadata": {
        "colab": {
          "base_uri": "https://localhost:8080/"
        },
        "id": "Zu4Yn5tOpPy9",
        "outputId": "06a1e8e3-49f2-43b4-93aa-8e7f04719f20"
      },
      "outputs": [
        {
          "output_type": "execute_result",
          "data": {
            "text/plain": [
              "array(['Yes', 'Yes', 'No', 'Yes'], dtype=object)"
            ]
          },
          "metadata": {},
          "execution_count": 15
        }
      ],
      "source": [
        "target_vector"
      ]
    },
    {
      "cell_type": "code",
      "execution_count": null,
      "metadata": {
        "id": "hT6Ht1Q4njoo"
      },
      "outputs": [],
      "source": [
        "#initialize general and specific hypothesis:\n",
        "sp=['pi','pi','pi','pi','pi','pi']\n",
        "gn=[['?' for j in range(len(sp))] for i in range(len(sp))]"
      ]
    },
    {
      "cell_type": "code",
      "execution_count": null,
      "metadata": {
        "colab": {
          "base_uri": "https://localhost:8080/"
        },
        "id": "NZfzhNNen7pf",
        "outputId": "b6631310-18e5-4297-c688-6c54038f6e58"
      },
      "outputs": [
        {
          "output_type": "execute_result",
          "data": {
            "text/plain": [
              "[['?', '?', '?', '?', '?', '?'],\n",
              " ['?', '?', '?', '?', '?', '?'],\n",
              " ['?', '?', '?', '?', '?', '?'],\n",
              " ['?', '?', '?', '?', '?', '?'],\n",
              " ['?', '?', '?', '?', '?', '?'],\n",
              " ['?', '?', '?', '?', '?', '?']]"
            ]
          },
          "metadata": {},
          "execution_count": 17
        }
      ],
      "source": [
        "gn"
      ]
    },
    {
      "cell_type": "code",
      "execution_count": null,
      "metadata": {
        "id": "ax7H-kIKoDzX"
      },
      "outputs": [],
      "source": [
        "def candidate_eliminate(feature_vector,target_vector,sp,gn):\n",
        "  print(\"general hypothesis:\",gn)\n",
        "  print(\"specific hypothesis:\",sp)\n",
        "  for i in range(0,len(feature_vector)):\n",
        "    if(target_vector[i]==\"Yes\"):\n",
        "           for j in range(len(sp)):\n",
        "               if(feature_vector[i][j]!=sp[j] and i==0):\n",
        "                 sp[j]=feature_vector[i][j]\n",
        "               elif(feature_vector[i][j]!=sp[j]):\n",
        "                     sp[j]='?'\n",
        "                     gn[i][j]='?'\n",
        "    if(target_vector[i]==\"No\"):\n",
        "         for j in range(len(sp)):\n",
        "           if(feature_vector[i][i]!=sp[j]):\n",
        "                   gn[j][j]=sp[j]\n",
        "           else:\n",
        "              gn[j][j]='?'\n",
        "  print(sp)\n",
        "  print(gn)\n"
      ]
    },
    {
      "cell_type": "code",
      "execution_count": null,
      "metadata": {
        "colab": {
          "base_uri": "https://localhost:8080/"
        },
        "id": "ayKTtNT5oZ3O",
        "outputId": "daa01c57-a86a-4fb1-f257-9fd1e4167074"
      },
      "outputs": [
        {
          "name": "stdout",
          "output_type": "stream",
          "text": [
            "general hypothesis: [['Sunny', '?', '?', '?', '?', '?'], ['?', 'Warm', '?', '?', '?', '?'], ['Sunny', 'Warm', '?', 'Strong', 'Warm', 'Same'], ['?', '?', '?', 'Strong', '?', '?'], ['?', '?', '?', '?', 'Warm', '?'], ['?', '?', '?', '?', '?', 'Same']]\n",
            "specific hypothesis: ['Sunny', 'Warm', '?', 'Strong', '?', '?']\n",
            "['Sunny', 'Warm', '?', 'Strong', '?', '?']\n",
            "[['Sunny', '?', '?', '?', '?', '?'], ['?', 'Warm', '?', '?', '?', '?'], ['Sunny', 'Warm', '?', 'Strong', 'Warm', 'Same'], ['?', '?', '?', 'Strong', '?', '?'], ['?', '?', '?', '?', 'Warm', '?'], ['?', '?', '?', '?', '?', 'Same']]\n"
          ]
        }
      ],
      "source": [
        "candidate_eliminate(feature_vector,target_vector,sp,gn)"
      ]
    },
    {
      "cell_type": "code",
      "execution_count": null,
      "metadata": {
        "id": "MH-_laR_plTV"
      },
      "outputs": [],
      "source": []
    },
    {
      "cell_type": "markdown",
      "metadata": {
        "id": "NXLiD4mqY6iI"
      },
      "source": [
        "#naivebayes algorithm\n"
      ]
    },
    {
      "cell_type": "code",
      "execution_count": null,
      "metadata": {
        "id": "Dsw4STjnY9NA"
      },
      "outputs": [],
      "source": [
        "import pandas as pd\n",
        "import numpy as np\n"
      ]
    },
    {
      "cell_type": "markdown",
      "metadata": {
        "id": "i1PFZYvYZKPo"
      },
      "source": [
        "https://www.projectpro.io/recipes/split-train-test-data-using-sklearn-and-python"
      ]
    },
    {
      "cell_type": "code",
      "execution_count": null,
      "metadata": {
        "id": "hMKG1_IOZBjJ"
      },
      "outputs": [],
      "source": [
        "from sklearn.model_selection import train_test_split"
      ]
    },
    {
      "cell_type": "code",
      "execution_count": null,
      "metadata": {
        "id": "6Vn8kldfZSkA"
      },
      "outputs": [],
      "source": [
        "df=pd.read_csv('/content/naivebayes.csv')"
      ]
    },
    {
      "cell_type": "code",
      "execution_count": null,
      "metadata": {
        "colab": {
          "base_uri": "https://localhost:8080/",
          "height": 488
        },
        "id": "r-5Z6gauZotA",
        "outputId": "4eddcbc0-c318-47f2-9eab-1d8d0c33645c"
      },
      "outputs": [
        {
          "data": {
            "text/html": [
              "\n",
              "  <div id=\"df-10c1cb3a-faa6-4b74-8067-d155ce05d927\">\n",
              "    <div class=\"colab-df-container\">\n",
              "      <div>\n",
              "<style scoped>\n",
              "    .dataframe tbody tr th:only-of-type {\n",
              "        vertical-align: middle;\n",
              "    }\n",
              "\n",
              "    .dataframe tbody tr th {\n",
              "        vertical-align: top;\n",
              "    }\n",
              "\n",
              "    .dataframe thead th {\n",
              "        text-align: right;\n",
              "    }\n",
              "</style>\n",
              "<table border=\"1\" class=\"dataframe\">\n",
              "  <thead>\n",
              "    <tr style=\"text-align: right;\">\n",
              "      <th></th>\n",
              "      <th>outlook</th>\n",
              "      <th>temperature</th>\n",
              "      <th>humidity</th>\n",
              "      <th>windy</th>\n",
              "      <th>class</th>\n",
              "    </tr>\n",
              "  </thead>\n",
              "  <tbody>\n",
              "    <tr>\n",
              "      <th>0</th>\n",
              "      <td>sunny</td>\n",
              "      <td>hot</td>\n",
              "      <td>high</td>\n",
              "      <td>False</td>\n",
              "      <td>no</td>\n",
              "    </tr>\n",
              "    <tr>\n",
              "      <th>1</th>\n",
              "      <td>sunny</td>\n",
              "      <td>hot</td>\n",
              "      <td>high</td>\n",
              "      <td>True</td>\n",
              "      <td>no</td>\n",
              "    </tr>\n",
              "    <tr>\n",
              "      <th>2</th>\n",
              "      <td>overcast</td>\n",
              "      <td>hot</td>\n",
              "      <td>high</td>\n",
              "      <td>False</td>\n",
              "      <td>yes</td>\n",
              "    </tr>\n",
              "    <tr>\n",
              "      <th>3</th>\n",
              "      <td>rain</td>\n",
              "      <td>mild</td>\n",
              "      <td>high</td>\n",
              "      <td>False</td>\n",
              "      <td>yes</td>\n",
              "    </tr>\n",
              "    <tr>\n",
              "      <th>4</th>\n",
              "      <td>rain</td>\n",
              "      <td>cool</td>\n",
              "      <td>normal</td>\n",
              "      <td>False</td>\n",
              "      <td>yes</td>\n",
              "    </tr>\n",
              "    <tr>\n",
              "      <th>5</th>\n",
              "      <td>rain</td>\n",
              "      <td>cool</td>\n",
              "      <td>normal</td>\n",
              "      <td>True</td>\n",
              "      <td>no</td>\n",
              "    </tr>\n",
              "    <tr>\n",
              "      <th>6</th>\n",
              "      <td>overcast</td>\n",
              "      <td>cool</td>\n",
              "      <td>normal</td>\n",
              "      <td>True</td>\n",
              "      <td>yes</td>\n",
              "    </tr>\n",
              "    <tr>\n",
              "      <th>7</th>\n",
              "      <td>sunny</td>\n",
              "      <td>mild</td>\n",
              "      <td>high</td>\n",
              "      <td>False</td>\n",
              "      <td>no</td>\n",
              "    </tr>\n",
              "    <tr>\n",
              "      <th>8</th>\n",
              "      <td>sunny</td>\n",
              "      <td>cool</td>\n",
              "      <td>normal</td>\n",
              "      <td>False</td>\n",
              "      <td>yes</td>\n",
              "    </tr>\n",
              "    <tr>\n",
              "      <th>9</th>\n",
              "      <td>rain</td>\n",
              "      <td>mild</td>\n",
              "      <td>normal</td>\n",
              "      <td>False</td>\n",
              "      <td>yes</td>\n",
              "    </tr>\n",
              "    <tr>\n",
              "      <th>10</th>\n",
              "      <td>sunny</td>\n",
              "      <td>mild</td>\n",
              "      <td>normal</td>\n",
              "      <td>True</td>\n",
              "      <td>yes</td>\n",
              "    </tr>\n",
              "    <tr>\n",
              "      <th>11</th>\n",
              "      <td>overcast</td>\n",
              "      <td>mild</td>\n",
              "      <td>high</td>\n",
              "      <td>True</td>\n",
              "      <td>yes</td>\n",
              "    </tr>\n",
              "    <tr>\n",
              "      <th>12</th>\n",
              "      <td>overcast</td>\n",
              "      <td>hot</td>\n",
              "      <td>normal</td>\n",
              "      <td>False</td>\n",
              "      <td>yes</td>\n",
              "    </tr>\n",
              "    <tr>\n",
              "      <th>13</th>\n",
              "      <td>rain</td>\n",
              "      <td>mild</td>\n",
              "      <td>high</td>\n",
              "      <td>True</td>\n",
              "      <td>no</td>\n",
              "    </tr>\n",
              "  </tbody>\n",
              "</table>\n",
              "</div>\n",
              "      <button class=\"colab-df-convert\" onclick=\"convertToInteractive('df-10c1cb3a-faa6-4b74-8067-d155ce05d927')\"\n",
              "              title=\"Convert this dataframe to an interactive table.\"\n",
              "              style=\"display:none;\">\n",
              "        \n",
              "  <svg xmlns=\"http://www.w3.org/2000/svg\" height=\"24px\"viewBox=\"0 0 24 24\"\n",
              "       width=\"24px\">\n",
              "    <path d=\"M0 0h24v24H0V0z\" fill=\"none\"/>\n",
              "    <path d=\"M18.56 5.44l.94 2.06.94-2.06 2.06-.94-2.06-.94-.94-2.06-.94 2.06-2.06.94zm-11 1L8.5 8.5l.94-2.06 2.06-.94-2.06-.94L8.5 2.5l-.94 2.06-2.06.94zm10 10l.94 2.06.94-2.06 2.06-.94-2.06-.94-.94-2.06-.94 2.06-2.06.94z\"/><path d=\"M17.41 7.96l-1.37-1.37c-.4-.4-.92-.59-1.43-.59-.52 0-1.04.2-1.43.59L10.3 9.45l-7.72 7.72c-.78.78-.78 2.05 0 2.83L4 21.41c.39.39.9.59 1.41.59.51 0 1.02-.2 1.41-.59l7.78-7.78 2.81-2.81c.8-.78.8-2.07 0-2.86zM5.41 20L4 18.59l7.72-7.72 1.47 1.35L5.41 20z\"/>\n",
              "  </svg>\n",
              "      </button>\n",
              "      \n",
              "  <style>\n",
              "    .colab-df-container {\n",
              "      display:flex;\n",
              "      flex-wrap:wrap;\n",
              "      gap: 12px;\n",
              "    }\n",
              "\n",
              "    .colab-df-convert {\n",
              "      background-color: #E8F0FE;\n",
              "      border: none;\n",
              "      border-radius: 50%;\n",
              "      cursor: pointer;\n",
              "      display: none;\n",
              "      fill: #1967D2;\n",
              "      height: 32px;\n",
              "      padding: 0 0 0 0;\n",
              "      width: 32px;\n",
              "    }\n",
              "\n",
              "    .colab-df-convert:hover {\n",
              "      background-color: #E2EBFA;\n",
              "      box-shadow: 0px 1px 2px rgba(60, 64, 67, 0.3), 0px 1px 3px 1px rgba(60, 64, 67, 0.15);\n",
              "      fill: #174EA6;\n",
              "    }\n",
              "\n",
              "    [theme=dark] .colab-df-convert {\n",
              "      background-color: #3B4455;\n",
              "      fill: #D2E3FC;\n",
              "    }\n",
              "\n",
              "    [theme=dark] .colab-df-convert:hover {\n",
              "      background-color: #434B5C;\n",
              "      box-shadow: 0px 1px 3px 1px rgba(0, 0, 0, 0.15);\n",
              "      filter: drop-shadow(0px 1px 2px rgba(0, 0, 0, 0.3));\n",
              "      fill: #FFFFFF;\n",
              "    }\n",
              "  </style>\n",
              "\n",
              "      <script>\n",
              "        const buttonEl =\n",
              "          document.querySelector('#df-10c1cb3a-faa6-4b74-8067-d155ce05d927 button.colab-df-convert');\n",
              "        buttonEl.style.display =\n",
              "          google.colab.kernel.accessAllowed ? 'block' : 'none';\n",
              "\n",
              "        async function convertToInteractive(key) {\n",
              "          const element = document.querySelector('#df-10c1cb3a-faa6-4b74-8067-d155ce05d927');\n",
              "          const dataTable =\n",
              "            await google.colab.kernel.invokeFunction('convertToInteractive',\n",
              "                                                     [key], {});\n",
              "          if (!dataTable) return;\n",
              "\n",
              "          const docLinkHtml = 'Like what you see? Visit the ' +\n",
              "            '<a target=\"_blank\" href=https://colab.research.google.com/notebooks/data_table.ipynb>data table notebook</a>'\n",
              "            + ' to learn more about interactive tables.';\n",
              "          element.innerHTML = '';\n",
              "          dataTable['output_type'] = 'display_data';\n",
              "          await google.colab.output.renderOutput(dataTable, element);\n",
              "          const docLink = document.createElement('div');\n",
              "          docLink.innerHTML = docLinkHtml;\n",
              "          element.appendChild(docLink);\n",
              "        }\n",
              "      </script>\n",
              "    </div>\n",
              "  </div>\n",
              "  "
            ],
            "text/plain": [
              "     outlook temperature humidity  windy class\n",
              "0      sunny         hot     high  False    no\n",
              "1      sunny         hot     high   True    no\n",
              "2   overcast         hot     high  False   yes\n",
              "3       rain        mild     high  False   yes\n",
              "4       rain        cool   normal  False   yes\n",
              "5       rain        cool   normal   True    no\n",
              "6   overcast        cool   normal   True   yes\n",
              "7      sunny        mild     high  False    no\n",
              "8      sunny        cool   normal  False   yes\n",
              "9       rain        mild   normal  False   yes\n",
              "10     sunny        mild   normal   True   yes\n",
              "11  overcast        mild     high   True   yes\n",
              "12  overcast         hot   normal  False   yes\n",
              "13      rain        mild     high   True    no"
            ]
          },
          "execution_count": 4,
          "metadata": {},
          "output_type": "execute_result"
        }
      ],
      "source": [
        "df"
      ]
    },
    {
      "cell_type": "code",
      "execution_count": null,
      "metadata": {
        "colab": {
          "base_uri": "https://localhost:8080/"
        },
        "id": "PO8R4eQPZq7w",
        "outputId": "c48019bd-0910-473b-a047-cf34e1328db8"
      },
      "outputs": [
        {
          "name": "stdout",
          "output_type": "stream",
          "text": [
            "0      no\n",
            "1      no\n",
            "2     yes\n",
            "3     yes\n",
            "4     yes\n",
            "5      no\n",
            "6     yes\n",
            "7      no\n",
            "8     yes\n",
            "9     yes\n",
            "10    yes\n",
            "11    yes\n",
            "12    yes\n",
            "13     no\n",
            "Name: class, dtype: object\n"
          ]
        }
      ],
      "source": [
        "y=df['class']\n",
        "print(y)"
      ]
    },
    {
      "cell_type": "code",
      "execution_count": null,
      "metadata": {
        "colab": {
          "background_save": true
        },
        "id": "zplNUjGVaACo"
      },
      "outputs": [],
      "source": [
        "df1=df.drop('class',axis=1)"
      ]
    },
    {
      "cell_type": "code",
      "execution_count": null,
      "metadata": {
        "id": "7ylZsCP8aQ1w"
      },
      "outputs": [],
      "source": []
    },
    {
      "cell_type": "markdown",
      "source": [
        "#naive bayes\n"
      ],
      "metadata": {
        "id": "DmnOWiSQSAXR"
      }
    },
    {
      "cell_type": "code",
      "source": [
        "import pandas as pd\n",
        "import numpy as np"
      ],
      "metadata": {
        "id": "BdM_-JCJSCuY"
      },
      "execution_count": null,
      "outputs": []
    },
    {
      "cell_type": "code",
      "source": [
        "df=pd.read_csv('vijaya.csv')"
      ],
      "metadata": {
        "id": "r-GiawYXSPEP"
      },
      "execution_count": null,
      "outputs": []
    },
    {
      "cell_type": "code",
      "source": [
        "df"
      ],
      "metadata": {
        "id": "vq2bLb2tSQvX"
      },
      "execution_count": null,
      "outputs": []
    },
    {
      "cell_type": "code",
      "source": [
        "x_train=df[:9]"
      ],
      "metadata": {
        "id": "jbzn7s7hST8P"
      },
      "execution_count": null,
      "outputs": []
    },
    {
      "cell_type": "code",
      "source": [
        "x_train"
      ],
      "metadata": {
        "id": "EMl6T1AXSUrh"
      },
      "execution_count": null,
      "outputs": []
    },
    {
      "cell_type": "code",
      "source": [
        "y_train"
      ],
      "metadata": {
        "id": "Vi7neBd3SWOn"
      },
      "execution_count": null,
      "outputs": []
    },
    {
      "cell_type": "code",
      "source": [
        "x_test=df[10:]"
      ],
      "metadata": {
        "id": "UUu2sdMhSYPP"
      },
      "execution_count": null,
      "outputs": []
    },
    {
      "cell_type": "code",
      "source": [
        "#calculating prior probabilities in training\n",
        "cy1=x_train.loc[x_train['class']=='yes'].index.to_list()"
      ],
      "metadata": {
        "id": "KG5zeb79SaRH"
      },
      "execution_count": null,
      "outputs": []
    },
    {
      "cell_type": "code",
      "source": [
        "cy=len(cy1)"
      ],
      "metadata": {
        "id": "oKOS4GngSb54"
      },
      "execution_count": null,
      "outputs": []
    },
    {
      "cell_type": "code",
      "source": [
        "zc=x_train.index.to_list()"
      ],
      "metadata": {
        "id": "qYqGN2ovSdRH"
      },
      "execution_count": null,
      "outputs": []
    },
    {
      "cell_type": "code",
      "source": [
        "z=len(zc)"
      ],
      "metadata": {
        "id": "xMlhYmakSeqf"
      },
      "execution_count": null,
      "outputs": []
    },
    {
      "cell_type": "code",
      "source": [
        "py=cy/z"
      ],
      "metadata": {
        "id": "t1SE0VciSf_4"
      },
      "execution_count": null,
      "outputs": []
    },
    {
      "cell_type": "code",
      "source": [
        "py"
      ],
      "metadata": {
        "id": "cxglu3QySizI"
      },
      "execution_count": null,
      "outputs": []
    },
    {
      "cell_type": "code",
      "source": [
        "#calculating prior probabilities in training\n",
        "cn1=x_train.loc[x_train['class']=='no'].index.to_list()"
      ],
      "metadata": {
        "id": "bJp7yMSDSlLQ"
      },
      "execution_count": null,
      "outputs": []
    },
    {
      "cell_type": "code",
      "source": [
        "cn=len(cn1)"
      ],
      "metadata": {
        "id": "Pdk5SipzSnUX"
      },
      "execution_count": null,
      "outputs": []
    },
    {
      "cell_type": "code",
      "source": [
        "zn=x_train.index.to_list()"
      ],
      "metadata": {
        "id": "sWI-PW0YSodo"
      },
      "execution_count": null,
      "outputs": []
    },
    {
      "cell_type": "code",
      "source": [
        "z=len(zn)"
      ],
      "metadata": {
        "id": "uv0SmTA_Sp6f"
      },
      "execution_count": null,
      "outputs": []
    },
    {
      "cell_type": "code",
      "source": [
        "pn=cn/z"
      ],
      "metadata": {
        "id": "l7tnFqvLSrK_"
      },
      "execution_count": null,
      "outputs": []
    },
    {
      "cell_type": "code",
      "source": [
        "pn"
      ],
      "metadata": {
        "id": "0bLqkxM2Ssaq"
      },
      "execution_count": null,
      "outputs": []
    },
    {
      "cell_type": "code",
      "source": [
        "a=np.array(x_test)"
      ],
      "metadata": {
        "id": "pe8tzAUeStrv"
      },
      "execution_count": null,
      "outputs": []
    },
    {
      "cell_type": "code",
      "source": [
        "cls=df1.columns\n",
        "print(cls)\n",
        "d={}\n",
        "for i in range(0,len(cls)):\n",
        "    l=df1[cls[i]].unique()\n",
        "    for j in range(0,len(l)):\n",
        "        s1=x_train.loc[(x_train[cls[i]]==l[j])  &  (x_train['class']==\"yes\")].index.to_list()\n",
        "        r1=len(s1)\n",
        "        s2=x_train.loc[(x_train[cls[i]]==l[j]) & (x_train['class']==\"no\")].index.to_list()\n",
        "        r2=len(s2)\n",
        "        d.update({l[j]:[r1/cy,r2/cn]})\n",
        "\n"
      ],
      "metadata": {
        "id": "HXONkiIZSvX3"
      },
      "execution_count": null,
      "outputs": []
    },
    {
      "cell_type": "code",
      "source": [
        "d"
      ],
      "metadata": {
        "id": "fOIzNJxCSxZw"
      },
      "execution_count": null,
      "outputs": []
    },
    {
      "cell_type": "code",
      "source": [
        "def naivebayes(d,u,py,ps):\n",
        "    yes_s=py\n",
        "    no_s=pn\n",
        "    for i in range(0,len(u)):\n",
        "        k=d[u[i]]\n",
        "        yes_s=yes_s*k[0]\n",
        "        no_s=no_s*k[1]\n",
        "    if(yes_s>no_s):\n",
        "        return \"yes\"\n",
        "    else:\n",
        "        return \"no\""
      ],
      "metadata": {
        "id": "4V7WN1XwSzsP"
      },
      "execution_count": null,
      "outputs": []
    },
    {
      "cell_type": "code",
      "source": [
        "predicted_label=[]\n",
        "for i in range(0,len(a)):\n",
        "    if(a[i][-1]==\"yes\"):\n",
        "        a[i][-1]=True\n",
        "    else:\n",
        "        a[i][-1]=False\n",
        "    z2=naivebayes(d,a[i],py,pn)\n",
        "    predicted_label.append(z2)"
      ],
      "metadata": {
        "id": "hHjNQ5I9S1Zv"
      },
      "execution_count": null,
      "outputs": []
    },
    {
      "cell_type": "code",
      "source": [
        "predicted_label"
      ],
      "metadata": {
        "id": "3AlPUZ1HS4Vw"
      },
      "execution_count": null,
      "outputs": []
    },
    {
      "cell_type": "code",
      "source": [
        "actual_class=x_test['class']"
      ],
      "metadata": {
        "id": "7utPkMphS6Sf"
      },
      "execution_count": null,
      "outputs": []
    },
    {
      "cell_type": "code",
      "source": [
        "from sklearn.metrics import accuracy_score\n",
        "z=sklearn.metrics.accuracy_score(actual_class, predicted_label)"
      ],
      "metadata": {
        "id": "y1gY56qfS7rx"
      },
      "execution_count": null,
      "outputs": []
    },
    {
      "cell_type": "code",
      "source": [
        "from sklearn.metrics import confusion_matrix\n",
        "confusion_matrix(actual_class, predicted_label)"
      ],
      "metadata": {
        "id": "uE3FPdeJS-Dv"
      },
      "execution_count": null,
      "outputs": []
    },
    {
      "cell_type": "markdown",
      "source": [
        "#text classification"
      ],
      "metadata": {
        "id": "l4aS87cig9kH"
      }
    },
    {
      "cell_type": "code",
      "source": [
        "import pandas as pd\n",
        "import numpy as np"
      ],
      "metadata": {
        "id": "t_MBUHKeg_9Y"
      },
      "execution_count": null,
      "outputs": []
    },
    {
      "cell_type": "code",
      "source": [
        "df=pd.read_csv('/content/text_ml.csv', encoding='cp1252')"
      ],
      "metadata": {
        "id": "h1nt8DwahEMH"
      },
      "execution_count": null,
      "outputs": []
    },
    {
      "cell_type": "code",
      "source": [
        "df"
      ],
      "metadata": {
        "colab": {
          "base_uri": "https://localhost:8080/",
          "height": 614
        },
        "id": "AHIA_MZshWHy",
        "outputId": "7c554b13-e13b-4cb6-9216-5a214d124774"
      },
      "execution_count": null,
      "outputs": [
        {
          "output_type": "execute_result",
          "data": {
            "text/plain": [
              "                           Text Documents Label\n",
              "0                    I love this sandwich   pos\n",
              "1                This is an amazing place   pos\n",
              "2      I feel very good about these beers   pos\n",
              "3                    This is my best work   pos\n",
              "4                    What an awesome view   pos\n",
              "5           I do not like this restaurant   neg\n",
              "6                I am tired of this stuff   neg\n",
              "7                  I can’t deal with this   neg\n",
              "8                    He is my sworn enemy   neg\n",
              "9                     My boss is horrible   neg\n",
              "10               This is an awesome place   pos\n",
              "11  I do not like the taste of this juice   neg\n",
              "12                        I love to dance   pos\n",
              "13      I am sick and tired of this place   neg\n",
              "14                   What a great holiday   pos\n",
              "15         That is a bad locality to stay   neg\n",
              "16         We will have good fun tomorrow   pos\n",
              "17       I went to my enemy’s house today   neg"
            ],
            "text/html": [
              "\n",
              "  <div id=\"df-7697eff2-070f-4c61-b0fc-2108037b8281\">\n",
              "    <div class=\"colab-df-container\">\n",
              "      <div>\n",
              "<style scoped>\n",
              "    .dataframe tbody tr th:only-of-type {\n",
              "        vertical-align: middle;\n",
              "    }\n",
              "\n",
              "    .dataframe tbody tr th {\n",
              "        vertical-align: top;\n",
              "    }\n",
              "\n",
              "    .dataframe thead th {\n",
              "        text-align: right;\n",
              "    }\n",
              "</style>\n",
              "<table border=\"1\" class=\"dataframe\">\n",
              "  <thead>\n",
              "    <tr style=\"text-align: right;\">\n",
              "      <th></th>\n",
              "      <th>Text Documents</th>\n",
              "      <th>Label</th>\n",
              "    </tr>\n",
              "  </thead>\n",
              "  <tbody>\n",
              "    <tr>\n",
              "      <th>0</th>\n",
              "      <td>I love this sandwich</td>\n",
              "      <td>pos</td>\n",
              "    </tr>\n",
              "    <tr>\n",
              "      <th>1</th>\n",
              "      <td>This is an amazing place</td>\n",
              "      <td>pos</td>\n",
              "    </tr>\n",
              "    <tr>\n",
              "      <th>2</th>\n",
              "      <td>I feel very good about these beers</td>\n",
              "      <td>pos</td>\n",
              "    </tr>\n",
              "    <tr>\n",
              "      <th>3</th>\n",
              "      <td>This is my best work</td>\n",
              "      <td>pos</td>\n",
              "    </tr>\n",
              "    <tr>\n",
              "      <th>4</th>\n",
              "      <td>What an awesome view</td>\n",
              "      <td>pos</td>\n",
              "    </tr>\n",
              "    <tr>\n",
              "      <th>5</th>\n",
              "      <td>I do not like this restaurant</td>\n",
              "      <td>neg</td>\n",
              "    </tr>\n",
              "    <tr>\n",
              "      <th>6</th>\n",
              "      <td>I am tired of this stuff</td>\n",
              "      <td>neg</td>\n",
              "    </tr>\n",
              "    <tr>\n",
              "      <th>7</th>\n",
              "      <td>I can’t deal with this</td>\n",
              "      <td>neg</td>\n",
              "    </tr>\n",
              "    <tr>\n",
              "      <th>8</th>\n",
              "      <td>He is my sworn enemy</td>\n",
              "      <td>neg</td>\n",
              "    </tr>\n",
              "    <tr>\n",
              "      <th>9</th>\n",
              "      <td>My boss is horrible</td>\n",
              "      <td>neg</td>\n",
              "    </tr>\n",
              "    <tr>\n",
              "      <th>10</th>\n",
              "      <td>This is an awesome place</td>\n",
              "      <td>pos</td>\n",
              "    </tr>\n",
              "    <tr>\n",
              "      <th>11</th>\n",
              "      <td>I do not like the taste of this juice</td>\n",
              "      <td>neg</td>\n",
              "    </tr>\n",
              "    <tr>\n",
              "      <th>12</th>\n",
              "      <td>I love to dance</td>\n",
              "      <td>pos</td>\n",
              "    </tr>\n",
              "    <tr>\n",
              "      <th>13</th>\n",
              "      <td>I am sick and tired of this place</td>\n",
              "      <td>neg</td>\n",
              "    </tr>\n",
              "    <tr>\n",
              "      <th>14</th>\n",
              "      <td>What a great holiday</td>\n",
              "      <td>pos</td>\n",
              "    </tr>\n",
              "    <tr>\n",
              "      <th>15</th>\n",
              "      <td>That is a bad locality to stay</td>\n",
              "      <td>neg</td>\n",
              "    </tr>\n",
              "    <tr>\n",
              "      <th>16</th>\n",
              "      <td>We will have good fun tomorrow</td>\n",
              "      <td>pos</td>\n",
              "    </tr>\n",
              "    <tr>\n",
              "      <th>17</th>\n",
              "      <td>I went to my enemy’s house today</td>\n",
              "      <td>neg</td>\n",
              "    </tr>\n",
              "  </tbody>\n",
              "</table>\n",
              "</div>\n",
              "      <button class=\"colab-df-convert\" onclick=\"convertToInteractive('df-7697eff2-070f-4c61-b0fc-2108037b8281')\"\n",
              "              title=\"Convert this dataframe to an interactive table.\"\n",
              "              style=\"display:none;\">\n",
              "        \n",
              "  <svg xmlns=\"http://www.w3.org/2000/svg\" height=\"24px\"viewBox=\"0 0 24 24\"\n",
              "       width=\"24px\">\n",
              "    <path d=\"M0 0h24v24H0V0z\" fill=\"none\"/>\n",
              "    <path d=\"M18.56 5.44l.94 2.06.94-2.06 2.06-.94-2.06-.94-.94-2.06-.94 2.06-2.06.94zm-11 1L8.5 8.5l.94-2.06 2.06-.94-2.06-.94L8.5 2.5l-.94 2.06-2.06.94zm10 10l.94 2.06.94-2.06 2.06-.94-2.06-.94-.94-2.06-.94 2.06-2.06.94z\"/><path d=\"M17.41 7.96l-1.37-1.37c-.4-.4-.92-.59-1.43-.59-.52 0-1.04.2-1.43.59L10.3 9.45l-7.72 7.72c-.78.78-.78 2.05 0 2.83L4 21.41c.39.39.9.59 1.41.59.51 0 1.02-.2 1.41-.59l7.78-7.78 2.81-2.81c.8-.78.8-2.07 0-2.86zM5.41 20L4 18.59l7.72-7.72 1.47 1.35L5.41 20z\"/>\n",
              "  </svg>\n",
              "      </button>\n",
              "      \n",
              "  <style>\n",
              "    .colab-df-container {\n",
              "      display:flex;\n",
              "      flex-wrap:wrap;\n",
              "      gap: 12px;\n",
              "    }\n",
              "\n",
              "    .colab-df-convert {\n",
              "      background-color: #E8F0FE;\n",
              "      border: none;\n",
              "      border-radius: 50%;\n",
              "      cursor: pointer;\n",
              "      display: none;\n",
              "      fill: #1967D2;\n",
              "      height: 32px;\n",
              "      padding: 0 0 0 0;\n",
              "      width: 32px;\n",
              "    }\n",
              "\n",
              "    .colab-df-convert:hover {\n",
              "      background-color: #E2EBFA;\n",
              "      box-shadow: 0px 1px 2px rgba(60, 64, 67, 0.3), 0px 1px 3px 1px rgba(60, 64, 67, 0.15);\n",
              "      fill: #174EA6;\n",
              "    }\n",
              "\n",
              "    [theme=dark] .colab-df-convert {\n",
              "      background-color: #3B4455;\n",
              "      fill: #D2E3FC;\n",
              "    }\n",
              "\n",
              "    [theme=dark] .colab-df-convert:hover {\n",
              "      background-color: #434B5C;\n",
              "      box-shadow: 0px 1px 3px 1px rgba(0, 0, 0, 0.15);\n",
              "      filter: drop-shadow(0px 1px 2px rgba(0, 0, 0, 0.3));\n",
              "      fill: #FFFFFF;\n",
              "    }\n",
              "  </style>\n",
              "\n",
              "      <script>\n",
              "        const buttonEl =\n",
              "          document.querySelector('#df-7697eff2-070f-4c61-b0fc-2108037b8281 button.colab-df-convert');\n",
              "        buttonEl.style.display =\n",
              "          google.colab.kernel.accessAllowed ? 'block' : 'none';\n",
              "\n",
              "        async function convertToInteractive(key) {\n",
              "          const element = document.querySelector('#df-7697eff2-070f-4c61-b0fc-2108037b8281');\n",
              "          const dataTable =\n",
              "            await google.colab.kernel.invokeFunction('convertToInteractive',\n",
              "                                                     [key], {});\n",
              "          if (!dataTable) return;\n",
              "\n",
              "          const docLinkHtml = 'Like what you see? Visit the ' +\n",
              "            '<a target=\"_blank\" href=https://colab.research.google.com/notebooks/data_table.ipynb>data table notebook</a>'\n",
              "            + ' to learn more about interactive tables.';\n",
              "          element.innerHTML = '';\n",
              "          dataTable['output_type'] = 'display_data';\n",
              "          await google.colab.output.renderOutput(dataTable, element);\n",
              "          const docLink = document.createElement('div');\n",
              "          docLink.innerHTML = docLinkHtml;\n",
              "          element.appendChild(docLink);\n",
              "        }\n",
              "      </script>\n",
              "    </div>\n",
              "  </div>\n",
              "  "
            ]
          },
          "metadata": {},
          "execution_count": 3
        }
      ]
    },
    {
      "cell_type": "code",
      "source": [
        "\n",
        "df['Text Documents']=df['Text Documents'].str.lower()"
      ],
      "metadata": {
        "id": "ZPwedrsPhYq3"
      },
      "execution_count": null,
      "outputs": []
    },
    {
      "cell_type": "code",
      "source": [
        "df['Text Documents']"
      ],
      "metadata": {
        "colab": {
          "base_uri": "https://localhost:8080/"
        },
        "id": "Kc93sVDMnePz",
        "outputId": "2562ee69-f51f-432b-d40c-842bad115ae5"
      },
      "execution_count": null,
      "outputs": [
        {
          "output_type": "execute_result",
          "data": {
            "text/plain": [
              "0                      i love this sandwich\n",
              "1                  this is an amazing place\n",
              "2        i feel very good about these beers\n",
              "3                      this is my best work\n",
              "4                      what an awesome view\n",
              "5             i do not like this restaurant\n",
              "6                  i am tired of this stuff\n",
              "7                    i can’t deal with this\n",
              "8                      he is my sworn enemy\n",
              "9                       my boss is horrible\n",
              "10                 this is an awesome place\n",
              "11    i do not like the taste of this juice\n",
              "12                          i love to dance\n",
              "13        i am sick and tired of this place\n",
              "14                     what a great holiday\n",
              "15           that is a bad locality to stay\n",
              "16           we will have good fun tomorrow\n",
              "17         i went to my enemy’s house today\n",
              "Name: Text Documents, dtype: object"
            ]
          },
          "metadata": {},
          "execution_count": 5
        }
      ]
    },
    {
      "cell_type": "code",
      "source": [
        "df1_train=df[:14]"
      ],
      "metadata": {
        "id": "G1AHiZ_FqyGx"
      },
      "execution_count": null,
      "outputs": []
    },
    {
      "cell_type": "code",
      "source": [
        "df1_test=df[14:]"
      ],
      "metadata": {
        "id": "w_V0iETkq0r7"
      },
      "execution_count": null,
      "outputs": []
    },
    {
      "cell_type": "code",
      "source": [
        "a=np.array(df1_train)"
      ],
      "metadata": {
        "id": "Pv6kzBfxnilw"
      },
      "execution_count": null,
      "outputs": []
    },
    {
      "cell_type": "code",
      "source": [
        "a"
      ],
      "metadata": {
        "colab": {
          "base_uri": "https://localhost:8080/"
        },
        "id": "mtxq5gy1nmII",
        "outputId": "7b6b69d0-048f-4da2-d1da-2ee70ac12ab9"
      },
      "execution_count": null,
      "outputs": [
        {
          "output_type": "execute_result",
          "data": {
            "text/plain": [
              "array([['i love this sandwich', 'pos'],\n",
              "       ['this is an amazing place', 'pos'],\n",
              "       ['i feel very good about these beers', 'pos'],\n",
              "       ['this is my best work', 'pos'],\n",
              "       ['what an awesome view', 'pos'],\n",
              "       ['i do not like this restaurant', 'neg'],\n",
              "       ['i am tired of this stuff', 'neg'],\n",
              "       ['i can’t deal with this', 'neg'],\n",
              "       ['he is my sworn enemy', 'neg'],\n",
              "       ['my boss is horrible', 'neg'],\n",
              "       ['this is an awesome place', 'pos'],\n",
              "       ['i do not like the taste of this juice', 'neg'],\n",
              "       ['i love to dance', 'pos'],\n",
              "       ['i am sick and tired of this place', 'neg']], dtype=object)"
            ]
          },
          "metadata": {},
          "execution_count": 67
        }
      ]
    },
    {
      "cell_type": "code",
      "source": [
        "vocab=[]\n",
        "for i in range(0,len(a)):\n",
        "  s=a[i][0].split(\" \")\n",
        "  vocab.extend(s)"
      ],
      "metadata": {
        "id": "AFRjfuoLh1W4"
      },
      "execution_count": null,
      "outputs": []
    },
    {
      "cell_type": "code",
      "source": [
        "vocab"
      ],
      "metadata": {
        "colab": {
          "base_uri": "https://localhost:8080/"
        },
        "id": "NOUHyB3Ij635",
        "outputId": "f5a37068-622d-496a-fc77-a6362cc5c8f1"
      },
      "execution_count": null,
      "outputs": [
        {
          "output_type": "execute_result",
          "data": {
            "text/plain": [
              "['i',\n",
              " 'love',\n",
              " 'this',\n",
              " 'sandwich',\n",
              " 'this',\n",
              " 'is',\n",
              " 'an',\n",
              " 'amazing',\n",
              " 'place',\n",
              " 'i',\n",
              " 'feel',\n",
              " 'very',\n",
              " 'good',\n",
              " 'about',\n",
              " 'these',\n",
              " 'beers',\n",
              " 'this',\n",
              " 'is',\n",
              " 'my',\n",
              " 'best',\n",
              " 'work',\n",
              " 'what',\n",
              " 'an',\n",
              " 'awesome',\n",
              " 'view',\n",
              " 'i',\n",
              " 'do',\n",
              " 'not',\n",
              " 'like',\n",
              " 'this',\n",
              " 'restaurant',\n",
              " 'i',\n",
              " 'am',\n",
              " 'tired',\n",
              " 'of',\n",
              " 'this',\n",
              " 'stuff',\n",
              " 'i',\n",
              " 'can’t',\n",
              " 'deal',\n",
              " 'with',\n",
              " 'this',\n",
              " 'he',\n",
              " 'is',\n",
              " 'my',\n",
              " 'sworn',\n",
              " 'enemy',\n",
              " 'my',\n",
              " 'boss',\n",
              " 'is',\n",
              " 'horrible',\n",
              " 'this',\n",
              " 'is',\n",
              " 'an',\n",
              " 'awesome',\n",
              " 'place',\n",
              " 'i',\n",
              " 'do',\n",
              " 'not',\n",
              " 'like',\n",
              " 'the',\n",
              " 'taste',\n",
              " 'of',\n",
              " 'this',\n",
              " 'juice',\n",
              " 'i',\n",
              " 'love',\n",
              " 'to',\n",
              " 'dance',\n",
              " 'i',\n",
              " 'am',\n",
              " 'sick',\n",
              " 'and',\n",
              " 'tired',\n",
              " 'of',\n",
              " 'this',\n",
              " 'place']"
            ]
          },
          "metadata": {},
          "execution_count": 69
        }
      ]
    },
    {
      "cell_type": "code",
      "source": [
        "s=set(vocab)"
      ],
      "metadata": {
        "id": "AgsILTfXkCSp"
      },
      "execution_count": null,
      "outputs": []
    },
    {
      "cell_type": "code",
      "source": [
        "s"
      ],
      "metadata": {
        "colab": {
          "base_uri": "https://localhost:8080/"
        },
        "id": "V3oEK4MlkE95",
        "outputId": "c6dd2f1c-4526-4717-8199-3f1fca26778f"
      },
      "execution_count": null,
      "outputs": [
        {
          "output_type": "execute_result",
          "data": {
            "text/plain": [
              "{'about',\n",
              " 'am',\n",
              " 'amazing',\n",
              " 'an',\n",
              " 'and',\n",
              " 'awesome',\n",
              " 'beers',\n",
              " 'best',\n",
              " 'boss',\n",
              " 'can’t',\n",
              " 'dance',\n",
              " 'deal',\n",
              " 'do',\n",
              " 'enemy',\n",
              " 'feel',\n",
              " 'good',\n",
              " 'he',\n",
              " 'horrible',\n",
              " 'i',\n",
              " 'is',\n",
              " 'juice',\n",
              " 'like',\n",
              " 'love',\n",
              " 'my',\n",
              " 'not',\n",
              " 'of',\n",
              " 'place',\n",
              " 'restaurant',\n",
              " 'sandwich',\n",
              " 'sick',\n",
              " 'stuff',\n",
              " 'sworn',\n",
              " 'taste',\n",
              " 'the',\n",
              " 'these',\n",
              " 'this',\n",
              " 'tired',\n",
              " 'to',\n",
              " 'very',\n",
              " 'view',\n",
              " 'what',\n",
              " 'with',\n",
              " 'work'}"
            ]
          },
          "metadata": {},
          "execution_count": 71
        }
      ]
    },
    {
      "cell_type": "code",
      "source": [
        "k=list(s)"
      ],
      "metadata": {
        "id": "XrCyU1UXkbmk"
      },
      "execution_count": null,
      "outputs": []
    },
    {
      "cell_type": "code",
      "source": [
        "k"
      ],
      "metadata": {
        "colab": {
          "base_uri": "https://localhost:8080/"
        },
        "id": "rw6yzrYNle8D",
        "outputId": "f2e47774-4f6d-4deb-b10b-3b79647bbb4b"
      },
      "execution_count": null,
      "outputs": [
        {
          "output_type": "execute_result",
          "data": {
            "text/plain": [
              "['the',\n",
              " 'best',\n",
              " 'these',\n",
              " 'my',\n",
              " 'dance',\n",
              " 'good',\n",
              " 'awesome',\n",
              " 'juice',\n",
              " 'enemy',\n",
              " 'like',\n",
              " 'this',\n",
              " 'work',\n",
              " 'view',\n",
              " 'very',\n",
              " 'sworn',\n",
              " 'can’t',\n",
              " 'am',\n",
              " 'horrible',\n",
              " 'beers',\n",
              " 'feel',\n",
              " 'and',\n",
              " 'what',\n",
              " 'stuff',\n",
              " 'about',\n",
              " 'he',\n",
              " 'sick',\n",
              " 'an',\n",
              " 'boss',\n",
              " 'deal',\n",
              " 'taste',\n",
              " 'sandwich',\n",
              " 'is',\n",
              " 'tired',\n",
              " 'of',\n",
              " 'not',\n",
              " 'i',\n",
              " 'with',\n",
              " 'amazing',\n",
              " 'love',\n",
              " 'restaurant',\n",
              " 'to',\n",
              " 'do',\n",
              " 'place']"
            ]
          },
          "metadata": {},
          "execution_count": 73
        }
      ]
    },
    {
      "cell_type": "code",
      "source": [
        "p=[]\n",
        "n=[]\n",
        "for i in range(0,len(a)):\n",
        "  if(a[i][1]==\"pos\"):\n",
        "    zx=a[i][0].split(\" \")\n",
        "    #sx=set(zx)\n",
        "    lx=list(zx)\n",
        "    p.extend(lx)\n",
        "  elif(a[i][1]==\"neg\"):\n",
        "    zx=a[i][0].split(\" \")\n",
        "    #sx=set(zx)\n",
        "    lx=list(zx)\n",
        "    n.extend(lx)"
      ],
      "metadata": {
        "id": "mroL3qv9t9ZX"
      },
      "execution_count": null,
      "outputs": []
    },
    {
      "cell_type": "code",
      "source": [
        "p"
      ],
      "metadata": {
        "colab": {
          "base_uri": "https://localhost:8080/"
        },
        "id": "CpoYE_I1wcIz",
        "outputId": "451a7044-2c51-4cbb-b951-591700588f4d"
      },
      "execution_count": null,
      "outputs": [
        {
          "output_type": "execute_result",
          "data": {
            "text/plain": [
              "['i',\n",
              " 'love',\n",
              " 'this',\n",
              " 'sandwich',\n",
              " 'this',\n",
              " 'is',\n",
              " 'an',\n",
              " 'amazing',\n",
              " 'place',\n",
              " 'i',\n",
              " 'feel',\n",
              " 'very',\n",
              " 'good',\n",
              " 'about',\n",
              " 'these',\n",
              " 'beers',\n",
              " 'this',\n",
              " 'is',\n",
              " 'my',\n",
              " 'best',\n",
              " 'work',\n",
              " 'what',\n",
              " 'an',\n",
              " 'awesome',\n",
              " 'view',\n",
              " 'this',\n",
              " 'is',\n",
              " 'an',\n",
              " 'awesome',\n",
              " 'place',\n",
              " 'i',\n",
              " 'love',\n",
              " 'to',\n",
              " 'dance']"
            ]
          },
          "metadata": {},
          "execution_count": 75
        }
      ]
    },
    {
      "cell_type": "code",
      "source": [
        "n"
      ],
      "metadata": {
        "colab": {
          "base_uri": "https://localhost:8080/"
        },
        "id": "6f2Sw1HZwgub",
        "outputId": "90f6d967-4f16-4070-ae16-1fe8f410d2e5"
      },
      "execution_count": null,
      "outputs": [
        {
          "output_type": "execute_result",
          "data": {
            "text/plain": [
              "['i',\n",
              " 'do',\n",
              " 'not',\n",
              " 'like',\n",
              " 'this',\n",
              " 'restaurant',\n",
              " 'i',\n",
              " 'am',\n",
              " 'tired',\n",
              " 'of',\n",
              " 'this',\n",
              " 'stuff',\n",
              " 'i',\n",
              " 'can’t',\n",
              " 'deal',\n",
              " 'with',\n",
              " 'this',\n",
              " 'he',\n",
              " 'is',\n",
              " 'my',\n",
              " 'sworn',\n",
              " 'enemy',\n",
              " 'my',\n",
              " 'boss',\n",
              " 'is',\n",
              " 'horrible',\n",
              " 'i',\n",
              " 'do',\n",
              " 'not',\n",
              " 'like',\n",
              " 'the',\n",
              " 'taste',\n",
              " 'of',\n",
              " 'this',\n",
              " 'juice',\n",
              " 'i',\n",
              " 'am',\n",
              " 'sick',\n",
              " 'and',\n",
              " 'tired',\n",
              " 'of',\n",
              " 'this',\n",
              " 'place']"
            ]
          },
          "metadata": {},
          "execution_count": 76
        }
      ]
    },
    {
      "cell_type": "code",
      "source": [
        "d={}\n",
        "for i in range(0,len(k)):\n",
        "     zp=(p.count(k[i])+1)/(len(p)+len(k))\n",
        "     zn=(n.count(k[i])+1)/(len(n)+len(k))\n",
        "     d.update({k[i]:[zp,zn]})\n",
        "\n"
      ],
      "metadata": {
        "id": "Qv9i0TdDkM26"
      },
      "execution_count": null,
      "outputs": []
    },
    {
      "cell_type": "code",
      "source": [
        "d"
      ],
      "metadata": {
        "colab": {
          "base_uri": "https://localhost:8080/"
        },
        "id": "6Aa1q-Gzky2V",
        "outputId": "91bfd3ae-f2a0-4d9a-d956-e720418ec2dc"
      },
      "execution_count": null,
      "outputs": [
        {
          "output_type": "execute_result",
          "data": {
            "text/plain": [
              "{'the': [0.012987012987012988, 0.023255813953488372],\n",
              " 'best': [0.025974025974025976, 0.011627906976744186],\n",
              " 'these': [0.025974025974025976, 0.011627906976744186],\n",
              " 'my': [0.025974025974025976, 0.03488372093023256],\n",
              " 'dance': [0.025974025974025976, 0.011627906976744186],\n",
              " 'good': [0.025974025974025976, 0.011627906976744186],\n",
              " 'awesome': [0.03896103896103896, 0.011627906976744186],\n",
              " 'juice': [0.012987012987012988, 0.023255813953488372],\n",
              " 'enemy': [0.012987012987012988, 0.023255813953488372],\n",
              " 'like': [0.012987012987012988, 0.03488372093023256],\n",
              " 'this': [0.06493506493506493, 0.06976744186046512],\n",
              " 'work': [0.025974025974025976, 0.011627906976744186],\n",
              " 'view': [0.025974025974025976, 0.011627906976744186],\n",
              " 'very': [0.025974025974025976, 0.011627906976744186],\n",
              " 'sworn': [0.012987012987012988, 0.023255813953488372],\n",
              " 'can’t': [0.012987012987012988, 0.023255813953488372],\n",
              " 'am': [0.012987012987012988, 0.03488372093023256],\n",
              " 'horrible': [0.012987012987012988, 0.023255813953488372],\n",
              " 'beers': [0.025974025974025976, 0.011627906976744186],\n",
              " 'feel': [0.025974025974025976, 0.011627906976744186],\n",
              " 'and': [0.012987012987012988, 0.023255813953488372],\n",
              " 'what': [0.025974025974025976, 0.011627906976744186],\n",
              " 'stuff': [0.012987012987012988, 0.023255813953488372],\n",
              " 'about': [0.025974025974025976, 0.011627906976744186],\n",
              " 'he': [0.012987012987012988, 0.023255813953488372],\n",
              " 'sick': [0.012987012987012988, 0.023255813953488372],\n",
              " 'an': [0.05194805194805195, 0.011627906976744186],\n",
              " 'boss': [0.012987012987012988, 0.023255813953488372],\n",
              " 'deal': [0.012987012987012988, 0.023255813953488372],\n",
              " 'taste': [0.012987012987012988, 0.023255813953488372],\n",
              " 'sandwich': [0.025974025974025976, 0.011627906976744186],\n",
              " 'is': [0.05194805194805195, 0.03488372093023256],\n",
              " 'tired': [0.012987012987012988, 0.03488372093023256],\n",
              " 'of': [0.012987012987012988, 0.046511627906976744],\n",
              " 'not': [0.012987012987012988, 0.03488372093023256],\n",
              " 'i': [0.05194805194805195, 0.06976744186046512],\n",
              " 'with': [0.012987012987012988, 0.023255813953488372],\n",
              " 'amazing': [0.025974025974025976, 0.011627906976744186],\n",
              " 'love': [0.03896103896103896, 0.011627906976744186],\n",
              " 'restaurant': [0.012987012987012988, 0.023255813953488372],\n",
              " 'to': [0.025974025974025976, 0.011627906976744186],\n",
              " 'do': [0.012987012987012988, 0.03488372093023256],\n",
              " 'place': [0.03896103896103896, 0.023255813953488372]}"
            ]
          },
          "metadata": {},
          "execution_count": 78
        }
      ]
    },
    {
      "cell_type": "code",
      "source": [
        "b=np.array(df1_test)"
      ],
      "metadata": {
        "id": "IHw_KQsDm3gf"
      },
      "execution_count": null,
      "outputs": []
    },
    {
      "cell_type": "code",
      "source": [
        "b"
      ],
      "metadata": {
        "colab": {
          "base_uri": "https://localhost:8080/"
        },
        "id": "lWgYVqiNpoxq",
        "outputId": "27920ba7-d6eb-4d9c-c940-33b23592b3e5"
      },
      "execution_count": null,
      "outputs": [
        {
          "output_type": "execute_result",
          "data": {
            "text/plain": [
              "array([['what a great holiday', 'pos'],\n",
              "       ['that is a bad locality to stay', 'neg'],\n",
              "       ['we will have good fun tomorrow', 'pos'],\n",
              "       ['i went to my enemy’s house today', 'neg']], dtype=object)"
            ]
          },
          "metadata": {},
          "execution_count": 80
        }
      ]
    },
    {
      "cell_type": "code",
      "source": [
        "pc=df['Label'].loc[(df['Label']==\"pos\")].count()\n",
        "pn=df['Label'].loc[(df['Label']==\"neg\")].count()"
      ],
      "metadata": {
        "id": "eokl7mIYxn4j"
      },
      "execution_count": null,
      "outputs": []
    },
    {
      "cell_type": "code",
      "source": [
        "pc1=pc/(pc+pn)\n",
        "pn1=(pn)/(pc+pn)"
      ],
      "metadata": {
        "id": "ix_VkLKVyQw9"
      },
      "execution_count": null,
      "outputs": []
    },
    {
      "cell_type": "code",
      "source": [
        "print(pc)\n",
        "print(pn)"
      ],
      "metadata": {
        "colab": {
          "base_uri": "https://localhost:8080/"
        },
        "id": "wgd78vEpxz4D",
        "outputId": "46882c9e-5738-41fa-acef-90e3d299c0e0"
      },
      "execution_count": null,
      "outputs": [
        {
          "output_type": "stream",
          "name": "stdout",
          "text": [
            "9\n",
            "9\n"
          ]
        }
      ]
    },
    {
      "cell_type": "code",
      "source": [
        "def calculate_class(k1,d,pc1,pn1):\n",
        "   yess=pc1\n",
        "   noo=pn1\n",
        "   sz=k1.split(\" \")\n",
        "   for i in range(0,len(sz)):\n",
        "     if sz[i] in p:\n",
        "       ef=d[sz[i]]\n",
        "       yess=yess*ef[0]\n",
        "     else:\n",
        "       yess=yess*(1/len(k))\n",
        "     if( sz[i] in n):\n",
        "       ef=d[sz[i]]\n",
        "       noo=noo*ef[1]\n",
        "     else:\n",
        "      noo=noo*(1/(len(k)));\n",
        "   if(yess>noo):\n",
        "       return \"pos\"\n",
        "   else:\n",
        "     return \"neg\"\n"
      ],
      "metadata": {
        "id": "u6UdT-q8qTk1"
      },
      "execution_count": null,
      "outputs": []
    },
    {
      "cell_type": "code",
      "source": [
        "predicted_label=[]\n",
        "for i in range(0,len(b)):\n",
        "  sr=calculate_class(b[i][0],d,pc1,pn1)\n",
        "  predicted_label.append(sr)"
      ],
      "metadata": {
        "id": "71dlI48LzAET"
      },
      "execution_count": null,
      "outputs": []
    },
    {
      "cell_type": "code",
      "source": [
        "b"
      ],
      "metadata": {
        "colab": {
          "base_uri": "https://localhost:8080/"
        },
        "id": "iFLkrCa40JDt",
        "outputId": "c89971eb-2e94-40b9-9c82-c2b4b3106e8f"
      },
      "execution_count": null,
      "outputs": [
        {
          "output_type": "execute_result",
          "data": {
            "text/plain": [
              "array([['what a great holiday', 'pos'],\n",
              "       ['that is a bad locality to stay', 'neg'],\n",
              "       ['we will have good fun tomorrow', 'pos'],\n",
              "       ['i went to my enemy’s house today', 'neg']], dtype=object)"
            ]
          },
          "metadata": {},
          "execution_count": 86
        }
      ]
    },
    {
      "cell_type": "code",
      "source": [
        "actual_classes=b[:,-1]"
      ],
      "metadata": {
        "id": "_wnfoYb_16SW"
      },
      "execution_count": null,
      "outputs": []
    },
    {
      "cell_type": "code",
      "source": [
        "predicted_label"
      ],
      "metadata": {
        "colab": {
          "base_uri": "https://localhost:8080/"
        },
        "id": "kFdngLaE0LiV",
        "outputId": "fc222d8b-76d8-4b4b-839e-15620fe0cd87"
      },
      "execution_count": null,
      "outputs": [
        {
          "output_type": "execute_result",
          "data": {
            "text/plain": [
              "['pos', 'pos', 'pos', 'neg']"
            ]
          },
          "metadata": {},
          "execution_count": 90
        }
      ]
    },
    {
      "cell_type": "code",
      "source": [
        "df_test=pd.DataFrame(df[14:])"
      ],
      "metadata": {
        "id": "N0JSkswbS1PG"
      },
      "execution_count": null,
      "outputs": []
    },
    {
      "cell_type": "code",
      "source": [
        "df_test['predicted_label']=predicted_label"
      ],
      "metadata": {
        "id": "T19XZlCuTr-l"
      },
      "execution_count": null,
      "outputs": []
    },
    {
      "cell_type": "code",
      "source": [
        "df_test"
      ],
      "metadata": {
        "colab": {
          "base_uri": "https://localhost:8080/",
          "height": 175
        },
        "id": "0Vi-6DuKVQ4b",
        "outputId": "5f3bbf0f-f29e-49ae-83d9-1bc6868adb86"
      },
      "execution_count": null,
      "outputs": [
        {
          "output_type": "execute_result",
          "data": {
            "text/plain": [
              "                      Text Documents Label predicted_label\n",
              "14              what a great holiday   pos             pos\n",
              "15    that is a bad locality to stay   neg             pos\n",
              "16    we will have good fun tomorrow   pos             pos\n",
              "17  i went to my enemy’s house today   neg             neg"
            ],
            "text/html": [
              "\n",
              "  <div id=\"df-ad11aadf-b6f8-468b-a5a0-31187491b82f\">\n",
              "    <div class=\"colab-df-container\">\n",
              "      <div>\n",
              "<style scoped>\n",
              "    .dataframe tbody tr th:only-of-type {\n",
              "        vertical-align: middle;\n",
              "    }\n",
              "\n",
              "    .dataframe tbody tr th {\n",
              "        vertical-align: top;\n",
              "    }\n",
              "\n",
              "    .dataframe thead th {\n",
              "        text-align: right;\n",
              "    }\n",
              "</style>\n",
              "<table border=\"1\" class=\"dataframe\">\n",
              "  <thead>\n",
              "    <tr style=\"text-align: right;\">\n",
              "      <th></th>\n",
              "      <th>Text Documents</th>\n",
              "      <th>Label</th>\n",
              "      <th>predicted_label</th>\n",
              "    </tr>\n",
              "  </thead>\n",
              "  <tbody>\n",
              "    <tr>\n",
              "      <th>14</th>\n",
              "      <td>what a great holiday</td>\n",
              "      <td>pos</td>\n",
              "      <td>pos</td>\n",
              "    </tr>\n",
              "    <tr>\n",
              "      <th>15</th>\n",
              "      <td>that is a bad locality to stay</td>\n",
              "      <td>neg</td>\n",
              "      <td>pos</td>\n",
              "    </tr>\n",
              "    <tr>\n",
              "      <th>16</th>\n",
              "      <td>we will have good fun tomorrow</td>\n",
              "      <td>pos</td>\n",
              "      <td>pos</td>\n",
              "    </tr>\n",
              "    <tr>\n",
              "      <th>17</th>\n",
              "      <td>i went to my enemy’s house today</td>\n",
              "      <td>neg</td>\n",
              "      <td>neg</td>\n",
              "    </tr>\n",
              "  </tbody>\n",
              "</table>\n",
              "</div>\n",
              "      <button class=\"colab-df-convert\" onclick=\"convertToInteractive('df-ad11aadf-b6f8-468b-a5a0-31187491b82f')\"\n",
              "              title=\"Convert this dataframe to an interactive table.\"\n",
              "              style=\"display:none;\">\n",
              "        \n",
              "  <svg xmlns=\"http://www.w3.org/2000/svg\" height=\"24px\"viewBox=\"0 0 24 24\"\n",
              "       width=\"24px\">\n",
              "    <path d=\"M0 0h24v24H0V0z\" fill=\"none\"/>\n",
              "    <path d=\"M18.56 5.44l.94 2.06.94-2.06 2.06-.94-2.06-.94-.94-2.06-.94 2.06-2.06.94zm-11 1L8.5 8.5l.94-2.06 2.06-.94-2.06-.94L8.5 2.5l-.94 2.06-2.06.94zm10 10l.94 2.06.94-2.06 2.06-.94-2.06-.94-.94-2.06-.94 2.06-2.06.94z\"/><path d=\"M17.41 7.96l-1.37-1.37c-.4-.4-.92-.59-1.43-.59-.52 0-1.04.2-1.43.59L10.3 9.45l-7.72 7.72c-.78.78-.78 2.05 0 2.83L4 21.41c.39.39.9.59 1.41.59.51 0 1.02-.2 1.41-.59l7.78-7.78 2.81-2.81c.8-.78.8-2.07 0-2.86zM5.41 20L4 18.59l7.72-7.72 1.47 1.35L5.41 20z\"/>\n",
              "  </svg>\n",
              "      </button>\n",
              "      \n",
              "  <style>\n",
              "    .colab-df-container {\n",
              "      display:flex;\n",
              "      flex-wrap:wrap;\n",
              "      gap: 12px;\n",
              "    }\n",
              "\n",
              "    .colab-df-convert {\n",
              "      background-color: #E8F0FE;\n",
              "      border: none;\n",
              "      border-radius: 50%;\n",
              "      cursor: pointer;\n",
              "      display: none;\n",
              "      fill: #1967D2;\n",
              "      height: 32px;\n",
              "      padding: 0 0 0 0;\n",
              "      width: 32px;\n",
              "    }\n",
              "\n",
              "    .colab-df-convert:hover {\n",
              "      background-color: #E2EBFA;\n",
              "      box-shadow: 0px 1px 2px rgba(60, 64, 67, 0.3), 0px 1px 3px 1px rgba(60, 64, 67, 0.15);\n",
              "      fill: #174EA6;\n",
              "    }\n",
              "\n",
              "    [theme=dark] .colab-df-convert {\n",
              "      background-color: #3B4455;\n",
              "      fill: #D2E3FC;\n",
              "    }\n",
              "\n",
              "    [theme=dark] .colab-df-convert:hover {\n",
              "      background-color: #434B5C;\n",
              "      box-shadow: 0px 1px 3px 1px rgba(0, 0, 0, 0.15);\n",
              "      filter: drop-shadow(0px 1px 2px rgba(0, 0, 0, 0.3));\n",
              "      fill: #FFFFFF;\n",
              "    }\n",
              "  </style>\n",
              "\n",
              "      <script>\n",
              "        const buttonEl =\n",
              "          document.querySelector('#df-ad11aadf-b6f8-468b-a5a0-31187491b82f button.colab-df-convert');\n",
              "        buttonEl.style.display =\n",
              "          google.colab.kernel.accessAllowed ? 'block' : 'none';\n",
              "\n",
              "        async function convertToInteractive(key) {\n",
              "          const element = document.querySelector('#df-ad11aadf-b6f8-468b-a5a0-31187491b82f');\n",
              "          const dataTable =\n",
              "            await google.colab.kernel.invokeFunction('convertToInteractive',\n",
              "                                                     [key], {});\n",
              "          if (!dataTable) return;\n",
              "\n",
              "          const docLinkHtml = 'Like what you see? Visit the ' +\n",
              "            '<a target=\"_blank\" href=https://colab.research.google.com/notebooks/data_table.ipynb>data table notebook</a>'\n",
              "            + ' to learn more about interactive tables.';\n",
              "          element.innerHTML = '';\n",
              "          dataTable['output_type'] = 'display_data';\n",
              "          await google.colab.output.renderOutput(dataTable, element);\n",
              "          const docLink = document.createElement('div');\n",
              "          docLink.innerHTML = docLinkHtml;\n",
              "          element.appendChild(docLink);\n",
              "        }\n",
              "      </script>\n",
              "    </div>\n",
              "  </div>\n",
              "  "
            ]
          },
          "metadata": {},
          "execution_count": 94
        }
      ]
    },
    {
      "cell_type": "code",
      "source": [
        "from sklearn.metrics import confusion_matrix"
      ],
      "metadata": {
        "id": "fJ6-Sa_o1xGv"
      },
      "execution_count": null,
      "outputs": []
    },
    {
      "cell_type": "code",
      "source": [
        "ac=confusion_matrix(actual_classes,predicted_label)"
      ],
      "metadata": {
        "id": "BQ148iGR13io"
      },
      "execution_count": null,
      "outputs": []
    },
    {
      "cell_type": "code",
      "source": [
        "acc=(ac[0][0]+ac[1][1])/(ac[0][0]+ac[0][1]+ac[1][0]+ac[1][1])"
      ],
      "metadata": {
        "id": "Eb7e4EqPSX_w"
      },
      "execution_count": null,
      "outputs": []
    },
    {
      "cell_type": "code",
      "source": [
        "acc*100"
      ],
      "metadata": {
        "colab": {
          "base_uri": "https://localhost:8080/"
        },
        "id": "29Gz9IXJV9FK",
        "outputId": "b474ef06-16b5-49d0-d395-34cdbecaee7f"
      },
      "execution_count": null,
      "outputs": [
        {
          "output_type": "execute_result",
          "data": {
            "text/plain": [
              "75.0"
            ]
          },
          "metadata": {},
          "execution_count": 98
        }
      ]
    },
    {
      "cell_type": "code",
      "source": [
        "precis=(ac[1][1])/(ac[1][1]+ac[0][1])"
      ],
      "metadata": {
        "id": "4In9168Pbvzi"
      },
      "execution_count": null,
      "outputs": []
    },
    {
      "cell_type": "code",
      "source": [
        "precis"
      ],
      "metadata": {
        "colab": {
          "base_uri": "https://localhost:8080/"
        },
        "id": "BKFM9h0ZcAs4",
        "outputId": "72ea7827-1e0c-467b-a59e-58573c327790"
      },
      "execution_count": null,
      "outputs": [
        {
          "output_type": "execute_result",
          "data": {
            "text/plain": [
              "0.6666666666666666"
            ]
          },
          "metadata": {},
          "execution_count": 101
        }
      ]
    },
    {
      "cell_type": "code",
      "source": [
        "recal=(ac[1][1])/(ac[1][1]+ac[1][0])"
      ],
      "metadata": {
        "id": "j_Q7vekrcClA"
      },
      "execution_count": null,
      "outputs": []
    },
    {
      "cell_type": "code",
      "source": [
        "recal"
      ],
      "metadata": {
        "colab": {
          "base_uri": "https://localhost:8080/"
        },
        "id": "vpzzl0S1csrK",
        "outputId": "da0c5fa4-75c1-4c18-a92a-8bdd1e79e0f3"
      },
      "execution_count": null,
      "outputs": [
        {
          "output_type": "execute_result",
          "data": {
            "text/plain": [
              "1.0"
            ]
          },
          "metadata": {},
          "execution_count": 105
        }
      ]
    },
    {
      "cell_type": "markdown",
      "source": [
        "#Thus in binary classification, the count of true negatives is\n",
        "   # :math:`C_{0,0}`, false negatives is :math:`C_{1,0}`, true positives is\n",
        "   # :math:`C_{1,1}` and false positives is :math:`C_{0,1}`."
      ],
      "metadata": {
        "id": "3YMmFaLZchdi"
      }
    },
    {
      "cell_type": "markdown",
      "source": [
        "#BAYESIAN NETWORK"
      ],
      "metadata": {
        "id": "q4FqnEADdC8y"
      }
    },
    {
      "cell_type": "markdown",
      "source": [
        "# **maximum likelihood** :It involves finding the parameter values that maximize the likelihood of the data given in the model."
      ],
      "metadata": {
        "id": "4-XQCk0YgTPI"
      }
    },
    {
      "cell_type": "markdown",
      "source": [
        "#The goal of maximum likelihood estimation is to find the values of the model parameters that maximize the likelihood function over the parameter space, that is Intuitively, this selects the parameter values that make the observed data most probable."
      ],
      "metadata": {
        "id": "1hhT396hh-Pg"
      }
    },
    {
      "cell_type": "code",
      "source": [
        "pip install pgmpy"
      ],
      "metadata": {
        "colab": {
          "base_uri": "https://localhost:8080/"
        },
        "id": "n0Fau4ehoxFC",
        "outputId": "eed88d3e-a097-4f54-cf41-cd928bcd1b24"
      },
      "execution_count": null,
      "outputs": [
        {
          "output_type": "stream",
          "name": "stdout",
          "text": [
            "Looking in indexes: https://pypi.org/simple, https://us-python.pkg.dev/colab-wheels/public/simple/\n",
            "Collecting pgmpy\n",
            "  Downloading pgmpy-0.1.22-py3-none-any.whl (1.9 MB)\n",
            "\u001b[2K     \u001b[90m━━━━━━━━━━━━━━━━━━━━━━━━━━━━━━━━━━━━━━━━\u001b[0m \u001b[32m1.9/1.9 MB\u001b[0m \u001b[31m31.1 MB/s\u001b[0m eta \u001b[36m0:00:00\u001b[0m\n",
            "\u001b[?25hRequirement already satisfied: numpy in /usr/local/lib/python3.9/dist-packages (from pgmpy) (1.22.4)\n",
            "Requirement already satisfied: pandas in /usr/local/lib/python3.9/dist-packages (from pgmpy) (1.5.3)\n",
            "Requirement already satisfied: joblib in /usr/local/lib/python3.9/dist-packages (from pgmpy) (1.2.0)\n",
            "Requirement already satisfied: scikit-learn in /usr/local/lib/python3.9/dist-packages (from pgmpy) (1.2.2)\n",
            "Requirement already satisfied: torch in /usr/local/lib/python3.9/dist-packages (from pgmpy) (2.0.0+cu118)\n",
            "Requirement already satisfied: tqdm in /usr/local/lib/python3.9/dist-packages (from pgmpy) (4.65.0)\n",
            "Requirement already satisfied: scipy in /usr/local/lib/python3.9/dist-packages (from pgmpy) (1.10.1)\n",
            "Requirement already satisfied: opt-einsum in /usr/local/lib/python3.9/dist-packages (from pgmpy) (3.3.0)\n",
            "Requirement already satisfied: pyparsing in /usr/local/lib/python3.9/dist-packages (from pgmpy) (3.0.9)\n",
            "Requirement already satisfied: statsmodels in /usr/local/lib/python3.9/dist-packages (from pgmpy) (0.13.5)\n",
            "Requirement already satisfied: networkx in /usr/local/lib/python3.9/dist-packages (from pgmpy) (3.1)\n",
            "Requirement already satisfied: python-dateutil>=2.8.1 in /usr/local/lib/python3.9/dist-packages (from pandas->pgmpy) (2.8.2)\n",
            "Requirement already satisfied: pytz>=2020.1 in /usr/local/lib/python3.9/dist-packages (from pandas->pgmpy) (2022.7.1)\n",
            "Requirement already satisfied: threadpoolctl>=2.0.0 in /usr/local/lib/python3.9/dist-packages (from scikit-learn->pgmpy) (3.1.0)\n",
            "Requirement already satisfied: packaging>=21.3 in /usr/local/lib/python3.9/dist-packages (from statsmodels->pgmpy) (23.1)\n",
            "Requirement already satisfied: patsy>=0.5.2 in /usr/local/lib/python3.9/dist-packages (from statsmodels->pgmpy) (0.5.3)\n",
            "Requirement already satisfied: filelock in /usr/local/lib/python3.9/dist-packages (from torch->pgmpy) (3.11.0)\n",
            "Requirement already satisfied: triton==2.0.0 in /usr/local/lib/python3.9/dist-packages (from torch->pgmpy) (2.0.0)\n",
            "Requirement already satisfied: jinja2 in /usr/local/lib/python3.9/dist-packages (from torch->pgmpy) (3.1.2)\n",
            "Requirement already satisfied: sympy in /usr/local/lib/python3.9/dist-packages (from torch->pgmpy) (1.11.1)\n",
            "Requirement already satisfied: typing-extensions in /usr/local/lib/python3.9/dist-packages (from torch->pgmpy) (4.5.0)\n",
            "Requirement already satisfied: lit in /usr/local/lib/python3.9/dist-packages (from triton==2.0.0->torch->pgmpy) (16.0.1)\n",
            "Requirement already satisfied: cmake in /usr/local/lib/python3.9/dist-packages (from triton==2.0.0->torch->pgmpy) (3.25.2)\n",
            "Requirement already satisfied: six in /usr/local/lib/python3.9/dist-packages (from patsy>=0.5.2->statsmodels->pgmpy) (1.16.0)\n",
            "Requirement already satisfied: MarkupSafe>=2.0 in /usr/local/lib/python3.9/dist-packages (from jinja2->torch->pgmpy) (2.1.2)\n",
            "Requirement already satisfied: mpmath>=0.19 in /usr/local/lib/python3.9/dist-packages (from sympy->torch->pgmpy) (1.3.0)\n",
            "Installing collected packages: pgmpy\n",
            "Successfully installed pgmpy-0.1.22\n"
          ]
        }
      ]
    },
    {
      "cell_type": "code",
      "source": [
        "import pandas as pd\n",
        "from pgmpy.estimators import MaximumLikelihoodEstimator"
      ],
      "metadata": {
        "id": "LMNs-AsbdGDj"
      },
      "execution_count": null,
      "outputs": []
    },
    {
      "cell_type": "code",
      "source": [
        "from pgmpy.models import BayesianModel\n",
        "from pgmpy.inference import VariableElimination"
      ],
      "metadata": {
        "id": "oRnh_2INo340"
      },
      "execution_count": null,
      "outputs": []
    },
    {
      "cell_type": "code",
      "source": [
        "hd=pd.read_csv('/content/heart.csv')"
      ],
      "metadata": {
        "id": "gSVBs0hMpe5U"
      },
      "execution_count": null,
      "outputs": []
    },
    {
      "cell_type": "code",
      "source": [
        "hd"
      ],
      "metadata": {
        "colab": {
          "base_uri": "https://localhost:8080/",
          "height": 424
        },
        "id": "TRtn_UcFpmd8",
        "outputId": "72dd651a-a687-4746-c3b5-41f6a8dde24f"
      },
      "execution_count": null,
      "outputs": [
        {
          "output_type": "execute_result",
          "data": {
            "text/plain": [
              "     age  sex  cp  trestbps  chol  fbs  restecg  thalach  exang  oldpeak  \\\n",
              "0     63    1   3       145   233    1        0      150      0      2.3   \n",
              "1     37    1   2       130   250    0        1      187      0      3.5   \n",
              "2     41    0   1       130   204    0        0      172      0      1.4   \n",
              "3     56    1   1       120   236    0        1      178      0      0.8   \n",
              "4     57    0   0       120   354    0        1      163      1      0.6   \n",
              "..   ...  ...  ..       ...   ...  ...      ...      ...    ...      ...   \n",
              "298   57    0   0       140   241    0        1      123      1      0.2   \n",
              "299   45    1   3       110   264    0        1      132      0      1.2   \n",
              "300   68    1   0       144   193    1        1      141      0      3.4   \n",
              "301   57    1   0       130   131    0        1      115      1      1.2   \n",
              "302   57    0   1       130   236    0        0      174      0      0.0   \n",
              "\n",
              "     slope  ca  thal  target  \n",
              "0        0   0     1       1  \n",
              "1        0   0     2       1  \n",
              "2        2   0     2       1  \n",
              "3        2   0     2       1  \n",
              "4        2   0     2       1  \n",
              "..     ...  ..   ...     ...  \n",
              "298      1   0     3       0  \n",
              "299      1   0     3       0  \n",
              "300      1   2     3       0  \n",
              "301      1   1     3       0  \n",
              "302      1   1     2       0  \n",
              "\n",
              "[303 rows x 14 columns]"
            ],
            "text/html": [
              "\n",
              "  <div id=\"df-ec910453-7ab0-4cad-b54c-130beaf7007e\">\n",
              "    <div class=\"colab-df-container\">\n",
              "      <div>\n",
              "<style scoped>\n",
              "    .dataframe tbody tr th:only-of-type {\n",
              "        vertical-align: middle;\n",
              "    }\n",
              "\n",
              "    .dataframe tbody tr th {\n",
              "        vertical-align: top;\n",
              "    }\n",
              "\n",
              "    .dataframe thead th {\n",
              "        text-align: right;\n",
              "    }\n",
              "</style>\n",
              "<table border=\"1\" class=\"dataframe\">\n",
              "  <thead>\n",
              "    <tr style=\"text-align: right;\">\n",
              "      <th></th>\n",
              "      <th>age</th>\n",
              "      <th>sex</th>\n",
              "      <th>cp</th>\n",
              "      <th>trestbps</th>\n",
              "      <th>chol</th>\n",
              "      <th>fbs</th>\n",
              "      <th>restecg</th>\n",
              "      <th>thalach</th>\n",
              "      <th>exang</th>\n",
              "      <th>oldpeak</th>\n",
              "      <th>slope</th>\n",
              "      <th>ca</th>\n",
              "      <th>thal</th>\n",
              "      <th>target</th>\n",
              "    </tr>\n",
              "  </thead>\n",
              "  <tbody>\n",
              "    <tr>\n",
              "      <th>0</th>\n",
              "      <td>63</td>\n",
              "      <td>1</td>\n",
              "      <td>3</td>\n",
              "      <td>145</td>\n",
              "      <td>233</td>\n",
              "      <td>1</td>\n",
              "      <td>0</td>\n",
              "      <td>150</td>\n",
              "      <td>0</td>\n",
              "      <td>2.3</td>\n",
              "      <td>0</td>\n",
              "      <td>0</td>\n",
              "      <td>1</td>\n",
              "      <td>1</td>\n",
              "    </tr>\n",
              "    <tr>\n",
              "      <th>1</th>\n",
              "      <td>37</td>\n",
              "      <td>1</td>\n",
              "      <td>2</td>\n",
              "      <td>130</td>\n",
              "      <td>250</td>\n",
              "      <td>0</td>\n",
              "      <td>1</td>\n",
              "      <td>187</td>\n",
              "      <td>0</td>\n",
              "      <td>3.5</td>\n",
              "      <td>0</td>\n",
              "      <td>0</td>\n",
              "      <td>2</td>\n",
              "      <td>1</td>\n",
              "    </tr>\n",
              "    <tr>\n",
              "      <th>2</th>\n",
              "      <td>41</td>\n",
              "      <td>0</td>\n",
              "      <td>1</td>\n",
              "      <td>130</td>\n",
              "      <td>204</td>\n",
              "      <td>0</td>\n",
              "      <td>0</td>\n",
              "      <td>172</td>\n",
              "      <td>0</td>\n",
              "      <td>1.4</td>\n",
              "      <td>2</td>\n",
              "      <td>0</td>\n",
              "      <td>2</td>\n",
              "      <td>1</td>\n",
              "    </tr>\n",
              "    <tr>\n",
              "      <th>3</th>\n",
              "      <td>56</td>\n",
              "      <td>1</td>\n",
              "      <td>1</td>\n",
              "      <td>120</td>\n",
              "      <td>236</td>\n",
              "      <td>0</td>\n",
              "      <td>1</td>\n",
              "      <td>178</td>\n",
              "      <td>0</td>\n",
              "      <td>0.8</td>\n",
              "      <td>2</td>\n",
              "      <td>0</td>\n",
              "      <td>2</td>\n",
              "      <td>1</td>\n",
              "    </tr>\n",
              "    <tr>\n",
              "      <th>4</th>\n",
              "      <td>57</td>\n",
              "      <td>0</td>\n",
              "      <td>0</td>\n",
              "      <td>120</td>\n",
              "      <td>354</td>\n",
              "      <td>0</td>\n",
              "      <td>1</td>\n",
              "      <td>163</td>\n",
              "      <td>1</td>\n",
              "      <td>0.6</td>\n",
              "      <td>2</td>\n",
              "      <td>0</td>\n",
              "      <td>2</td>\n",
              "      <td>1</td>\n",
              "    </tr>\n",
              "    <tr>\n",
              "      <th>...</th>\n",
              "      <td>...</td>\n",
              "      <td>...</td>\n",
              "      <td>...</td>\n",
              "      <td>...</td>\n",
              "      <td>...</td>\n",
              "      <td>...</td>\n",
              "      <td>...</td>\n",
              "      <td>...</td>\n",
              "      <td>...</td>\n",
              "      <td>...</td>\n",
              "      <td>...</td>\n",
              "      <td>...</td>\n",
              "      <td>...</td>\n",
              "      <td>...</td>\n",
              "    </tr>\n",
              "    <tr>\n",
              "      <th>298</th>\n",
              "      <td>57</td>\n",
              "      <td>0</td>\n",
              "      <td>0</td>\n",
              "      <td>140</td>\n",
              "      <td>241</td>\n",
              "      <td>0</td>\n",
              "      <td>1</td>\n",
              "      <td>123</td>\n",
              "      <td>1</td>\n",
              "      <td>0.2</td>\n",
              "      <td>1</td>\n",
              "      <td>0</td>\n",
              "      <td>3</td>\n",
              "      <td>0</td>\n",
              "    </tr>\n",
              "    <tr>\n",
              "      <th>299</th>\n",
              "      <td>45</td>\n",
              "      <td>1</td>\n",
              "      <td>3</td>\n",
              "      <td>110</td>\n",
              "      <td>264</td>\n",
              "      <td>0</td>\n",
              "      <td>1</td>\n",
              "      <td>132</td>\n",
              "      <td>0</td>\n",
              "      <td>1.2</td>\n",
              "      <td>1</td>\n",
              "      <td>0</td>\n",
              "      <td>3</td>\n",
              "      <td>0</td>\n",
              "    </tr>\n",
              "    <tr>\n",
              "      <th>300</th>\n",
              "      <td>68</td>\n",
              "      <td>1</td>\n",
              "      <td>0</td>\n",
              "      <td>144</td>\n",
              "      <td>193</td>\n",
              "      <td>1</td>\n",
              "      <td>1</td>\n",
              "      <td>141</td>\n",
              "      <td>0</td>\n",
              "      <td>3.4</td>\n",
              "      <td>1</td>\n",
              "      <td>2</td>\n",
              "      <td>3</td>\n",
              "      <td>0</td>\n",
              "    </tr>\n",
              "    <tr>\n",
              "      <th>301</th>\n",
              "      <td>57</td>\n",
              "      <td>1</td>\n",
              "      <td>0</td>\n",
              "      <td>130</td>\n",
              "      <td>131</td>\n",
              "      <td>0</td>\n",
              "      <td>1</td>\n",
              "      <td>115</td>\n",
              "      <td>1</td>\n",
              "      <td>1.2</td>\n",
              "      <td>1</td>\n",
              "      <td>1</td>\n",
              "      <td>3</td>\n",
              "      <td>0</td>\n",
              "    </tr>\n",
              "    <tr>\n",
              "      <th>302</th>\n",
              "      <td>57</td>\n",
              "      <td>0</td>\n",
              "      <td>1</td>\n",
              "      <td>130</td>\n",
              "      <td>236</td>\n",
              "      <td>0</td>\n",
              "      <td>0</td>\n",
              "      <td>174</td>\n",
              "      <td>0</td>\n",
              "      <td>0.0</td>\n",
              "      <td>1</td>\n",
              "      <td>1</td>\n",
              "      <td>2</td>\n",
              "      <td>0</td>\n",
              "    </tr>\n",
              "  </tbody>\n",
              "</table>\n",
              "<p>303 rows × 14 columns</p>\n",
              "</div>\n",
              "      <button class=\"colab-df-convert\" onclick=\"convertToInteractive('df-ec910453-7ab0-4cad-b54c-130beaf7007e')\"\n",
              "              title=\"Convert this dataframe to an interactive table.\"\n",
              "              style=\"display:none;\">\n",
              "        \n",
              "  <svg xmlns=\"http://www.w3.org/2000/svg\" height=\"24px\"viewBox=\"0 0 24 24\"\n",
              "       width=\"24px\">\n",
              "    <path d=\"M0 0h24v24H0V0z\" fill=\"none\"/>\n",
              "    <path d=\"M18.56 5.44l.94 2.06.94-2.06 2.06-.94-2.06-.94-.94-2.06-.94 2.06-2.06.94zm-11 1L8.5 8.5l.94-2.06 2.06-.94-2.06-.94L8.5 2.5l-.94 2.06-2.06.94zm10 10l.94 2.06.94-2.06 2.06-.94-2.06-.94-.94-2.06-.94 2.06-2.06.94z\"/><path d=\"M17.41 7.96l-1.37-1.37c-.4-.4-.92-.59-1.43-.59-.52 0-1.04.2-1.43.59L10.3 9.45l-7.72 7.72c-.78.78-.78 2.05 0 2.83L4 21.41c.39.39.9.59 1.41.59.51 0 1.02-.2 1.41-.59l7.78-7.78 2.81-2.81c.8-.78.8-2.07 0-2.86zM5.41 20L4 18.59l7.72-7.72 1.47 1.35L5.41 20z\"/>\n",
              "  </svg>\n",
              "      </button>\n",
              "      \n",
              "  <style>\n",
              "    .colab-df-container {\n",
              "      display:flex;\n",
              "      flex-wrap:wrap;\n",
              "      gap: 12px;\n",
              "    }\n",
              "\n",
              "    .colab-df-convert {\n",
              "      background-color: #E8F0FE;\n",
              "      border: none;\n",
              "      border-radius: 50%;\n",
              "      cursor: pointer;\n",
              "      display: none;\n",
              "      fill: #1967D2;\n",
              "      height: 32px;\n",
              "      padding: 0 0 0 0;\n",
              "      width: 32px;\n",
              "    }\n",
              "\n",
              "    .colab-df-convert:hover {\n",
              "      background-color: #E2EBFA;\n",
              "      box-shadow: 0px 1px 2px rgba(60, 64, 67, 0.3), 0px 1px 3px 1px rgba(60, 64, 67, 0.15);\n",
              "      fill: #174EA6;\n",
              "    }\n",
              "\n",
              "    [theme=dark] .colab-df-convert {\n",
              "      background-color: #3B4455;\n",
              "      fill: #D2E3FC;\n",
              "    }\n",
              "\n",
              "    [theme=dark] .colab-df-convert:hover {\n",
              "      background-color: #434B5C;\n",
              "      box-shadow: 0px 1px 3px 1px rgba(0, 0, 0, 0.15);\n",
              "      filter: drop-shadow(0px 1px 2px rgba(0, 0, 0, 0.3));\n",
              "      fill: #FFFFFF;\n",
              "    }\n",
              "  </style>\n",
              "\n",
              "      <script>\n",
              "        const buttonEl =\n",
              "          document.querySelector('#df-ec910453-7ab0-4cad-b54c-130beaf7007e button.colab-df-convert');\n",
              "        buttonEl.style.display =\n",
              "          google.colab.kernel.accessAllowed ? 'block' : 'none';\n",
              "\n",
              "        async function convertToInteractive(key) {\n",
              "          const element = document.querySelector('#df-ec910453-7ab0-4cad-b54c-130beaf7007e');\n",
              "          const dataTable =\n",
              "            await google.colab.kernel.invokeFunction('convertToInteractive',\n",
              "                                                     [key], {});\n",
              "          if (!dataTable) return;\n",
              "\n",
              "          const docLinkHtml = 'Like what you see? Visit the ' +\n",
              "            '<a target=\"_blank\" href=https://colab.research.google.com/notebooks/data_table.ipynb>data table notebook</a>'\n",
              "            + ' to learn more about interactive tables.';\n",
              "          element.innerHTML = '';\n",
              "          dataTable['output_type'] = 'display_data';\n",
              "          await google.colab.output.renderOutput(dataTable, element);\n",
              "          const docLink = document.createElement('div');\n",
              "          docLink.innerHTML = docLinkHtml;\n",
              "          element.appendChild(docLink);\n",
              "        }\n",
              "      </script>\n",
              "    </div>\n",
              "  </div>\n",
              "  "
            ]
          },
          "metadata": {},
          "execution_count": 114
        }
      ]
    },
    {
      "cell_type": "code",
      "source": [
        "hd=hd.replace('?',np.nan)"
      ],
      "metadata": {
        "id": "P7WhaOYaprlv"
      },
      "execution_count": null,
      "outputs": []
    },
    {
      "cell_type": "code",
      "source": [
        "hd.rename(index = {\"target\": \"heartdisease\"},\n",
        "inplace = True)"
      ],
      "metadata": {
        "id": "wTe6i4vPsDCg"
      },
      "execution_count": null,
      "outputs": []
    },
    {
      "cell_type": "code",
      "source": [
        "hd.rename(columns={\"target\": \"heartdisease\"})"
      ],
      "metadata": {
        "colab": {
          "base_uri": "https://localhost:8080/",
          "height": 424
        },
        "id": "PnMxiMezszah",
        "outputId": "57ded849-3432-497b-9aca-43b47ed6af0b"
      },
      "execution_count": null,
      "outputs": [
        {
          "output_type": "execute_result",
          "data": {
            "text/plain": [
              "     age  sex  cp  trestbps  chol  fbs  restecg  thalach  exang  oldpeak  \\\n",
              "0     63    1   3       145   233    1        0      150      0      2.3   \n",
              "1     37    1   2       130   250    0        1      187      0      3.5   \n",
              "2     41    0   1       130   204    0        0      172      0      1.4   \n",
              "3     56    1   1       120   236    0        1      178      0      0.8   \n",
              "4     57    0   0       120   354    0        1      163      1      0.6   \n",
              "..   ...  ...  ..       ...   ...  ...      ...      ...    ...      ...   \n",
              "298   57    0   0       140   241    0        1      123      1      0.2   \n",
              "299   45    1   3       110   264    0        1      132      0      1.2   \n",
              "300   68    1   0       144   193    1        1      141      0      3.4   \n",
              "301   57    1   0       130   131    0        1      115      1      1.2   \n",
              "302   57    0   1       130   236    0        0      174      0      0.0   \n",
              "\n",
              "     slope  ca  thal  heartdisease  \n",
              "0        0   0     1             1  \n",
              "1        0   0     2             1  \n",
              "2        2   0     2             1  \n",
              "3        2   0     2             1  \n",
              "4        2   0     2             1  \n",
              "..     ...  ..   ...           ...  \n",
              "298      1   0     3             0  \n",
              "299      1   0     3             0  \n",
              "300      1   2     3             0  \n",
              "301      1   1     3             0  \n",
              "302      1   1     2             0  \n",
              "\n",
              "[303 rows x 14 columns]"
            ],
            "text/html": [
              "\n",
              "  <div id=\"df-b608401b-19ac-4b1c-8b5c-1db8bc5ee434\">\n",
              "    <div class=\"colab-df-container\">\n",
              "      <div>\n",
              "<style scoped>\n",
              "    .dataframe tbody tr th:only-of-type {\n",
              "        vertical-align: middle;\n",
              "    }\n",
              "\n",
              "    .dataframe tbody tr th {\n",
              "        vertical-align: top;\n",
              "    }\n",
              "\n",
              "    .dataframe thead th {\n",
              "        text-align: right;\n",
              "    }\n",
              "</style>\n",
              "<table border=\"1\" class=\"dataframe\">\n",
              "  <thead>\n",
              "    <tr style=\"text-align: right;\">\n",
              "      <th></th>\n",
              "      <th>age</th>\n",
              "      <th>sex</th>\n",
              "      <th>cp</th>\n",
              "      <th>trestbps</th>\n",
              "      <th>chol</th>\n",
              "      <th>fbs</th>\n",
              "      <th>restecg</th>\n",
              "      <th>thalach</th>\n",
              "      <th>exang</th>\n",
              "      <th>oldpeak</th>\n",
              "      <th>slope</th>\n",
              "      <th>ca</th>\n",
              "      <th>thal</th>\n",
              "      <th>heartdisease</th>\n",
              "    </tr>\n",
              "  </thead>\n",
              "  <tbody>\n",
              "    <tr>\n",
              "      <th>0</th>\n",
              "      <td>63</td>\n",
              "      <td>1</td>\n",
              "      <td>3</td>\n",
              "      <td>145</td>\n",
              "      <td>233</td>\n",
              "      <td>1</td>\n",
              "      <td>0</td>\n",
              "      <td>150</td>\n",
              "      <td>0</td>\n",
              "      <td>2.3</td>\n",
              "      <td>0</td>\n",
              "      <td>0</td>\n",
              "      <td>1</td>\n",
              "      <td>1</td>\n",
              "    </tr>\n",
              "    <tr>\n",
              "      <th>1</th>\n",
              "      <td>37</td>\n",
              "      <td>1</td>\n",
              "      <td>2</td>\n",
              "      <td>130</td>\n",
              "      <td>250</td>\n",
              "      <td>0</td>\n",
              "      <td>1</td>\n",
              "      <td>187</td>\n",
              "      <td>0</td>\n",
              "      <td>3.5</td>\n",
              "      <td>0</td>\n",
              "      <td>0</td>\n",
              "      <td>2</td>\n",
              "      <td>1</td>\n",
              "    </tr>\n",
              "    <tr>\n",
              "      <th>2</th>\n",
              "      <td>41</td>\n",
              "      <td>0</td>\n",
              "      <td>1</td>\n",
              "      <td>130</td>\n",
              "      <td>204</td>\n",
              "      <td>0</td>\n",
              "      <td>0</td>\n",
              "      <td>172</td>\n",
              "      <td>0</td>\n",
              "      <td>1.4</td>\n",
              "      <td>2</td>\n",
              "      <td>0</td>\n",
              "      <td>2</td>\n",
              "      <td>1</td>\n",
              "    </tr>\n",
              "    <tr>\n",
              "      <th>3</th>\n",
              "      <td>56</td>\n",
              "      <td>1</td>\n",
              "      <td>1</td>\n",
              "      <td>120</td>\n",
              "      <td>236</td>\n",
              "      <td>0</td>\n",
              "      <td>1</td>\n",
              "      <td>178</td>\n",
              "      <td>0</td>\n",
              "      <td>0.8</td>\n",
              "      <td>2</td>\n",
              "      <td>0</td>\n",
              "      <td>2</td>\n",
              "      <td>1</td>\n",
              "    </tr>\n",
              "    <tr>\n",
              "      <th>4</th>\n",
              "      <td>57</td>\n",
              "      <td>0</td>\n",
              "      <td>0</td>\n",
              "      <td>120</td>\n",
              "      <td>354</td>\n",
              "      <td>0</td>\n",
              "      <td>1</td>\n",
              "      <td>163</td>\n",
              "      <td>1</td>\n",
              "      <td>0.6</td>\n",
              "      <td>2</td>\n",
              "      <td>0</td>\n",
              "      <td>2</td>\n",
              "      <td>1</td>\n",
              "    </tr>\n",
              "    <tr>\n",
              "      <th>...</th>\n",
              "      <td>...</td>\n",
              "      <td>...</td>\n",
              "      <td>...</td>\n",
              "      <td>...</td>\n",
              "      <td>...</td>\n",
              "      <td>...</td>\n",
              "      <td>...</td>\n",
              "      <td>...</td>\n",
              "      <td>...</td>\n",
              "      <td>...</td>\n",
              "      <td>...</td>\n",
              "      <td>...</td>\n",
              "      <td>...</td>\n",
              "      <td>...</td>\n",
              "    </tr>\n",
              "    <tr>\n",
              "      <th>298</th>\n",
              "      <td>57</td>\n",
              "      <td>0</td>\n",
              "      <td>0</td>\n",
              "      <td>140</td>\n",
              "      <td>241</td>\n",
              "      <td>0</td>\n",
              "      <td>1</td>\n",
              "      <td>123</td>\n",
              "      <td>1</td>\n",
              "      <td>0.2</td>\n",
              "      <td>1</td>\n",
              "      <td>0</td>\n",
              "      <td>3</td>\n",
              "      <td>0</td>\n",
              "    </tr>\n",
              "    <tr>\n",
              "      <th>299</th>\n",
              "      <td>45</td>\n",
              "      <td>1</td>\n",
              "      <td>3</td>\n",
              "      <td>110</td>\n",
              "      <td>264</td>\n",
              "      <td>0</td>\n",
              "      <td>1</td>\n",
              "      <td>132</td>\n",
              "      <td>0</td>\n",
              "      <td>1.2</td>\n",
              "      <td>1</td>\n",
              "      <td>0</td>\n",
              "      <td>3</td>\n",
              "      <td>0</td>\n",
              "    </tr>\n",
              "    <tr>\n",
              "      <th>300</th>\n",
              "      <td>68</td>\n",
              "      <td>1</td>\n",
              "      <td>0</td>\n",
              "      <td>144</td>\n",
              "      <td>193</td>\n",
              "      <td>1</td>\n",
              "      <td>1</td>\n",
              "      <td>141</td>\n",
              "      <td>0</td>\n",
              "      <td>3.4</td>\n",
              "      <td>1</td>\n",
              "      <td>2</td>\n",
              "      <td>3</td>\n",
              "      <td>0</td>\n",
              "    </tr>\n",
              "    <tr>\n",
              "      <th>301</th>\n",
              "      <td>57</td>\n",
              "      <td>1</td>\n",
              "      <td>0</td>\n",
              "      <td>130</td>\n",
              "      <td>131</td>\n",
              "      <td>0</td>\n",
              "      <td>1</td>\n",
              "      <td>115</td>\n",
              "      <td>1</td>\n",
              "      <td>1.2</td>\n",
              "      <td>1</td>\n",
              "      <td>1</td>\n",
              "      <td>3</td>\n",
              "      <td>0</td>\n",
              "    </tr>\n",
              "    <tr>\n",
              "      <th>302</th>\n",
              "      <td>57</td>\n",
              "      <td>0</td>\n",
              "      <td>1</td>\n",
              "      <td>130</td>\n",
              "      <td>236</td>\n",
              "      <td>0</td>\n",
              "      <td>0</td>\n",
              "      <td>174</td>\n",
              "      <td>0</td>\n",
              "      <td>0.0</td>\n",
              "      <td>1</td>\n",
              "      <td>1</td>\n",
              "      <td>2</td>\n",
              "      <td>0</td>\n",
              "    </tr>\n",
              "  </tbody>\n",
              "</table>\n",
              "<p>303 rows × 14 columns</p>\n",
              "</div>\n",
              "      <button class=\"colab-df-convert\" onclick=\"convertToInteractive('df-b608401b-19ac-4b1c-8b5c-1db8bc5ee434')\"\n",
              "              title=\"Convert this dataframe to an interactive table.\"\n",
              "              style=\"display:none;\">\n",
              "        \n",
              "  <svg xmlns=\"http://www.w3.org/2000/svg\" height=\"24px\"viewBox=\"0 0 24 24\"\n",
              "       width=\"24px\">\n",
              "    <path d=\"M0 0h24v24H0V0z\" fill=\"none\"/>\n",
              "    <path d=\"M18.56 5.44l.94 2.06.94-2.06 2.06-.94-2.06-.94-.94-2.06-.94 2.06-2.06.94zm-11 1L8.5 8.5l.94-2.06 2.06-.94-2.06-.94L8.5 2.5l-.94 2.06-2.06.94zm10 10l.94 2.06.94-2.06 2.06-.94-2.06-.94-.94-2.06-.94 2.06-2.06.94z\"/><path d=\"M17.41 7.96l-1.37-1.37c-.4-.4-.92-.59-1.43-.59-.52 0-1.04.2-1.43.59L10.3 9.45l-7.72 7.72c-.78.78-.78 2.05 0 2.83L4 21.41c.39.39.9.59 1.41.59.51 0 1.02-.2 1.41-.59l7.78-7.78 2.81-2.81c.8-.78.8-2.07 0-2.86zM5.41 20L4 18.59l7.72-7.72 1.47 1.35L5.41 20z\"/>\n",
              "  </svg>\n",
              "      </button>\n",
              "      \n",
              "  <style>\n",
              "    .colab-df-container {\n",
              "      display:flex;\n",
              "      flex-wrap:wrap;\n",
              "      gap: 12px;\n",
              "    }\n",
              "\n",
              "    .colab-df-convert {\n",
              "      background-color: #E8F0FE;\n",
              "      border: none;\n",
              "      border-radius: 50%;\n",
              "      cursor: pointer;\n",
              "      display: none;\n",
              "      fill: #1967D2;\n",
              "      height: 32px;\n",
              "      padding: 0 0 0 0;\n",
              "      width: 32px;\n",
              "    }\n",
              "\n",
              "    .colab-df-convert:hover {\n",
              "      background-color: #E2EBFA;\n",
              "      box-shadow: 0px 1px 2px rgba(60, 64, 67, 0.3), 0px 1px 3px 1px rgba(60, 64, 67, 0.15);\n",
              "      fill: #174EA6;\n",
              "    }\n",
              "\n",
              "    [theme=dark] .colab-df-convert {\n",
              "      background-color: #3B4455;\n",
              "      fill: #D2E3FC;\n",
              "    }\n",
              "\n",
              "    [theme=dark] .colab-df-convert:hover {\n",
              "      background-color: #434B5C;\n",
              "      box-shadow: 0px 1px 3px 1px rgba(0, 0, 0, 0.15);\n",
              "      filter: drop-shadow(0px 1px 2px rgba(0, 0, 0, 0.3));\n",
              "      fill: #FFFFFF;\n",
              "    }\n",
              "  </style>\n",
              "\n",
              "      <script>\n",
              "        const buttonEl =\n",
              "          document.querySelector('#df-b608401b-19ac-4b1c-8b5c-1db8bc5ee434 button.colab-df-convert');\n",
              "        buttonEl.style.display =\n",
              "          google.colab.kernel.accessAllowed ? 'block' : 'none';\n",
              "\n",
              "        async function convertToInteractive(key) {\n",
              "          const element = document.querySelector('#df-b608401b-19ac-4b1c-8b5c-1db8bc5ee434');\n",
              "          const dataTable =\n",
              "            await google.colab.kernel.invokeFunction('convertToInteractive',\n",
              "                                                     [key], {});\n",
              "          if (!dataTable) return;\n",
              "\n",
              "          const docLinkHtml = 'Like what you see? Visit the ' +\n",
              "            '<a target=\"_blank\" href=https://colab.research.google.com/notebooks/data_table.ipynb>data table notebook</a>'\n",
              "            + ' to learn more about interactive tables.';\n",
              "          element.innerHTML = '';\n",
              "          dataTable['output_type'] = 'display_data';\n",
              "          await google.colab.output.renderOutput(dataTable, element);\n",
              "          const docLink = document.createElement('div');\n",
              "          docLink.innerHTML = docLinkHtml;\n",
              "          element.appendChild(docLink);\n",
              "        }\n",
              "      </script>\n",
              "    </div>\n",
              "  </div>\n",
              "  "
            ]
          },
          "metadata": {},
          "execution_count": 126
        }
      ]
    },
    {
      "cell_type": "code",
      "source": [
        "hd.columns"
      ],
      "metadata": {
        "colab": {
          "base_uri": "https://localhost:8080/"
        },
        "id": "4hztWE5Osdex",
        "outputId": "24e9e0e5-c494-475a-b2c0-9520f1a4b0cb"
      },
      "execution_count": null,
      "outputs": [
        {
          "output_type": "execute_result",
          "data": {
            "text/plain": [
              "Index(['age', 'sex', 'cp', 'trestbps', 'chol', 'fbs', 'restecg', 'thalach',\n",
              "       'exang', 'oldpeak', 'slope', 'ca', 'thal', 'target'],\n",
              "      dtype='object')"
            ]
          },
          "metadata": {},
          "execution_count": 127
        }
      ]
    },
    {
      "cell_type": "code",
      "source": [
        "model=BayesianModel([('age','target'),('sex','target'),('exang','target'),('cp','target'),('target','restecg'),('target','chol')])"
      ],
      "metadata": {
        "colab": {
          "base_uri": "https://localhost:8080/"
        },
        "id": "zKGwJwh-pxZ8",
        "outputId": "b299e766-d574-4ccd-acf8-39e3350c0389"
      },
      "execution_count": null,
      "outputs": [
        {
          "output_type": "stream",
          "name": "stderr",
          "text": [
            "/usr/local/lib/python3.9/dist-packages/pgmpy/models/BayesianModel.py:8: FutureWarning: BayesianModel has been renamed to BayesianNetwork. Please use BayesianNetwork class, BayesianModel will be removed in future.\n",
            "  warnings.warn(\n"
          ]
        }
      ]
    },
    {
      "cell_type": "code",
      "source": [
        "model.fit(hd,estimator=MaximumLikelihoodEstimator)"
      ],
      "metadata": {
        "id": "3JH1cnU1qsfH"
      },
      "execution_count": null,
      "outputs": []
    },
    {
      "cell_type": "code",
      "source": [
        "hd_infer=VariableElimination(model)"
      ],
      "metadata": {
        "id": "72BhEoOStPZD"
      },
      "execution_count": null,
      "outputs": []
    },
    {
      "cell_type": "code",
      "source": [
        "#querying\n",
        "q1=hd_infer.query(variables=['target'],evidence={'restecg':1,'cp':2,'age':40})"
      ],
      "metadata": {
        "id": "c_TN9luEtxyM"
      },
      "execution_count": null,
      "outputs": []
    },
    {
      "cell_type": "code",
      "source": [
        "print(q1)"
      ],
      "metadata": {
        "colab": {
          "base_uri": "https://localhost:8080/"
        },
        "id": "Mt-DLk_qu1bG",
        "outputId": "ac37c955-3716-4f16-b38f-83548ff816e1"
      },
      "execution_count": null,
      "outputs": [
        {
          "output_type": "stream",
          "name": "stdout",
          "text": [
            "+-----------+---------------+\n",
            "| target    |   phi(target) |\n",
            "+===========+===============+\n",
            "| target(0) |        0.4109 |\n",
            "+-----------+---------------+\n",
            "| target(1) |        0.5891 |\n",
            "+-----------+---------------+\n"
          ]
        }
      ]
    },
    {
      "cell_type": "code",
      "source": [
        "q2=hd_infer.query(variables=['target'],evidence={'sex':0,'age':40})"
      ],
      "metadata": {
        "colab": {
          "base_uri": "https://localhost:8080/"
        },
        "id": "A06LLgPbvMGe",
        "outputId": "0fb9c6f7-c8bf-4af8-8f23-67ec22739d74"
      },
      "execution_count": null,
      "outputs": [
        {
          "output_type": "stream",
          "name": "stderr",
          "text": [
            "/usr/local/lib/python3.9/dist-packages/pgmpy/models/BayesianModel.py:8: FutureWarning: BayesianModel has been renamed to BayesianNetwork. Please use BayesianNetwork class, BayesianModel will be removed in future.\n",
            "  warnings.warn(\n"
          ]
        }
      ]
    },
    {
      "cell_type": "code",
      "source": [
        "print(q2)"
      ],
      "metadata": {
        "colab": {
          "base_uri": "https://localhost:8080/"
        },
        "id": "QPjBIpq-v7qG",
        "outputId": "b6223949-cb75-418b-ac7d-d4a11638d63a"
      },
      "execution_count": null,
      "outputs": [
        {
          "output_type": "stream",
          "name": "stdout",
          "text": [
            "+-----------+---------------+\n",
            "| target    |   phi(target) |\n",
            "+===========+===============+\n",
            "| target(0) |        0.5000 |\n",
            "+-----------+---------------+\n",
            "| target(1) |        0.5000 |\n",
            "+-----------+---------------+\n"
          ]
        }
      ]
    },
    {
      "cell_type": "code",
      "source": [
        "model.get_independencies()\n"
      ],
      "metadata": {
        "colab": {
          "base_uri": "https://localhost:8080/"
        },
        "id": "ZYtpCLDDyOdl",
        "outputId": "c34cecbb-1bc3-4256-c709-8c32c34c3449"
      },
      "execution_count": null,
      "outputs": [
        {
          "output_type": "execute_result",
          "data": {
            "text/plain": [
              "(sex ⟂ exang, age, cp)\n",
              "(sex ⟂ restecg, chol | target)\n",
              "(sex ⟂ age, cp | exang)\n",
              "(sex ⟂ exang, cp | age)\n",
              "(sex ⟂ exang, age | cp)\n",
              "(sex ⟂ restecg | target, chol)\n",
              "(sex ⟂ restecg, chol | exang, target)\n",
              "(sex ⟂ restecg, chol | target, age)\n",
              "(sex ⟂ chol | target, restecg)\n",
              "(sex ⟂ restecg, chol | target, cp)\n",
              "(sex ⟂ cp | exang, age)\n",
              "(sex ⟂ age | exang, cp)\n",
              "(sex ⟂ exang | age, cp)\n",
              "(sex ⟂ restecg | exang, target, chol)\n",
              "(sex ⟂ restecg | target, age, chol)\n",
              "(sex ⟂ restecg | cp, target, chol)\n",
              "(sex ⟂ restecg, chol | exang, target, age)\n",
              "(sex ⟂ chol | exang, target, restecg)\n",
              "(sex ⟂ restecg, chol | exang, target, cp)\n",
              "(sex ⟂ chol | target, age, restecg)\n",
              "(sex ⟂ restecg, chol | target, age, cp)\n",
              "(sex ⟂ chol | target, restecg, cp)\n",
              "(sex ⟂ restecg | exang, target, age, chol)\n",
              "(sex ⟂ restecg | exang, target, cp, chol)\n",
              "(sex ⟂ restecg | cp, target, age, chol)\n",
              "(sex ⟂ chol | exang, target, age, restecg)\n",
              "(sex ⟂ restecg, chol | exang, target, age, cp)\n",
              "(sex ⟂ chol | exang, target, restecg, cp)\n",
              "(sex ⟂ chol | target, age, restecg, cp)\n",
              "(sex ⟂ restecg | target, exang, cp, chol, age)\n",
              "(sex ⟂ chol | target, exang, restecg, cp, age)\n",
              "(chol ⟂ sex, exang, age, restecg, cp | target)\n",
              "(chol ⟂ exang, age, restecg, cp | target, sex)\n",
              "(chol ⟂ sex, age, restecg, cp | exang, target)\n",
              "(chol ⟂ exang, sex, restecg, cp | target, age)\n",
              "(chol ⟂ exang, age, sex, cp | target, restecg)\n",
              "(chol ⟂ exang, sex, age, restecg | target, cp)\n",
              "(chol ⟂ age, restecg, cp | exang, target, sex)\n",
              "(chol ⟂ exang, restecg, cp | target, age, sex)\n",
              "(chol ⟂ exang, age, cp | target, restecg, sex)\n",
              "(chol ⟂ exang, age, restecg | target, sex, cp)\n",
              "(chol ⟂ sex, restecg, cp | exang, target, age)\n",
              "(chol ⟂ age, sex, cp | exang, target, restecg)\n",
              "(chol ⟂ sex, age, restecg | exang, target, cp)\n",
              "(chol ⟂ exang, sex, cp | target, age, restecg)\n",
              "(chol ⟂ exang, sex, restecg | target, age, cp)\n",
              "(chol ⟂ exang, age, sex | target, restecg, cp)\n",
              "(chol ⟂ restecg, cp | exang, target, age, sex)\n",
              "(chol ⟂ age, cp | exang, target, restecg, sex)\n",
              "(chol ⟂ age, restecg | exang, target, sex, cp)\n",
              "(chol ⟂ exang, cp | target, age, sex, restecg)\n",
              "(chol ⟂ exang, restecg | target, age, sex, cp)\n",
              "(chol ⟂ exang, age | target, restecg, sex, cp)\n",
              "(chol ⟂ sex, cp | exang, target, age, restecg)\n",
              "(chol ⟂ sex, restecg | exang, target, age, cp)\n",
              "(chol ⟂ age, sex | exang, target, restecg, cp)\n",
              "(chol ⟂ exang, sex | target, age, restecg, cp)\n",
              "(chol ⟂ cp | target, exang, restecg, age, sex)\n",
              "(chol ⟂ restecg | target, exang, cp, age, sex)\n",
              "(chol ⟂ age | target, exang, restecg, cp, sex)\n",
              "(chol ⟂ exang | target, restecg, cp, age, sex)\n",
              "(chol ⟂ sex | target, exang, restecg, cp, age)\n",
              "(exang ⟂ age, sex, cp)\n",
              "(exang ⟂ age, cp | sex)\n",
              "(exang ⟂ restecg, chol | target)\n",
              "(exang ⟂ sex, cp | age)\n",
              "(exang ⟂ age, sex | cp)\n",
              "(exang ⟂ restecg, chol | target, sex)\n",
              "(exang ⟂ cp | age, sex)\n",
              "(exang ⟂ age | sex, cp)\n",
              "(exang ⟂ restecg | target, chol)\n",
              "(exang ⟂ restecg, chol | target, age)\n",
              "(exang ⟂ chol | target, restecg)\n",
              "(exang ⟂ restecg, chol | target, cp)\n",
              "(exang ⟂ sex | age, cp)\n",
              "(exang ⟂ restecg | target, sex, chol)\n",
              "(exang ⟂ restecg, chol | target, age, sex)\n",
              "(exang ⟂ chol | target, restecg, sex)\n",
              "(exang ⟂ restecg, chol | target, sex, cp)\n",
              "(exang ⟂ restecg | target, age, chol)\n",
              "(exang ⟂ restecg | cp, target, chol)\n",
              "(exang ⟂ chol | target, age, restecg)\n",
              "(exang ⟂ restecg, chol | target, age, cp)\n",
              "(exang ⟂ chol | target, restecg, cp)\n",
              "(exang ⟂ restecg | target, age, sex, chol)\n",
              "(exang ⟂ restecg | cp, target, sex, chol)\n",
              "(exang ⟂ chol | target, age, sex, restecg)\n",
              "(exang ⟂ restecg, chol | target, age, sex, cp)\n",
              "(exang ⟂ chol | target, restecg, sex, cp)\n",
              "(exang ⟂ restecg | cp, target, age, chol)\n",
              "(exang ⟂ chol | target, age, restecg, cp)\n",
              "(exang ⟂ restecg | target, cp, chol, age, sex)\n",
              "(exang ⟂ chol | target, restecg, cp, age, sex)\n",
              "(age ⟂ exang, sex, cp)\n",
              "(age ⟂ exang, cp | sex)\n",
              "(age ⟂ restecg, chol | target)\n",
              "(age ⟂ sex, cp | exang)\n",
              "(age ⟂ exang, sex | cp)\n",
              "(age ⟂ restecg, chol | target, sex)\n",
              "(age ⟂ cp | exang, sex)\n",
              "(age ⟂ exang | sex, cp)\n",
              "(age ⟂ restecg | target, chol)\n",
              "(age ⟂ restecg, chol | exang, target)\n",
              "(age ⟂ chol | target, restecg)\n",
              "(age ⟂ restecg, chol | target, cp)\n",
              "(age ⟂ sex | exang, cp)\n",
              "(age ⟂ restecg | target, sex, chol)\n",
              "(age ⟂ restecg, chol | exang, target, sex)\n",
              "(age ⟂ chol | target, restecg, sex)\n",
              "(age ⟂ restecg, chol | target, sex, cp)\n",
              "(age ⟂ restecg | exang, target, chol)\n",
              "(age ⟂ restecg | cp, target, chol)\n",
              "(age ⟂ chol | exang, target, restecg)\n",
              "(age ⟂ restecg, chol | exang, target, cp)\n",
              "(age ⟂ chol | target, restecg, cp)\n",
              "(age ⟂ restecg | exang, target, sex, chol)\n",
              "(age ⟂ restecg | cp, target, sex, chol)\n",
              "(age ⟂ chol | exang, target, restecg, sex)\n",
              "(age ⟂ restecg, chol | exang, target, sex, cp)\n",
              "(age ⟂ chol | target, restecg, sex, cp)\n",
              "(age ⟂ restecg | exang, target, cp, chol)\n",
              "(age ⟂ chol | exang, target, restecg, cp)\n",
              "(age ⟂ restecg | target, exang, cp, chol, sex)\n",
              "(age ⟂ chol | target, exang, restecg, cp, sex)\n",
              "(restecg ⟂ chol, exang, age, sex, cp | target)\n",
              "(restecg ⟂ exang, age, sex, cp | target, chol)\n",
              "(restecg ⟂ chol, age, sex, cp | exang, target)\n",
              "(restecg ⟂ exang, sex, cp, chol | target, age)\n",
              "(restecg ⟂ exang, age, chol, cp | target, sex)\n",
              "(restecg ⟂ exang, age, sex, chol | target, cp)\n",
              "(restecg ⟂ age, sex, cp | exang, target, chol)\n",
              "(restecg ⟂ exang, sex, cp | target, age, chol)\n",
              "(restecg ⟂ exang, age, cp | target, sex, chol)\n",
              "(restecg ⟂ exang, age, sex | cp, target, chol)\n",
              "(restecg ⟂ chol, sex, cp | exang, target, age)\n",
              "(restecg ⟂ age, chol, cp | exang, target, sex)\n",
              "(restecg ⟂ age, sex, chol | exang, target, cp)\n",
              "(restecg ⟂ exang, chol, cp | target, age, sex)\n",
              "(restecg ⟂ exang, sex, chol | target, age, cp)\n",
              "(restecg ⟂ exang, age, chol | target, sex, cp)\n",
              "(restecg ⟂ sex, cp | exang, target, age, chol)\n",
              "(restecg ⟂ age, cp | exang, target, sex, chol)\n",
              "(restecg ⟂ age, sex | exang, target, cp, chol)\n",
              "(restecg ⟂ exang, cp | target, age, sex, chol)\n",
              "(restecg ⟂ exang, sex | cp, target, age, chol)\n",
              "(restecg ⟂ exang, age | cp, target, sex, chol)\n",
              "(restecg ⟂ chol, cp | exang, target, age, sex)\n",
              "(restecg ⟂ sex, chol | exang, target, age, cp)\n",
              "(restecg ⟂ age, chol | exang, target, sex, cp)\n",
              "(restecg ⟂ exang, chol | target, age, sex, cp)\n",
              "(restecg ⟂ cp | target, exang, chol, age, sex)\n",
              "(restecg ⟂ sex | target, exang, cp, chol, age)\n",
              "(restecg ⟂ age | target, exang, cp, chol, sex)\n",
              "(restecg ⟂ exang | target, cp, chol, age, sex)\n",
              "(restecg ⟂ chol | target, exang, cp, age, sex)\n",
              "(cp ⟂ exang, age, sex)\n",
              "(cp ⟂ exang, age | sex)\n",
              "(cp ⟂ restecg, chol | target)\n",
              "(cp ⟂ age, sex | exang)\n",
              "(cp ⟂ exang, sex | age)\n",
              "(cp ⟂ restecg, chol | target, sex)\n",
              "(cp ⟂ age | exang, sex)\n",
              "(cp ⟂ exang | age, sex)\n",
              "(cp ⟂ restecg | target, chol)\n",
              "(cp ⟂ restecg, chol | exang, target)\n",
              "(cp ⟂ restecg, chol | target, age)\n",
              "(cp ⟂ chol | target, restecg)\n",
              "(cp ⟂ sex | exang, age)\n",
              "(cp ⟂ restecg | target, sex, chol)\n",
              "(cp ⟂ restecg, chol | exang, target, sex)\n",
              "(cp ⟂ restecg, chol | target, age, sex)\n",
              "(cp ⟂ chol | target, restecg, sex)\n",
              "(cp ⟂ restecg | exang, target, chol)\n",
              "(cp ⟂ restecg | target, age, chol)\n",
              "(cp ⟂ restecg, chol | exang, target, age)\n",
              "(cp ⟂ chol | exang, target, restecg)\n",
              "(cp ⟂ chol | target, age, restecg)\n",
              "(cp ⟂ restecg | exang, target, sex, chol)\n",
              "(cp ⟂ restecg | target, age, sex, chol)\n",
              "(cp ⟂ restecg, chol | exang, target, age, sex)\n",
              "(cp ⟂ chol | exang, target, restecg, sex)\n",
              "(cp ⟂ chol | target, age, sex, restecg)\n",
              "(cp ⟂ restecg | exang, target, age, chol)\n",
              "(cp ⟂ chol | exang, target, age, restecg)\n",
              "(cp ⟂ restecg | target, exang, chol, age, sex)\n",
              "(cp ⟂ chol | target, exang, restecg, age, sex)"
            ]
          },
          "metadata": {},
          "execution_count": 140
        }
      ]
    },
    {
      "cell_type": "markdown",
      "source": [
        "#try using cancer\n",
        "https://pgmpy.org/examples/Creating%20a%20Discrete%20Bayesian%20Network.html"
      ],
      "metadata": {
        "id": "iinjYzpF0MWY"
      }
    },
    {
      "cell_type": "markdown",
      "source": [
        "#DECISION TREE CLASSIFICATION"
      ],
      "metadata": {
        "id": "-RodQhdvVzTt"
      }
    },
    {
      "cell_type": "code",
      "source": [
        "import pandas as pd\n",
        "import numpy as np"
      ],
      "metadata": {
        "id": "42cYrmeeV6OY"
      },
      "execution_count": null,
      "outputs": []
    },
    {
      "cell_type": "code",
      "source": [
        "df=pd.read_csv('/content/naivebayes.csv')"
      ],
      "metadata": {
        "id": "5LgVuSd4XuRA"
      },
      "execution_count": null,
      "outputs": []
    },
    {
      "cell_type": "code",
      "source": [
        "df"
      ],
      "metadata": {
        "colab": {
          "base_uri": "https://localhost:8080/",
          "height": 488
        },
        "id": "CZXpkDcKXybQ",
        "outputId": "f25910cf-5b72-4fed-827e-3c8959e38e1f"
      },
      "execution_count": null,
      "outputs": [
        {
          "output_type": "execute_result",
          "data": {
            "text/plain": [
              "     outlook temperature humidity  windy class\n",
              "0      sunny         hot     high  False    no\n",
              "1      sunny         hot     high   True    no\n",
              "2   overcast         hot     high  False   yes\n",
              "3       rain        mild     high  False   yes\n",
              "4       rain        cool   normal  False   yes\n",
              "5       rain        cool   normal   True    no\n",
              "6   overcast        cool   normal   True   yes\n",
              "7      sunny        mild     high  False    no\n",
              "8      sunny        cool   normal  False   yes\n",
              "9       rain        mild   normal  False   yes\n",
              "10     sunny        mild   normal   True   yes\n",
              "11  overcast        mild     high   True   yes\n",
              "12  overcast         hot   normal  False   yes\n",
              "13      rain        mild     high   True    no"
            ],
            "text/html": [
              "\n",
              "  <div id=\"df-be07115a-849b-4a21-bd09-39b9f7510883\">\n",
              "    <div class=\"colab-df-container\">\n",
              "      <div>\n",
              "<style scoped>\n",
              "    .dataframe tbody tr th:only-of-type {\n",
              "        vertical-align: middle;\n",
              "    }\n",
              "\n",
              "    .dataframe tbody tr th {\n",
              "        vertical-align: top;\n",
              "    }\n",
              "\n",
              "    .dataframe thead th {\n",
              "        text-align: right;\n",
              "    }\n",
              "</style>\n",
              "<table border=\"1\" class=\"dataframe\">\n",
              "  <thead>\n",
              "    <tr style=\"text-align: right;\">\n",
              "      <th></th>\n",
              "      <th>outlook</th>\n",
              "      <th>temperature</th>\n",
              "      <th>humidity</th>\n",
              "      <th>windy</th>\n",
              "      <th>class</th>\n",
              "    </tr>\n",
              "  </thead>\n",
              "  <tbody>\n",
              "    <tr>\n",
              "      <th>0</th>\n",
              "      <td>sunny</td>\n",
              "      <td>hot</td>\n",
              "      <td>high</td>\n",
              "      <td>False</td>\n",
              "      <td>no</td>\n",
              "    </tr>\n",
              "    <tr>\n",
              "      <th>1</th>\n",
              "      <td>sunny</td>\n",
              "      <td>hot</td>\n",
              "      <td>high</td>\n",
              "      <td>True</td>\n",
              "      <td>no</td>\n",
              "    </tr>\n",
              "    <tr>\n",
              "      <th>2</th>\n",
              "      <td>overcast</td>\n",
              "      <td>hot</td>\n",
              "      <td>high</td>\n",
              "      <td>False</td>\n",
              "      <td>yes</td>\n",
              "    </tr>\n",
              "    <tr>\n",
              "      <th>3</th>\n",
              "      <td>rain</td>\n",
              "      <td>mild</td>\n",
              "      <td>high</td>\n",
              "      <td>False</td>\n",
              "      <td>yes</td>\n",
              "    </tr>\n",
              "    <tr>\n",
              "      <th>4</th>\n",
              "      <td>rain</td>\n",
              "      <td>cool</td>\n",
              "      <td>normal</td>\n",
              "      <td>False</td>\n",
              "      <td>yes</td>\n",
              "    </tr>\n",
              "    <tr>\n",
              "      <th>5</th>\n",
              "      <td>rain</td>\n",
              "      <td>cool</td>\n",
              "      <td>normal</td>\n",
              "      <td>True</td>\n",
              "      <td>no</td>\n",
              "    </tr>\n",
              "    <tr>\n",
              "      <th>6</th>\n",
              "      <td>overcast</td>\n",
              "      <td>cool</td>\n",
              "      <td>normal</td>\n",
              "      <td>True</td>\n",
              "      <td>yes</td>\n",
              "    </tr>\n",
              "    <tr>\n",
              "      <th>7</th>\n",
              "      <td>sunny</td>\n",
              "      <td>mild</td>\n",
              "      <td>high</td>\n",
              "      <td>False</td>\n",
              "      <td>no</td>\n",
              "    </tr>\n",
              "    <tr>\n",
              "      <th>8</th>\n",
              "      <td>sunny</td>\n",
              "      <td>cool</td>\n",
              "      <td>normal</td>\n",
              "      <td>False</td>\n",
              "      <td>yes</td>\n",
              "    </tr>\n",
              "    <tr>\n",
              "      <th>9</th>\n",
              "      <td>rain</td>\n",
              "      <td>mild</td>\n",
              "      <td>normal</td>\n",
              "      <td>False</td>\n",
              "      <td>yes</td>\n",
              "    </tr>\n",
              "    <tr>\n",
              "      <th>10</th>\n",
              "      <td>sunny</td>\n",
              "      <td>mild</td>\n",
              "      <td>normal</td>\n",
              "      <td>True</td>\n",
              "      <td>yes</td>\n",
              "    </tr>\n",
              "    <tr>\n",
              "      <th>11</th>\n",
              "      <td>overcast</td>\n",
              "      <td>mild</td>\n",
              "      <td>high</td>\n",
              "      <td>True</td>\n",
              "      <td>yes</td>\n",
              "    </tr>\n",
              "    <tr>\n",
              "      <th>12</th>\n",
              "      <td>overcast</td>\n",
              "      <td>hot</td>\n",
              "      <td>normal</td>\n",
              "      <td>False</td>\n",
              "      <td>yes</td>\n",
              "    </tr>\n",
              "    <tr>\n",
              "      <th>13</th>\n",
              "      <td>rain</td>\n",
              "      <td>mild</td>\n",
              "      <td>high</td>\n",
              "      <td>True</td>\n",
              "      <td>no</td>\n",
              "    </tr>\n",
              "  </tbody>\n",
              "</table>\n",
              "</div>\n",
              "      <button class=\"colab-df-convert\" onclick=\"convertToInteractive('df-be07115a-849b-4a21-bd09-39b9f7510883')\"\n",
              "              title=\"Convert this dataframe to an interactive table.\"\n",
              "              style=\"display:none;\">\n",
              "        \n",
              "  <svg xmlns=\"http://www.w3.org/2000/svg\" height=\"24px\"viewBox=\"0 0 24 24\"\n",
              "       width=\"24px\">\n",
              "    <path d=\"M0 0h24v24H0V0z\" fill=\"none\"/>\n",
              "    <path d=\"M18.56 5.44l.94 2.06.94-2.06 2.06-.94-2.06-.94-.94-2.06-.94 2.06-2.06.94zm-11 1L8.5 8.5l.94-2.06 2.06-.94-2.06-.94L8.5 2.5l-.94 2.06-2.06.94zm10 10l.94 2.06.94-2.06 2.06-.94-2.06-.94-.94-2.06-.94 2.06-2.06.94z\"/><path d=\"M17.41 7.96l-1.37-1.37c-.4-.4-.92-.59-1.43-.59-.52 0-1.04.2-1.43.59L10.3 9.45l-7.72 7.72c-.78.78-.78 2.05 0 2.83L4 21.41c.39.39.9.59 1.41.59.51 0 1.02-.2 1.41-.59l7.78-7.78 2.81-2.81c.8-.78.8-2.07 0-2.86zM5.41 20L4 18.59l7.72-7.72 1.47 1.35L5.41 20z\"/>\n",
              "  </svg>\n",
              "      </button>\n",
              "      \n",
              "  <style>\n",
              "    .colab-df-container {\n",
              "      display:flex;\n",
              "      flex-wrap:wrap;\n",
              "      gap: 12px;\n",
              "    }\n",
              "\n",
              "    .colab-df-convert {\n",
              "      background-color: #E8F0FE;\n",
              "      border: none;\n",
              "      border-radius: 50%;\n",
              "      cursor: pointer;\n",
              "      display: none;\n",
              "      fill: #1967D2;\n",
              "      height: 32px;\n",
              "      padding: 0 0 0 0;\n",
              "      width: 32px;\n",
              "    }\n",
              "\n",
              "    .colab-df-convert:hover {\n",
              "      background-color: #E2EBFA;\n",
              "      box-shadow: 0px 1px 2px rgba(60, 64, 67, 0.3), 0px 1px 3px 1px rgba(60, 64, 67, 0.15);\n",
              "      fill: #174EA6;\n",
              "    }\n",
              "\n",
              "    [theme=dark] .colab-df-convert {\n",
              "      background-color: #3B4455;\n",
              "      fill: #D2E3FC;\n",
              "    }\n",
              "\n",
              "    [theme=dark] .colab-df-convert:hover {\n",
              "      background-color: #434B5C;\n",
              "      box-shadow: 0px 1px 3px 1px rgba(0, 0, 0, 0.15);\n",
              "      filter: drop-shadow(0px 1px 2px rgba(0, 0, 0, 0.3));\n",
              "      fill: #FFFFFF;\n",
              "    }\n",
              "  </style>\n",
              "\n",
              "      <script>\n",
              "        const buttonEl =\n",
              "          document.querySelector('#df-be07115a-849b-4a21-bd09-39b9f7510883 button.colab-df-convert');\n",
              "        buttonEl.style.display =\n",
              "          google.colab.kernel.accessAllowed ? 'block' : 'none';\n",
              "\n",
              "        async function convertToInteractive(key) {\n",
              "          const element = document.querySelector('#df-be07115a-849b-4a21-bd09-39b9f7510883');\n",
              "          const dataTable =\n",
              "            await google.colab.kernel.invokeFunction('convertToInteractive',\n",
              "                                                     [key], {});\n",
              "          if (!dataTable) return;\n",
              "\n",
              "          const docLinkHtml = 'Like what you see? Visit the ' +\n",
              "            '<a target=\"_blank\" href=https://colab.research.google.com/notebooks/data_table.ipynb>data table notebook</a>'\n",
              "            + ' to learn more about interactive tables.';\n",
              "          element.innerHTML = '';\n",
              "          dataTable['output_type'] = 'display_data';\n",
              "          await google.colab.output.renderOutput(dataTable, element);\n",
              "          const docLink = document.createElement('div');\n",
              "          docLink.innerHTML = docLinkHtml;\n",
              "          element.appendChild(docLink);\n",
              "        }\n",
              "      </script>\n",
              "    </div>\n",
              "  </div>\n",
              "  "
            ]
          },
          "metadata": {},
          "execution_count": 8
        }
      ]
    },
    {
      "cell_type": "code",
      "source": [
        "zlist=list(df.columns)"
      ],
      "metadata": {
        "id": "fmCXwMiNX0jQ"
      },
      "execution_count": null,
      "outputs": []
    },
    {
      "cell_type": "code",
      "source": [
        "zlist"
      ],
      "metadata": {
        "colab": {
          "base_uri": "https://localhost:8080/"
        },
        "id": "Av8BcB8nEWc5",
        "outputId": "3c13b54b-fe1a-4608-9ce3-93b0381586f4"
      },
      "execution_count": null,
      "outputs": [
        {
          "output_type": "execute_result",
          "data": {
            "text/plain": [
              "['outlook', 'temperature', 'humidity', 'windy', 'class']"
            ]
          },
          "metadata": {},
          "execution_count": 10
        }
      ]
    },
    {
      "cell_type": "markdown",
      "source": [
        "#to choose root node we first calculate gini index\n",
        "\n",
        "#what is gini index?\n",
        "\n",
        "Gini Index or Gini impurity measures the degree or probability of a particular variable being wrongly classified when it is randomly chosen.\n",
        "\n",
        "But what is actually meant by ‘impurity’?\n",
        "\n",
        "If all the elements belong to a single class, then it can be called pure. The degree of Gini Index varies between 0 and 1,\n",
        "\n",
        "where,\n",
        "'0' denotes that all elements belong to a certain class or there exists only one class (pure), and\n",
        "'1' denotes that the elements are randomly distributed across various classes (impure).\n",
        "\n",
        "A Gini Index of '0.5 'denotes equally distributed elements into some classes.\n",
        "\n",
        "NOte:REFER LINK EXAMPLE :https://blog.quantinsti.com/gini-index/\n",
        "\n",
        "https://blog.quantinsti.com/gini-index/"
      ],
      "metadata": {
        "id": "CiVjEQ6ZaluK"
      }
    },
    {
      "cell_type": "markdown",
      "source": [
        "#formaule\n",
        "![image.png](data:image/png;base64,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)"
      ],
      "metadata": {
        "id": "6C-BKXwMe2Tg"
      }
    },
    {
      "cell_type": "code",
      "source": [
        "def calculate_entropy(df_label):\n",
        "  #firstly to know how many classes and unique values from data set use np.unique\n",
        "  classes,counts=np.unique(df_label,return_counts=True)\n",
        "  entrop=0\n",
        "  #print(classes)\n",
        "  #print(counts)\n",
        "  for i in range(0,len(classes)):\n",
        "     k=(-1)*(counts[i]/np.sum(counts))*(np.log2(counts[i]/np.sum(counts)))\n",
        "    # print(k)\n",
        "     entrop=entrop+k\n",
        "  return entrop\n"
      ],
      "metadata": {
        "id": "MhY7n-AaY1R1"
      },
      "execution_count": null,
      "outputs": []
    },
    {
      "cell_type": "code",
      "source": [
        "print(\"entropy\")\n",
        "calculate_entropy(df['class'])"
      ],
      "metadata": {
        "colab": {
          "base_uri": "https://localhost:8080/"
        },
        "id": "oDbNgMdlhFPU",
        "outputId": "c49523ae-7513-413e-b6d8-c0b329748b67"
      },
      "execution_count": null,
      "outputs": [
        {
          "output_type": "stream",
          "name": "stdout",
          "text": [
            "entropy\n"
          ]
        },
        {
          "output_type": "execute_result",
          "data": {
            "text/plain": [
              "0.9402859586706311"
            ]
          },
          "metadata": {},
          "execution_count": 12
        }
      ]
    },
    {
      "cell_type": "markdown",
      "source": [
        "#information gain"
      ],
      "metadata": {
        "id": "ezi6RUkni60J"
      }
    },
    {
      "cell_type": "markdown",
      "source": [
        "# fromulae:\n",
        "![image.png](data:image/png;base64,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)\n",
        "\n",
        "\n",
        "![image.png](data:image/png;base64,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)"
      ],
      "metadata": {
        "id": "kraofp1Xkq1M"
      }
    },
    {
      "cell_type": "code",
      "source": [
        "def info_gainfunc(df,feature_l,label):# example(gain(df,glucose))\n",
        "     z=calculate_entropy(df[label])#enropy(dataset) done--->\n",
        "     classes,counts=np.unique(df[feature_l],return_counts=True)\n",
        "     #print(classes)\n",
        "     #print(counts)\n",
        "     #calculate feature entropy like windy true or false\n",
        "     #create dataframe for each\n",
        "     kz=0\n",
        "     entopy_feature=0\n",
        "     for i in range(0,len(classes)):\n",
        "              entopy_feature+=(counts[i]/np.sum(counts))*calculate_entropy(df.where(df[feature_l]==classes[i]).dropna()[label])\n",
        "     fz=z-entopy_feature\n",
        "     return fz"
      ],
      "metadata": {
        "id": "UTZcuOEci9oR"
      },
      "execution_count": null,
      "outputs": []
    },
    {
      "cell_type": "markdown",
      "source": [],
      "metadata": {
        "id": "7-rpHhj6r-V5"
      }
    },
    {
      "cell_type": "code",
      "source": [
        "info_gainfunc(df,'windy','class')"
      ],
      "metadata": {
        "colab": {
          "base_uri": "https://localhost:8080/"
        },
        "id": "cWfQJ2fBkNcV",
        "outputId": "823f4308-c643-400b-c99f-ad3c4d202949"
      },
      "execution_count": null,
      "outputs": [
        {
          "output_type": "execute_result",
          "data": {
            "text/plain": [
              "0.04812703040826949"
            ]
          },
          "metadata": {},
          "execution_count": 13
        }
      ]
    },
    {
      "cell_type": "code",
      "source": [
        "indofgaintab=pd.DataFrame(df.columns)"
      ],
      "metadata": {
        "id": "2QiTUaDwkpYs"
      },
      "execution_count": null,
      "outputs": []
    },
    {
      "cell_type": "code",
      "source": [
        "indofgaintab"
      ],
      "metadata": {
        "colab": {
          "base_uri": "https://localhost:8080/",
          "height": 206
        },
        "id": "hgv0I53K36bF",
        "outputId": "adc0aa80-88a7-4434-8907-eeb27649a812"
      },
      "execution_count": null,
      "outputs": [
        {
          "output_type": "execute_result",
          "data": {
            "text/plain": [
              "             0\n",
              "0      outlook\n",
              "1  temperature\n",
              "2     humidity\n",
              "3        windy\n",
              "4        class"
            ],
            "text/html": [
              "\n",
              "  <div id=\"df-bd48d1fe-c511-4550-a27a-15a2a639058e\">\n",
              "    <div class=\"colab-df-container\">\n",
              "      <div>\n",
              "<style scoped>\n",
              "    .dataframe tbody tr th:only-of-type {\n",
              "        vertical-align: middle;\n",
              "    }\n",
              "\n",
              "    .dataframe tbody tr th {\n",
              "        vertical-align: top;\n",
              "    }\n",
              "\n",
              "    .dataframe thead th {\n",
              "        text-align: right;\n",
              "    }\n",
              "</style>\n",
              "<table border=\"1\" class=\"dataframe\">\n",
              "  <thead>\n",
              "    <tr style=\"text-align: right;\">\n",
              "      <th></th>\n",
              "      <th>0</th>\n",
              "    </tr>\n",
              "  </thead>\n",
              "  <tbody>\n",
              "    <tr>\n",
              "      <th>0</th>\n",
              "      <td>outlook</td>\n",
              "    </tr>\n",
              "    <tr>\n",
              "      <th>1</th>\n",
              "      <td>temperature</td>\n",
              "    </tr>\n",
              "    <tr>\n",
              "      <th>2</th>\n",
              "      <td>humidity</td>\n",
              "    </tr>\n",
              "    <tr>\n",
              "      <th>3</th>\n",
              "      <td>windy</td>\n",
              "    </tr>\n",
              "    <tr>\n",
              "      <th>4</th>\n",
              "      <td>class</td>\n",
              "    </tr>\n",
              "  </tbody>\n",
              "</table>\n",
              "</div>\n",
              "      <button class=\"colab-df-convert\" onclick=\"convertToInteractive('df-bd48d1fe-c511-4550-a27a-15a2a639058e')\"\n",
              "              title=\"Convert this dataframe to an interactive table.\"\n",
              "              style=\"display:none;\">\n",
              "        \n",
              "  <svg xmlns=\"http://www.w3.org/2000/svg\" height=\"24px\"viewBox=\"0 0 24 24\"\n",
              "       width=\"24px\">\n",
              "    <path d=\"M0 0h24v24H0V0z\" fill=\"none\"/>\n",
              "    <path d=\"M18.56 5.44l.94 2.06.94-2.06 2.06-.94-2.06-.94-.94-2.06-.94 2.06-2.06.94zm-11 1L8.5 8.5l.94-2.06 2.06-.94-2.06-.94L8.5 2.5l-.94 2.06-2.06.94zm10 10l.94 2.06.94-2.06 2.06-.94-2.06-.94-.94-2.06-.94 2.06-2.06.94z\"/><path d=\"M17.41 7.96l-1.37-1.37c-.4-.4-.92-.59-1.43-.59-.52 0-1.04.2-1.43.59L10.3 9.45l-7.72 7.72c-.78.78-.78 2.05 0 2.83L4 21.41c.39.39.9.59 1.41.59.51 0 1.02-.2 1.41-.59l7.78-7.78 2.81-2.81c.8-.78.8-2.07 0-2.86zM5.41 20L4 18.59l7.72-7.72 1.47 1.35L5.41 20z\"/>\n",
              "  </svg>\n",
              "      </button>\n",
              "      \n",
              "  <style>\n",
              "    .colab-df-container {\n",
              "      display:flex;\n",
              "      flex-wrap:wrap;\n",
              "      gap: 12px;\n",
              "    }\n",
              "\n",
              "    .colab-df-convert {\n",
              "      background-color: #E8F0FE;\n",
              "      border: none;\n",
              "      border-radius: 50%;\n",
              "      cursor: pointer;\n",
              "      display: none;\n",
              "      fill: #1967D2;\n",
              "      height: 32px;\n",
              "      padding: 0 0 0 0;\n",
              "      width: 32px;\n",
              "    }\n",
              "\n",
              "    .colab-df-convert:hover {\n",
              "      background-color: #E2EBFA;\n",
              "      box-shadow: 0px 1px 2px rgba(60, 64, 67, 0.3), 0px 1px 3px 1px rgba(60, 64, 67, 0.15);\n",
              "      fill: #174EA6;\n",
              "    }\n",
              "\n",
              "    [theme=dark] .colab-df-convert {\n",
              "      background-color: #3B4455;\n",
              "      fill: #D2E3FC;\n",
              "    }\n",
              "\n",
              "    [theme=dark] .colab-df-convert:hover {\n",
              "      background-color: #434B5C;\n",
              "      box-shadow: 0px 1px 3px 1px rgba(0, 0, 0, 0.15);\n",
              "      filter: drop-shadow(0px 1px 2px rgba(0, 0, 0, 0.3));\n",
              "      fill: #FFFFFF;\n",
              "    }\n",
              "  </style>\n",
              "\n",
              "      <script>\n",
              "        const buttonEl =\n",
              "          document.querySelector('#df-bd48d1fe-c511-4550-a27a-15a2a639058e button.colab-df-convert');\n",
              "        buttonEl.style.display =\n",
              "          google.colab.kernel.accessAllowed ? 'block' : 'none';\n",
              "\n",
              "        async function convertToInteractive(key) {\n",
              "          const element = document.querySelector('#df-bd48d1fe-c511-4550-a27a-15a2a639058e');\n",
              "          const dataTable =\n",
              "            await google.colab.kernel.invokeFunction('convertToInteractive',\n",
              "                                                     [key], {});\n",
              "          if (!dataTable) return;\n",
              "\n",
              "          const docLinkHtml = 'Like what you see? Visit the ' +\n",
              "            '<a target=\"_blank\" href=https://colab.research.google.com/notebooks/data_table.ipynb>data table notebook</a>'\n",
              "            + ' to learn more about interactive tables.';\n",
              "          element.innerHTML = '';\n",
              "          dataTable['output_type'] = 'display_data';\n",
              "          await google.colab.output.renderOutput(dataTable, element);\n",
              "          const docLink = document.createElement('div');\n",
              "          docLink.innerHTML = docLinkHtml;\n",
              "          element.appendChild(docLink);\n",
              "        }\n",
              "      </script>\n",
              "    </div>\n",
              "  </div>\n",
              "  "
            ]
          },
          "metadata": {},
          "execution_count": 57
        }
      ]
    },
    {
      "cell_type": "code",
      "source": [
        "cls=df.columns\n",
        "infogain=[]\n",
        "d2={}\n",
        "for i in range(0,len(cls)-1):\n",
        "      z=info_gainfunc(df,cls[i],'class')\n",
        "      infogain.append(z)\n",
        "      d2.update({cls[i]:z})\n",
        "infogain.append('-')\n"
      ],
      "metadata": {
        "id": "5w0EqMlt39Vk"
      },
      "execution_count": null,
      "outputs": []
    },
    {
      "cell_type": "code",
      "source": [
        "indofgaintab['infogain']=infogain"
      ],
      "metadata": {
        "id": "WyOG09GS40t-"
      },
      "execution_count": null,
      "outputs": []
    },
    {
      "cell_type": "code",
      "source": [
        "indofgaintab"
      ],
      "metadata": {
        "colab": {
          "base_uri": "https://localhost:8080/",
          "height": 206
        },
        "id": "XSCk8iD75JA8",
        "outputId": "edf09864-0d9b-4d4c-9cd5-f85a585b67b1"
      },
      "execution_count": null,
      "outputs": [
        {
          "output_type": "execute_result",
          "data": {
            "text/plain": [
              "             0  infogain\n",
              "0      outlook   0.24675\n",
              "1  temperature  0.029223\n",
              "2     humidity  0.151836\n",
              "3        windy  0.048127\n",
              "4        class         -"
            ],
            "text/html": [
              "\n",
              "  <div id=\"df-99d0b98c-66a9-48bb-8883-cbbcc3544cea\">\n",
              "    <div class=\"colab-df-container\">\n",
              "      <div>\n",
              "<style scoped>\n",
              "    .dataframe tbody tr th:only-of-type {\n",
              "        vertical-align: middle;\n",
              "    }\n",
              "\n",
              "    .dataframe tbody tr th {\n",
              "        vertical-align: top;\n",
              "    }\n",
              "\n",
              "    .dataframe thead th {\n",
              "        text-align: right;\n",
              "    }\n",
              "</style>\n",
              "<table border=\"1\" class=\"dataframe\">\n",
              "  <thead>\n",
              "    <tr style=\"text-align: right;\">\n",
              "      <th></th>\n",
              "      <th>0</th>\n",
              "      <th>infogain</th>\n",
              "    </tr>\n",
              "  </thead>\n",
              "  <tbody>\n",
              "    <tr>\n",
              "      <th>0</th>\n",
              "      <td>outlook</td>\n",
              "      <td>0.24675</td>\n",
              "    </tr>\n",
              "    <tr>\n",
              "      <th>1</th>\n",
              "      <td>temperature</td>\n",
              "      <td>0.029223</td>\n",
              "    </tr>\n",
              "    <tr>\n",
              "      <th>2</th>\n",
              "      <td>humidity</td>\n",
              "      <td>0.151836</td>\n",
              "    </tr>\n",
              "    <tr>\n",
              "      <th>3</th>\n",
              "      <td>windy</td>\n",
              "      <td>0.048127</td>\n",
              "    </tr>\n",
              "    <tr>\n",
              "      <th>4</th>\n",
              "      <td>class</td>\n",
              "      <td>-</td>\n",
              "    </tr>\n",
              "  </tbody>\n",
              "</table>\n",
              "</div>\n",
              "      <button class=\"colab-df-convert\" onclick=\"convertToInteractive('df-99d0b98c-66a9-48bb-8883-cbbcc3544cea')\"\n",
              "              title=\"Convert this dataframe to an interactive table.\"\n",
              "              style=\"display:none;\">\n",
              "        \n",
              "  <svg xmlns=\"http://www.w3.org/2000/svg\" height=\"24px\"viewBox=\"0 0 24 24\"\n",
              "       width=\"24px\">\n",
              "    <path d=\"M0 0h24v24H0V0z\" fill=\"none\"/>\n",
              "    <path d=\"M18.56 5.44l.94 2.06.94-2.06 2.06-.94-2.06-.94-.94-2.06-.94 2.06-2.06.94zm-11 1L8.5 8.5l.94-2.06 2.06-.94-2.06-.94L8.5 2.5l-.94 2.06-2.06.94zm10 10l.94 2.06.94-2.06 2.06-.94-2.06-.94-.94-2.06-.94 2.06-2.06.94z\"/><path d=\"M17.41 7.96l-1.37-1.37c-.4-.4-.92-.59-1.43-.59-.52 0-1.04.2-1.43.59L10.3 9.45l-7.72 7.72c-.78.78-.78 2.05 0 2.83L4 21.41c.39.39.9.59 1.41.59.51 0 1.02-.2 1.41-.59l7.78-7.78 2.81-2.81c.8-.78.8-2.07 0-2.86zM5.41 20L4 18.59l7.72-7.72 1.47 1.35L5.41 20z\"/>\n",
              "  </svg>\n",
              "      </button>\n",
              "      \n",
              "  <style>\n",
              "    .colab-df-container {\n",
              "      display:flex;\n",
              "      flex-wrap:wrap;\n",
              "      gap: 12px;\n",
              "    }\n",
              "\n",
              "    .colab-df-convert {\n",
              "      background-color: #E8F0FE;\n",
              "      border: none;\n",
              "      border-radius: 50%;\n",
              "      cursor: pointer;\n",
              "      display: none;\n",
              "      fill: #1967D2;\n",
              "      height: 32px;\n",
              "      padding: 0 0 0 0;\n",
              "      width: 32px;\n",
              "    }\n",
              "\n",
              "    .colab-df-convert:hover {\n",
              "      background-color: #E2EBFA;\n",
              "      box-shadow: 0px 1px 2px rgba(60, 64, 67, 0.3), 0px 1px 3px 1px rgba(60, 64, 67, 0.15);\n",
              "      fill: #174EA6;\n",
              "    }\n",
              "\n",
              "    [theme=dark] .colab-df-convert {\n",
              "      background-color: #3B4455;\n",
              "      fill: #D2E3FC;\n",
              "    }\n",
              "\n",
              "    [theme=dark] .colab-df-convert:hover {\n",
              "      background-color: #434B5C;\n",
              "      box-shadow: 0px 1px 3px 1px rgba(0, 0, 0, 0.15);\n",
              "      filter: drop-shadow(0px 1px 2px rgba(0, 0, 0, 0.3));\n",
              "      fill: #FFFFFF;\n",
              "    }\n",
              "  </style>\n",
              "\n",
              "      <script>\n",
              "        const buttonEl =\n",
              "          document.querySelector('#df-99d0b98c-66a9-48bb-8883-cbbcc3544cea button.colab-df-convert');\n",
              "        buttonEl.style.display =\n",
              "          google.colab.kernel.accessAllowed ? 'block' : 'none';\n",
              "\n",
              "        async function convertToInteractive(key) {\n",
              "          const element = document.querySelector('#df-99d0b98c-66a9-48bb-8883-cbbcc3544cea');\n",
              "          const dataTable =\n",
              "            await google.colab.kernel.invokeFunction('convertToInteractive',\n",
              "                                                     [key], {});\n",
              "          if (!dataTable) return;\n",
              "\n",
              "          const docLinkHtml = 'Like what you see? Visit the ' +\n",
              "            '<a target=\"_blank\" href=https://colab.research.google.com/notebooks/data_table.ipynb>data table notebook</a>'\n",
              "            + ' to learn more about interactive tables.';\n",
              "          element.innerHTML = '';\n",
              "          dataTable['output_type'] = 'display_data';\n",
              "          await google.colab.output.renderOutput(dataTable, element);\n",
              "          const docLink = document.createElement('div');\n",
              "          docLink.innerHTML = docLinkHtml;\n",
              "          element.appendChild(docLink);\n",
              "        }\n",
              "      </script>\n",
              "    </div>\n",
              "  </div>\n",
              "  "
            ]
          },
          "metadata": {},
          "execution_count": 65
        }
      ]
    },
    {
      "cell_type": "code",
      "source": [
        "d2"
      ],
      "metadata": {
        "colab": {
          "base_uri": "https://localhost:8080/"
        },
        "id": "xl8TTT17_XaF",
        "outputId": "212d1af9-76fa-430a-9af9-680924e2a6a6"
      },
      "execution_count": null,
      "outputs": [
        {
          "output_type": "execute_result",
          "data": {
            "text/plain": [
              "{'outlook': 0.24674981977443933,\n",
              " 'temperature': 0.02922256565895487,\n",
              " 'humidity': 0.15183550136234159,\n",
              " 'windy': 0.04812703040826949}"
            ]
          },
          "metadata": {},
          "execution_count": 17
        }
      ]
    },
    {
      "cell_type": "code",
      "source": [
        "def max_infogain(d2):\n",
        "          Keymax = max(zip(d2.values(), d2.keys()))[1]\n",
        "          return Keymax"
      ],
      "metadata": {
        "id": "XA_dZQj1_iEl"
      },
      "execution_count": null,
      "outputs": []
    },
    {
      "cell_type": "code",
      "source": [
        "def entropy_labs(ds,labd,df):\n",
        "  z=df.iloc(df[ds]==labd)\n",
        "  return z"
      ],
      "metadata": {
        "id": "so7eYTJpHVRF"
      },
      "execution_count": null,
      "outputs": []
    },
    {
      "cell_type": "code",
      "source": [
        "def check_root(d):\n",
        "  if not d:\n",
        "     print(\"root null\")\n",
        "  else:\n",
        "    print(\"not null\")"
      ],
      "metadata": {
        "id": "2FTZraI9u2Xz"
      },
      "execution_count": null,
      "outputs": []
    },
    {
      "cell_type": "code",
      "source": [
        "def select_root(d2,df):\n",
        "  Keymax = max(zip(d2.values(), d2.keys()))[1]\n",
        "  return Keymax"
      ],
      "metadata": {
        "id": "ngZOxzmGvdGk"
      },
      "execution_count": null,
      "outputs": []
    },
    {
      "cell_type": "code",
      "source": [],
      "metadata": {
        "id": "hyvohcYr4stN"
      },
      "execution_count": null,
      "outputs": []
    },
    {
      "cell_type": "code",
      "source": [
        "print(z)"
      ],
      "metadata": {
        "colab": {
          "base_uri": "https://localhost:8080/"
        },
        "id": "Wn6ogjwZ5XlG",
        "outputId": "1d1c2e6d-f9df-4cba-8d07-bbc2f54aaef9"
      },
      "execution_count": null,
      "outputs": [
        {
          "output_type": "stream",
          "name": "stdout",
          "text": [
            "outlook        2\n",
            "temperature    2\n",
            "humidity       2\n",
            "windy          2\n",
            "class          2\n",
            "dtype: int64\n"
          ]
        }
      ]
    },
    {
      "cell_type": "code",
      "source": [],
      "metadata": {
        "id": "ArcXJfe99UCe"
      },
      "execution_count": null,
      "outputs": []
    },
    {
      "cell_type": "code",
      "source": [
        "def calculateallyes(cls,gf,df):\n",
        "   z=df.loc[(df[cls]==gf) &  (df['class']==\"yes\")].index.to_list()\n",
        "   zx=len(z)\n",
        "   z1=df.loc[(df[cls]==gf)].index.to_list()\n",
        "   zy=len(z1)\n",
        "   if(zx==zy):\n",
        "    print(\"ALL YES\")\n",
        "    return 1\n",
        "   else:\n",
        "    return 0\n",
        "\n"
      ],
      "metadata": {
        "id": "jPlBQToEzUBL"
      },
      "execution_count": null,
      "outputs": []
    },
    {
      "cell_type": "code",
      "source": [
        "def calculateallno(cls,gf,df):\n",
        "   z=df.loc[(df[cls]==gf) &  (df['class']==\"no\")].index.to_list()\n",
        "   zx=len(z)\n",
        "   z1=df.loc[(df[cls]==gf)].index.to_list()\n",
        "   zy=len(z1)\n",
        "   if(zx==zy):\n",
        "    print(\"ALL no\")\n",
        "    return 1\n",
        "   else:\n",
        "    return 0"
      ],
      "metadata": {
        "id": "B15o_C5c-YKy"
      },
      "execution_count": null,
      "outputs": []
    },
    {
      "cell_type": "code",
      "source": [
        "z=df.loc[(df[cls]==gf) &  (df['class']==\"no\")].index.to_list()\n",
        "zx=len(z)\n",
        "z1=df.loc[(df[cls]==gf)].index.to_list()\n",
        "zy=len(z1)"
      ],
      "metadata": {
        "id": "3IsDCTGHGwGl"
      },
      "execution_count": null,
      "outputs": []
    },
    {
      "cell_type": "code",
      "source": [],
      "metadata": {
        "colab": {
          "base_uri": "https://localhost:8080/"
        },
        "id": "bDY-TN7E8-nl",
        "outputId": "e53d4371-7104-4331-f2fc-ec95729e010f"
      },
      "execution_count": null,
      "outputs": [
        {
          "output_type": "stream",
          "name": "stdout",
          "text": [
            "ALL YES\n"
          ]
        },
        {
          "output_type": "execute_result",
          "data": {
            "text/plain": [
              "1"
            ]
          },
          "metadata": {},
          "execution_count": 157
        }
      ]
    },
    {
      "cell_type": "code",
      "source": [
        "l=['outlook','rain','suny']\n",
        "del l[0]\n",
        "l"
      ],
      "metadata": {
        "colab": {
          "base_uri": "https://localhost:8080/"
        },
        "id": "-QcS9cJ0JYoA",
        "outputId": "975eb7c6-8b8c-4698-e274-a36ee7458f2f"
      },
      "execution_count": null,
      "outputs": [
        {
          "output_type": "execute_result",
          "data": {
            "text/plain": [
              "['rain', 'suny']"
            ]
          },
          "metadata": {},
          "execution_count": 248
        }
      ]
    },
    {
      "cell_type": "code",
      "source": [
        "def calculate_nextattribute(clsx,u,df):\n",
        "  l=list(df.columns)\n",
        "  print(l)\n",
        "  print(clsx)\n",
        "  z=l.index(cls)\n",
        "  del l[z]\n",
        "  print(l)\n",
        "\n",
        "\n"
      ],
      "metadata": {
        "id": "E-aEayqh_pm4"
      },
      "execution_count": null,
      "outputs": []
    },
    {
      "cell_type": "code",
      "source": [
        "#select the root with most information gain and keep it as set\n",
        "def decisiontree(d,d2,df):\n",
        "      if not d:\n",
        "          root=select_root(d2,df)\n",
        "          return root\n",
        "      else:\n",
        "             z=list(d.keys())[-1]\n",
        "             print(z)\n",
        "             ut=d[z]\n",
        "             for i in ut:\n",
        "              #calculate all yes\n",
        "                  fg=calculateallyes(z,i,df)\n",
        "                  fgd=calculateallno(z,i,df)\n",
        "                  if(fg==1):\n",
        "                    d.update({i:\"yes\"})\n",
        "                    continue\n",
        "                  elif(fgd==1):\n",
        "                     d.update({i:\"no\"})\n",
        "                     continue\n",
        "                  else:\n",
        "                    print(i)\n",
        "                    tf=calculate_nextattribute(z,i,df)\n",
        "\n",
        "\n",
        "\n",
        "\n",
        "\n",
        "\n",
        "              #calculate all no\n",
        "              #calculate information gain for all other attributes except z[j]\n",
        "\n",
        "\n"
      ],
      "metadata": {
        "id": "hK8P8-x54cuj"
      },
      "execution_count": null,
      "outputs": []
    },
    {
      "cell_type": "code",
      "source": [
        "sf=decisiontree({},d2,df)\n",
        "print(sf)"
      ],
      "metadata": {
        "colab": {
          "base_uri": "https://localhost:8080/"
        },
        "id": "nrZ9qQ-qGpwa",
        "outputId": "bfec297c-2559-48fc-c88a-f804acd27e8c"
      },
      "execution_count": null,
      "outputs": [
        {
          "output_type": "stream",
          "name": "stdout",
          "text": [
            "outlook\n"
          ]
        }
      ]
    },
    {
      "cell_type": "code",
      "source": [
        "tree={}\n",
        "values, counts = np.unique(np.array(df[sf]), return_counts=True)"
      ],
      "metadata": {
        "id": "m7EMOU1TwWyL"
      },
      "execution_count": null,
      "outputs": []
    },
    {
      "cell_type": "code",
      "source": [
        "print(values)"
      ],
      "metadata": {
        "colab": {
          "base_uri": "https://localhost:8080/"
        },
        "id": "-DolgwHbxbDb",
        "outputId": "1f80edd7-e3f0-478c-cb83-0ccab5ccac71"
      },
      "execution_count": null,
      "outputs": [
        {
          "output_type": "stream",
          "name": "stdout",
          "text": [
            "['overcast' 'rain' 'sunny']\n"
          ]
        }
      ]
    },
    {
      "cell_type": "code",
      "source": [
        "tree.update({sf:list(values)})"
      ],
      "metadata": {
        "id": "lppd5tXcxehK"
      },
      "execution_count": null,
      "outputs": []
    },
    {
      "cell_type": "code",
      "source": [
        "tree"
      ],
      "metadata": {
        "colab": {
          "base_uri": "https://localhost:8080/"
        },
        "id": "HcuFIjNtxjlr",
        "outputId": "027c95e6-611c-4662-d2aa-e5d722f77f55"
      },
      "execution_count": null,
      "outputs": [
        {
          "output_type": "execute_result",
          "data": {
            "text/plain": [
              "{'outlook': ['overcast', 'rain', 'sunny']}"
            ]
          },
          "metadata": {},
          "execution_count": 287
        }
      ]
    },
    {
      "cell_type": "code",
      "source": [
        "decisiontree(tree,d2,df)"
      ],
      "metadata": {
        "colab": {
          "base_uri": "https://localhost:8080/",
          "height": 519
        },
        "id": "XctfiSgk0YBT",
        "outputId": "955fc80d-e6a5-48bc-e723-6e089be3927c"
      },
      "execution_count": null,
      "outputs": [
        {
          "output_type": "stream",
          "name": "stdout",
          "text": [
            "overcast\n"
          ]
        },
        {
          "output_type": "error",
          "ename": "KeyError",
          "evalue": "ignored",
          "traceback": [
            "\u001b[0;31m---------------------------------------------------------------------------\u001b[0m",
            "\u001b[0;31mKeyError\u001b[0m                                  Traceback (most recent call last)",
            "\u001b[0;32m/usr/local/lib/python3.10/dist-packages/pandas/core/indexes/base.py\u001b[0m in \u001b[0;36mget_loc\u001b[0;34m(self, key, method, tolerance)\u001b[0m\n\u001b[1;32m   3801\u001b[0m             \u001b[0;32mtry\u001b[0m\u001b[0;34m:\u001b[0m\u001b[0;34m\u001b[0m\u001b[0;34m\u001b[0m\u001b[0m\n\u001b[0;32m-> 3802\u001b[0;31m                 \u001b[0;32mreturn\u001b[0m \u001b[0mself\u001b[0m\u001b[0;34m.\u001b[0m\u001b[0m_engine\u001b[0m\u001b[0;34m.\u001b[0m\u001b[0mget_loc\u001b[0m\u001b[0;34m(\u001b[0m\u001b[0mcasted_key\u001b[0m\u001b[0;34m)\u001b[0m\u001b[0;34m\u001b[0m\u001b[0;34m\u001b[0m\u001b[0m\n\u001b[0m\u001b[1;32m   3803\u001b[0m             \u001b[0;32mexcept\u001b[0m \u001b[0mKeyError\u001b[0m \u001b[0;32mas\u001b[0m \u001b[0merr\u001b[0m\u001b[0;34m:\u001b[0m\u001b[0;34m\u001b[0m\u001b[0;34m\u001b[0m\u001b[0m\n",
            "\u001b[0;32m/usr/local/lib/python3.10/dist-packages/pandas/_libs/index.pyx\u001b[0m in \u001b[0;36mpandas._libs.index.IndexEngine.get_loc\u001b[0;34m()\u001b[0m\n",
            "\u001b[0;32m/usr/local/lib/python3.10/dist-packages/pandas/_libs/index.pyx\u001b[0m in \u001b[0;36mpandas._libs.index.IndexEngine.get_loc\u001b[0;34m()\u001b[0m\n",
            "\u001b[0;32mpandas/_libs/hashtable_class_helper.pxi\u001b[0m in \u001b[0;36mpandas._libs.hashtable.PyObjectHashTable.get_item\u001b[0;34m()\u001b[0m\n",
            "\u001b[0;32mpandas/_libs/hashtable_class_helper.pxi\u001b[0m in \u001b[0;36mpandas._libs.hashtable.PyObjectHashTable.get_item\u001b[0;34m()\u001b[0m\n",
            "\u001b[0;31mKeyError\u001b[0m: 'overcast'",
            "\nThe above exception was the direct cause of the following exception:\n",
            "\u001b[0;31mKeyError\u001b[0m                                  Traceback (most recent call last)",
            "\u001b[0;32m<ipython-input-291-eafb7c5756dd>\u001b[0m in \u001b[0;36m<cell line: 1>\u001b[0;34m()\u001b[0m\n\u001b[0;32m----> 1\u001b[0;31m \u001b[0mdecisiontree\u001b[0m\u001b[0;34m(\u001b[0m\u001b[0mtree\u001b[0m\u001b[0;34m,\u001b[0m\u001b[0md2\u001b[0m\u001b[0;34m,\u001b[0m\u001b[0mdf\u001b[0m\u001b[0;34m)\u001b[0m\u001b[0;34m\u001b[0m\u001b[0;34m\u001b[0m\u001b[0m\n\u001b[0m",
            "\u001b[0;32m<ipython-input-290-0b8982bc3ae9>\u001b[0m in \u001b[0;36mdecisiontree\u001b[0;34m(d, d2, df)\u001b[0m\n\u001b[1;32m     10\u001b[0m              \u001b[0;32mfor\u001b[0m \u001b[0mi\u001b[0m \u001b[0;32min\u001b[0m \u001b[0mut\u001b[0m\u001b[0;34m:\u001b[0m\u001b[0;34m\u001b[0m\u001b[0;34m\u001b[0m\u001b[0m\n\u001b[1;32m     11\u001b[0m               \u001b[0;31m#calculate all yes\u001b[0m\u001b[0;34m\u001b[0m\u001b[0;34m\u001b[0m\u001b[0m\n\u001b[0;32m---> 12\u001b[0;31m                   \u001b[0mfg\u001b[0m\u001b[0;34m=\u001b[0m\u001b[0mcalculateallyes\u001b[0m\u001b[0;34m(\u001b[0m\u001b[0mz\u001b[0m\u001b[0;34m,\u001b[0m\u001b[0mi\u001b[0m\u001b[0;34m,\u001b[0m\u001b[0mdf\u001b[0m\u001b[0;34m)\u001b[0m\u001b[0;34m\u001b[0m\u001b[0;34m\u001b[0m\u001b[0m\n\u001b[0m\u001b[1;32m     13\u001b[0m                   \u001b[0mfgd\u001b[0m\u001b[0;34m=\u001b[0m\u001b[0mcalculateallno\u001b[0m\u001b[0;34m(\u001b[0m\u001b[0mz\u001b[0m\u001b[0;34m,\u001b[0m\u001b[0mi\u001b[0m\u001b[0;34m,\u001b[0m\u001b[0mdf\u001b[0m\u001b[0;34m)\u001b[0m\u001b[0;34m\u001b[0m\u001b[0;34m\u001b[0m\u001b[0m\n\u001b[1;32m     14\u001b[0m                   \u001b[0;32mif\u001b[0m\u001b[0;34m(\u001b[0m\u001b[0mfg\u001b[0m\u001b[0;34m==\u001b[0m\u001b[0;36m1\u001b[0m\u001b[0;34m)\u001b[0m\u001b[0;34m:\u001b[0m\u001b[0;34m\u001b[0m\u001b[0;34m\u001b[0m\u001b[0m\n",
            "\u001b[0;32m<ipython-input-156-22cbdb248ca4>\u001b[0m in \u001b[0;36mcalculateallyes\u001b[0;34m(cls, gf, df)\u001b[0m\n\u001b[1;32m      1\u001b[0m \u001b[0;32mdef\u001b[0m \u001b[0mcalculateallyes\u001b[0m\u001b[0;34m(\u001b[0m\u001b[0mcls\u001b[0m\u001b[0;34m,\u001b[0m\u001b[0mgf\u001b[0m\u001b[0;34m,\u001b[0m\u001b[0mdf\u001b[0m\u001b[0;34m)\u001b[0m\u001b[0;34m:\u001b[0m\u001b[0;34m\u001b[0m\u001b[0;34m\u001b[0m\u001b[0m\n\u001b[0;32m----> 2\u001b[0;31m    \u001b[0mz\u001b[0m\u001b[0;34m=\u001b[0m\u001b[0mdf\u001b[0m\u001b[0;34m.\u001b[0m\u001b[0mloc\u001b[0m\u001b[0;34m[\u001b[0m\u001b[0;34m(\u001b[0m\u001b[0mdf\u001b[0m\u001b[0;34m[\u001b[0m\u001b[0mcls\u001b[0m\u001b[0;34m]\u001b[0m\u001b[0;34m==\u001b[0m\u001b[0mgf\u001b[0m\u001b[0;34m)\u001b[0m \u001b[0;34m&\u001b[0m  \u001b[0;34m(\u001b[0m\u001b[0mdf\u001b[0m\u001b[0;34m[\u001b[0m\u001b[0;34m'class'\u001b[0m\u001b[0;34m]\u001b[0m\u001b[0;34m==\u001b[0m\u001b[0;34m\"yes\"\u001b[0m\u001b[0;34m)\u001b[0m\u001b[0;34m]\u001b[0m\u001b[0;34m.\u001b[0m\u001b[0mindex\u001b[0m\u001b[0;34m.\u001b[0m\u001b[0mto_list\u001b[0m\u001b[0;34m(\u001b[0m\u001b[0;34m)\u001b[0m\u001b[0;34m\u001b[0m\u001b[0;34m\u001b[0m\u001b[0m\n\u001b[0m\u001b[1;32m      3\u001b[0m    \u001b[0mzx\u001b[0m\u001b[0;34m=\u001b[0m\u001b[0mlen\u001b[0m\u001b[0;34m(\u001b[0m\u001b[0mz\u001b[0m\u001b[0;34m)\u001b[0m\u001b[0;34m\u001b[0m\u001b[0;34m\u001b[0m\u001b[0m\n\u001b[1;32m      4\u001b[0m    \u001b[0mz1\u001b[0m\u001b[0;34m=\u001b[0m\u001b[0mdf\u001b[0m\u001b[0;34m.\u001b[0m\u001b[0mloc\u001b[0m\u001b[0;34m[\u001b[0m\u001b[0;34m(\u001b[0m\u001b[0mdf\u001b[0m\u001b[0;34m[\u001b[0m\u001b[0mcls\u001b[0m\u001b[0;34m]\u001b[0m\u001b[0;34m==\u001b[0m\u001b[0mgf\u001b[0m\u001b[0;34m)\u001b[0m\u001b[0;34m]\u001b[0m\u001b[0;34m.\u001b[0m\u001b[0mindex\u001b[0m\u001b[0;34m.\u001b[0m\u001b[0mto_list\u001b[0m\u001b[0;34m(\u001b[0m\u001b[0;34m)\u001b[0m\u001b[0;34m\u001b[0m\u001b[0;34m\u001b[0m\u001b[0m\n\u001b[1;32m      5\u001b[0m    \u001b[0mzy\u001b[0m\u001b[0;34m=\u001b[0m\u001b[0mlen\u001b[0m\u001b[0;34m(\u001b[0m\u001b[0mz1\u001b[0m\u001b[0;34m)\u001b[0m\u001b[0;34m\u001b[0m\u001b[0;34m\u001b[0m\u001b[0m\n",
            "\u001b[0;32m/usr/local/lib/python3.10/dist-packages/pandas/core/frame.py\u001b[0m in \u001b[0;36m__getitem__\u001b[0;34m(self, key)\u001b[0m\n\u001b[1;32m   3805\u001b[0m             \u001b[0;32mif\u001b[0m \u001b[0mself\u001b[0m\u001b[0;34m.\u001b[0m\u001b[0mcolumns\u001b[0m\u001b[0;34m.\u001b[0m\u001b[0mnlevels\u001b[0m \u001b[0;34m>\u001b[0m \u001b[0;36m1\u001b[0m\u001b[0;34m:\u001b[0m\u001b[0;34m\u001b[0m\u001b[0;34m\u001b[0m\u001b[0m\n\u001b[1;32m   3806\u001b[0m                 \u001b[0;32mreturn\u001b[0m \u001b[0mself\u001b[0m\u001b[0;34m.\u001b[0m\u001b[0m_getitem_multilevel\u001b[0m\u001b[0;34m(\u001b[0m\u001b[0mkey\u001b[0m\u001b[0;34m)\u001b[0m\u001b[0;34m\u001b[0m\u001b[0;34m\u001b[0m\u001b[0m\n\u001b[0;32m-> 3807\u001b[0;31m             \u001b[0mindexer\u001b[0m \u001b[0;34m=\u001b[0m \u001b[0mself\u001b[0m\u001b[0;34m.\u001b[0m\u001b[0mcolumns\u001b[0m\u001b[0;34m.\u001b[0m\u001b[0mget_loc\u001b[0m\u001b[0;34m(\u001b[0m\u001b[0mkey\u001b[0m\u001b[0;34m)\u001b[0m\u001b[0;34m\u001b[0m\u001b[0;34m\u001b[0m\u001b[0m\n\u001b[0m\u001b[1;32m   3808\u001b[0m             \u001b[0;32mif\u001b[0m \u001b[0mis_integer\u001b[0m\u001b[0;34m(\u001b[0m\u001b[0mindexer\u001b[0m\u001b[0;34m)\u001b[0m\u001b[0;34m:\u001b[0m\u001b[0;34m\u001b[0m\u001b[0;34m\u001b[0m\u001b[0m\n\u001b[1;32m   3809\u001b[0m                 \u001b[0mindexer\u001b[0m \u001b[0;34m=\u001b[0m \u001b[0;34m[\u001b[0m\u001b[0mindexer\u001b[0m\u001b[0;34m]\u001b[0m\u001b[0;34m\u001b[0m\u001b[0;34m\u001b[0m\u001b[0m\n",
            "\u001b[0;32m/usr/local/lib/python3.10/dist-packages/pandas/core/indexes/base.py\u001b[0m in \u001b[0;36mget_loc\u001b[0;34m(self, key, method, tolerance)\u001b[0m\n\u001b[1;32m   3802\u001b[0m                 \u001b[0;32mreturn\u001b[0m \u001b[0mself\u001b[0m\u001b[0;34m.\u001b[0m\u001b[0m_engine\u001b[0m\u001b[0;34m.\u001b[0m\u001b[0mget_loc\u001b[0m\u001b[0;34m(\u001b[0m\u001b[0mcasted_key\u001b[0m\u001b[0;34m)\u001b[0m\u001b[0;34m\u001b[0m\u001b[0;34m\u001b[0m\u001b[0m\n\u001b[1;32m   3803\u001b[0m             \u001b[0;32mexcept\u001b[0m \u001b[0mKeyError\u001b[0m \u001b[0;32mas\u001b[0m \u001b[0merr\u001b[0m\u001b[0;34m:\u001b[0m\u001b[0;34m\u001b[0m\u001b[0;34m\u001b[0m\u001b[0m\n\u001b[0;32m-> 3804\u001b[0;31m                 \u001b[0;32mraise\u001b[0m \u001b[0mKeyError\u001b[0m\u001b[0;34m(\u001b[0m\u001b[0mkey\u001b[0m\u001b[0;34m)\u001b[0m \u001b[0;32mfrom\u001b[0m \u001b[0merr\u001b[0m\u001b[0;34m\u001b[0m\u001b[0;34m\u001b[0m\u001b[0m\n\u001b[0m\u001b[1;32m   3805\u001b[0m             \u001b[0;32mexcept\u001b[0m \u001b[0mTypeError\u001b[0m\u001b[0;34m:\u001b[0m\u001b[0;34m\u001b[0m\u001b[0;34m\u001b[0m\u001b[0m\n\u001b[1;32m   3806\u001b[0m                 \u001b[0;31m# If we have a listlike key, _check_indexing_error will raise\u001b[0m\u001b[0;34m\u001b[0m\u001b[0;34m\u001b[0m\u001b[0m\n",
            "\u001b[0;31mKeyError\u001b[0m: 'overcast'"
          ]
        }
      ]
    }
  ],
  "metadata": {
    "colab": {
      "provenance": [],
      "include_colab_link": true
    },
    "kernelspec": {
      "display_name": "Python 3",
      "name": "python3"
    },
    "language_info": {
      "name": "python"
    }
  },
  "nbformat": 4,
  "nbformat_minor": 0
}